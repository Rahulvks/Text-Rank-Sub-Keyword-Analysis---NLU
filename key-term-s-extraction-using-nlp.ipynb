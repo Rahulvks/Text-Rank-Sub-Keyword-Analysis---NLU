{
 "cells": [
  {
   "cell_type": "code",
   "execution_count": 1,
   "metadata": {
    "_cell_guid": "b1076dfc-b9ad-4769-8c92-a6c4dae69d19",
    "_uuid": "8f2839f25d086af736a60e9eeb907d3b93b6e0e5"
   },
   "outputs": [
    {
     "name": "stdout",
     "output_type": "stream",
     "text": [
      "/kaggle/input/tweet-sentiment-extraction/train.csv\n",
      "/kaggle/input/tweet-sentiment-extraction/test.csv\n",
      "/kaggle/input/tweet-sentiment-extraction/sample_submission.csv\n"
     ]
    }
   ],
   "source": [
    "# This Python 3 environment comes with many helpful analytics libraries installed\n",
    "# It is defined by the kaggle/python docker image: https://github.com/kaggle/docker-python\n",
    "# For example, here's several helpful packages to load in \n",
    "\n",
    "import numpy as np # linear algebra\n",
    "import pandas as pd # data processing, CSV file I/O (e.g. pd.read_csv)\n",
    "\n",
    "# Input data files are available in the \"../input/\" directory.\n",
    "# For example, running this (by clicking run or pressing Shift+Enter) will list all files under the input directory\n",
    "\n",
    "import os\n",
    "for dirname, _, filenames in os.walk('/kaggle/input'):\n",
    "    for filename in filenames:\n",
    "        print(os.path.join(dirname, filename))\n",
    "\n",
    "# Any results you write to the current directory are saved as output."
   ]
  },
  {
   "cell_type": "code",
   "execution_count": 2,
   "metadata": {
    "_cell_guid": "79c7e3d0-c299-4dcb-8224-4455121ee9b0",
    "_uuid": "d629ff2d2480ee46fbb7e2d37f6b5fab8052498a"
   },
   "outputs": [],
   "source": [
    "df = pd.read_csv(\"/kaggle/input/tweet-sentiment-extraction/train.csv\").astype(str)\n",
    "test = pd.read_csv(\"/kaggle/input/tweet-sentiment-extraction/test.csv\").astype(str)\n",
    "submission = pd.read_csv(\"/kaggle/input/tweet-sentiment-extraction/sample_submission.csv\").astype(str)\n"
   ]
  },
  {
   "cell_type": "code",
   "execution_count": 3,
   "metadata": {},
   "outputs": [
    {
     "name": "stdout",
     "output_type": "stream",
     "text": [
      "Collecting rake_nltk\r\n",
      "  Downloading rake_nltk-1.0.4.tar.gz (7.6 kB)\r\n",
      "Requirement already satisfied: nltk in /opt/conda/lib/python3.6/site-packages (from rake_nltk) (3.2.4)\r\n",
      "Requirement already satisfied: six in /opt/conda/lib/python3.6/site-packages (from nltk->rake_nltk) (1.14.0)\r\n",
      "Building wheels for collected packages: rake-nltk\r\n",
      "  Building wheel for rake-nltk (setup.py) ... \u001b[?25l-\b \b\\\b \b|\b \b/\b \bdone\r\n",
      "\u001b[?25h  Created wheel for rake-nltk: filename=rake_nltk-1.0.4-py2.py3-none-any.whl size=7819 sha256=675f64a7d2e3e0851fab9c29c22c95b11716f016f0a652001dc56ba552fe0499\r\n",
      "  Stored in directory: /root/.cache/pip/wheels/ad/4f/6b/a5e7778f5c084d8b7c2c5fe9d37eb806f5ff5fee5e8ee17342\r\n",
      "Successfully built rake-nltk\r\n",
      "Installing collected packages: rake-nltk\r\n",
      "Successfully installed rake-nltk-1.0.4\r\n",
      "Collecting pytextrank\r\n",
      "  Downloading pytextrank-2.0.1-py3-none-any.whl (10 kB)\r\n",
      "Requirement already satisfied: networkx in /opt/conda/lib/python3.6/site-packages (from pytextrank) (2.4)\r\n",
      "Requirement already satisfied: spacy in /opt/conda/lib/python3.6/site-packages (from pytextrank) (2.2.3)\r\n",
      "Requirement already satisfied: graphviz in /opt/conda/lib/python3.6/site-packages (from pytextrank) (0.8.4)\r\n",
      "Requirement already satisfied: coverage in /opt/conda/lib/python3.6/site-packages (from pytextrank) (5.0.3)\r\n",
      "Requirement already satisfied: decorator>=4.3.0 in /opt/conda/lib/python3.6/site-packages (from networkx->pytextrank) (4.4.1)\r\n",
      "Requirement already satisfied: murmurhash<1.1.0,>=0.28.0 in /opt/conda/lib/python3.6/site-packages (from spacy->pytextrank) (1.0.2)\r\n",
      "Requirement already satisfied: requests<3.0.0,>=2.13.0 in /opt/conda/lib/python3.6/site-packages (from spacy->pytextrank) (2.22.0)\r\n",
      "Requirement already satisfied: preshed<3.1.0,>=3.0.2 in /opt/conda/lib/python3.6/site-packages (from spacy->pytextrank) (3.0.2)\r\n",
      "Requirement already satisfied: numpy>=1.15.0 in /opt/conda/lib/python3.6/site-packages (from spacy->pytextrank) (1.18.1)\r\n",
      "Requirement already satisfied: catalogue<1.1.0,>=0.0.7 in /opt/conda/lib/python3.6/site-packages (from spacy->pytextrank) (1.0.0)\r\n",
      "Requirement already satisfied: blis<0.5.0,>=0.4.0 in /opt/conda/lib/python3.6/site-packages (from spacy->pytextrank) (0.4.1)\r\n",
      "Requirement already satisfied: srsly<1.1.0,>=0.1.0 in /opt/conda/lib/python3.6/site-packages (from spacy->pytextrank) (1.0.2)\r\n",
      "Requirement already satisfied: cymem<2.1.0,>=2.0.2 in /opt/conda/lib/python3.6/site-packages (from spacy->pytextrank) (2.0.3)\r\n",
      "Requirement already satisfied: thinc<7.4.0,>=7.3.0 in /opt/conda/lib/python3.6/site-packages (from spacy->pytextrank) (7.3.1)\r\n",
      "Requirement already satisfied: wasabi<1.1.0,>=0.4.0 in /opt/conda/lib/python3.6/site-packages (from spacy->pytextrank) (0.6.0)\r\n",
      "Requirement already satisfied: plac<1.2.0,>=0.9.6 in /opt/conda/lib/python3.6/site-packages (from spacy->pytextrank) (0.9.6)\r\n",
      "Requirement already satisfied: setuptools in /opt/conda/lib/python3.6/site-packages (from spacy->pytextrank) (45.2.0.post20200210)\r\n",
      "Requirement already satisfied: urllib3!=1.25.0,!=1.25.1,<1.26,>=1.21.1 in /opt/conda/lib/python3.6/site-packages (from requests<3.0.0,>=2.13.0->spacy->pytextrank) (1.24.3)\r\n",
      "Requirement already satisfied: certifi>=2017.4.17 in /opt/conda/lib/python3.6/site-packages (from requests<3.0.0,>=2.13.0->spacy->pytextrank) (2019.11.28)\r\n",
      "Requirement already satisfied: idna<2.9,>=2.5 in /opt/conda/lib/python3.6/site-packages (from requests<3.0.0,>=2.13.0->spacy->pytextrank) (2.8)\r\n",
      "Requirement already satisfied: chardet<3.1.0,>=3.0.2 in /opt/conda/lib/python3.6/site-packages (from requests<3.0.0,>=2.13.0->spacy->pytextrank) (3.0.4)\r\n",
      "Requirement already satisfied: importlib-metadata>=0.20; python_version < \"3.8\" in /opt/conda/lib/python3.6/site-packages (from catalogue<1.1.0,>=0.0.7->spacy->pytextrank) (1.5.0)\r\n",
      "Requirement already satisfied: tqdm<5.0.0,>=4.10.0 in /opt/conda/lib/python3.6/site-packages (from thinc<7.4.0,>=7.3.0->spacy->pytextrank) (4.42.0)\r\n",
      "Requirement already satisfied: zipp>=0.5 in /opt/conda/lib/python3.6/site-packages (from importlib-metadata>=0.20; python_version < \"3.8\"->catalogue<1.1.0,>=0.0.7->spacy->pytextrank) (2.2.0)\r\n",
      "Installing collected packages: pytextrank\r\n",
      "Successfully installed pytextrank-2.0.1\r\n"
     ]
    },
    {
     "name": "stderr",
     "output_type": "stream",
     "text": [
      "0it [00:00, ?it/s]\n",
      "0it [00:00, ?it/s]\n",
      "0it [00:00, ?it/s]\n"
     ]
    }
   ],
   "source": [
    "import numpy as np # linear algebra\n",
    "import pandas as pd # data processing, CSV file I/O (e.g. pd.read_csv)\n",
    "import pandas as pd\n",
    "import re\n",
    "import os\n",
    "import spacy\n",
    "\n",
    "#https://pypi.org/project/rake-nltk/\n",
    "!pip install rake_nltk\n",
    "\n",
    "#import rake_nltk\n",
    "from rake_nltk import Metric, Rake\n",
    "r = Rake()\n",
    "\n",
    "#https://github.com/vi3k6i5/flashtext\n",
    "from flashtext import KeywordProcessor\n",
    "\n",
    "#TextRank\n",
    "#https://towardsdatascience.com/textrank-for-keyword-extraction-by-python-c0bae21bcec0\n",
    "!pip install pytextrank\n",
    "import pytextrank\n",
    "\n",
    "#Spacy\n",
    "import spacy\n",
    "nlp = spacy.load('en_core_web_sm')\n",
    "\n",
    "\n",
    "#Bar\n",
    "from tqdm import tqdm, tqdm_pandas\n",
    "tqdm(tqdm())\n",
    "import matplotlib.pyplot as plt\n"
   ]
  },
  {
   "cell_type": "markdown",
   "metadata": {},
   "source": [
    "## 1. Pre-processing "
   ]
  },
  {
   "cell_type": "code",
   "execution_count": 4,
   "metadata": {},
   "outputs": [],
   "source": [
    "### Own Stop words\n",
    "own_stop_word = ['i','we','are','and']\n",
    "### Spacy Lemma \n",
    "def spacy_lemma_text(text):\n",
    "    doc = nlp(text)\n",
    "    tokens = [tok.lemma_.lower().strip() for tok in doc if tok.lemma_ != '-PRON-']\n",
    "    tokens = [tok for tok in tokens if tok not in own_stop_word ]\n",
    "    tokens = ' '.join(tokens)\n",
    "    return tokens\n",
    "\n",
    "### Remove URL\n",
    "def remove_URL(text):\n",
    "    url = re.compile(r'https?://\\S+|www\\.\\S+')\n",
    "    return url.sub(r'',text)"
   ]
  },
  {
   "cell_type": "code",
   "execution_count": 5,
   "metadata": {},
   "outputs": [
    {
     "name": "stdout",
     "output_type": "stream",
     "text": [
      "Train Cleaning - Done\n",
      "Test Cleaning - Done\n"
     ]
    }
   ],
   "source": [
    "df['text_clean'] = df['text'].apply(remove_URL)\n",
    "df['text_clean'] = df['text_clean'].apply(spacy_lemma_text)\n",
    "print(\"Train Cleaning - Done\")\n",
    "test['text_clean'] = test['text'].apply(remove_URL)\n",
    "test['text_clean'] = test['text_clean'].apply(spacy_lemma_text)\n",
    "print(\"Test Cleaning - Done\")\n"
   ]
  },
  {
   "cell_type": "code",
   "execution_count": 6,
   "metadata": {},
   "outputs": [
    {
     "data": {
      "text/plain": [
       "neutral     1430\n",
       "positive    1104\n",
       "negative    1001\n",
       "Name: sentiment, dtype: int64"
      ]
     },
     "execution_count": 6,
     "metadata": {},
     "output_type": "execute_result"
    }
   ],
   "source": [
    "test['sentiment'].value_counts()"
   ]
  },
  {
   "cell_type": "markdown",
   "metadata": {},
   "source": [
    "## Sentence Lenght Analysis\n"
   ]
  },
  {
   "cell_type": "code",
   "execution_count": 7,
   "metadata": {
    "_kg_hide-input": true
   },
   "outputs": [],
   "source": [
    "from IPython.core.display import display, HTML\n",
    "import plotly.graph_objects as go\n",
    "test ['length'] = test['text'].apply(len)\n",
    "\n",
    "data = [\n",
    "    go.Box(\n",
    "        y=test[test['sentiment']=='positive']['length'],\n",
    "        name='positive'\n",
    "    ),\n",
    "    go.Box(\n",
    "        y=test[test['sentiment']=='negative']['length'],\n",
    "        name='negative'\n",
    "    ),\n",
    "    go.Box(\n",
    "        y=test[test['sentiment']=='neutral']['length'],\n",
    "        name='neutral'\n",
    "    ),\n",
    "\n",
    "]\n",
    "layout = go.Layout(\n",
    "    title = 'Sentiment Vs Comment Lenght (Before pre-processing)'\n",
    ")\n",
    "fig1 = go.Figure(data=data, layout=layout)\n",
    "\n",
    "\n",
    "test ['length'] = test['text_clean'].apply(len)\n",
    "\n",
    "data = [\n",
    "    go.Box(\n",
    "        y=test[test['sentiment']=='positive']['length'],\n",
    "        name='positive'\n",
    "    ),\n",
    "    go.Box(\n",
    "        y=test[test['sentiment']=='negative']['length'],\n",
    "        name='negative'\n",
    "    ),\n",
    "    go.Box(\n",
    "        y=test[test['sentiment']=='neutral']['length'],\n",
    "        name='neutral'\n",
    "    ),\n",
    "\n",
    "]\n",
    "layout = go.Layout(\n",
    "    title = 'Sentiment Vs Comment Lenght (After pre-processing)'\n",
    ")\n",
    "fig2 = go.Figure(data=data, layout=layout)\n"
   ]
  },
  {
   "cell_type": "code",
   "execution_count": 8,
   "metadata": {},
   "outputs": [
    {
     "data": {
      "text/html": [
       "        <script type=\"text/javascript\">\n",
       "        window.PlotlyConfig = {MathJaxConfig: 'local'};\n",
       "        if (window.MathJax) {MathJax.Hub.Config({SVG: {font: \"STIX-Web\"}});}\n",
       "        if (typeof require !== 'undefined') {\n",
       "        require.undef(\"plotly\");\n",
       "        requirejs.config({\n",
       "            paths: {\n",
       "                'plotly': ['https://cdn.plot.ly/plotly-latest.min']\n",
       "            }\n",
       "        });\n",
       "        require(['plotly'], function(Plotly) {\n",
       "            window._Plotly = Plotly;\n",
       "        });\n",
       "        }\n",
       "        </script>\n",
       "        "
      ]
     },
     "metadata": {},
     "output_type": "display_data"
    },
    {
     "data": {
      "text/html": [
       "<div>\n",
       "        \n",
       "        \n",
       "            <div id=\"190cb8d2-8b95-4f6a-ae0a-672752cec9e5\" class=\"plotly-graph-div\" style=\"height:525px; width:100%;\"></div>\n",
       "            <script type=\"text/javascript\">\n",
       "                require([\"plotly\"], function(Plotly) {\n",
       "                    window.PLOTLYENV=window.PLOTLYENV || {};\n",
       "                    \n",
       "                if (document.getElementById(\"190cb8d2-8b95-4f6a-ae0a-672752cec9e5\")) {\n",
       "                    Plotly.newPlot(\n",
       "                        '190cb8d2-8b95-4f6a-ae0a-672752cec9e5',\n",
       "                        [{\"name\": \"positive\", \"type\": \"box\", \"y\": [75, 37, 30, 74, 72, 98, 55, 57, 99, 49, 33, 109, 32, 48, 74, 121, 104, 34, 44, 75, 11, 64, 78, 100, 120, 44, 122, 34, 59, 31, 47, 93, 121, 55, 36, 37, 43, 80, 108, 36, 125, 53, 16, 99, 138, 45, 66, 83, 75, 82, 52, 134, 61, 45, 125, 91, 27, 83, 64, 16, 20, 65, 83, 95, 42, 90, 26, 52, 35, 53, 94, 79, 21, 19, 96, 52, 49, 132, 79, 24, 27, 11, 73, 30, 50, 104, 89, 71, 50, 84, 71, 127, 99, 122, 74, 62, 68, 47, 26, 38, 70, 83, 45, 45, 22, 52, 128, 74, 9, 114, 20, 48, 122, 41, 138, 53, 81, 65, 116, 56, 76, 37, 56, 33, 127, 70, 67, 20, 58, 61, 56, 52, 123, 26, 71, 78, 33, 104, 30, 142, 108, 121, 82, 131, 105, 43, 112, 47, 121, 49, 87, 129, 97, 63, 48, 44, 70, 56, 80, 33, 78, 50, 65, 34, 30, 67, 24, 68, 16, 35, 49, 88, 128, 120, 76, 131, 109, 115, 35, 40, 131, 77, 89, 81, 29, 110, 30, 124, 29, 30, 27, 97, 69, 47, 71, 63, 57, 87, 12, 85, 29, 56, 130, 31, 55, 59, 94, 29, 80, 28, 107, 87, 45, 56, 102, 34, 58, 97, 48, 39, 89, 71, 90, 121, 32, 137, 14, 84, 67, 28, 20, 19, 92, 50, 79, 50, 135, 68, 40, 90, 19, 22, 61, 67, 147, 47, 56, 28, 54, 59, 10, 130, 123, 72, 103, 25, 81, 123, 118, 82, 70, 88, 118, 50, 31, 22, 93, 38, 83, 121, 37, 33, 12, 60, 55, 31, 120, 108, 106, 54, 114, 39, 64, 102, 49, 116, 55, 55, 132, 29, 19, 119, 61, 56, 36, 61, 47, 27, 52, 36, 64, 43, 126, 58, 84, 109, 31, 79, 120, 31, 68, 59, 67, 100, 77, 113, 47, 48, 23, 39, 15, 46, 25, 26, 102, 58, 23, 38, 29, 51, 110, 93, 135, 55, 124, 122, 98, 135, 65, 13, 50, 90, 34, 29, 21, 60, 76, 33, 49, 71, 36, 8, 51, 111, 121, 58, 42, 134, 88, 17, 41, 17, 91, 132, 27, 116, 51, 112, 135, 18, 122, 116, 61, 126, 48, 20, 37, 43, 38, 70, 72, 126, 134, 132, 18, 113, 106, 82, 88, 86, 37, 60, 47, 78, 65, 81, 15, 105, 78, 95, 34, 77, 22, 8, 73, 34, 121, 49, 28, 130, 91, 32, 29, 95, 21, 70, 122, 78, 96, 31, 64, 44, 54, 71, 23, 39, 140, 17, 136, 48, 12, 51, 115, 77, 141, 96, 63, 94, 22, 76, 125, 127, 54, 138, 119, 91, 121, 90, 67, 79, 94, 76, 43, 22, 91, 45, 100, 37, 120, 129, 136, 75, 63, 88, 109, 98, 126, 110, 42, 51, 83, 99, 50, 35, 52, 131, 53, 94, 62, 132, 79, 35, 102, 127, 98, 75, 82, 33, 97, 70, 30, 88, 64, 62, 41, 92, 86, 97, 82, 125, 51, 28, 53, 43, 102, 11, 45, 39, 57, 86, 77, 14, 105, 93, 110, 99, 76, 45, 58, 56, 49, 84, 44, 109, 53, 90, 39, 82, 30, 51, 44, 48, 106, 23, 136, 133, 74, 15, 76, 33, 124, 124, 55, 113, 66, 19, 137, 136, 17, 64, 14, 49, 103, 126, 120, 65, 79, 98, 29, 82, 63, 43, 53, 98, 57, 14, 118, 55, 90, 38, 55, 35, 80, 23, 85, 122, 60, 99, 56, 129, 49, 32, 92, 22, 89, 137, 17, 107, 12, 133, 119, 20, 53, 40, 29, 55, 66, 88, 82, 85, 26, 117, 68, 81, 103, 123, 118, 78, 49, 102, 69, 55, 67, 55, 78, 37, 120, 93, 48, 106, 63, 50, 42, 51, 17, 73, 104, 107, 118, 62, 72, 11, 72, 43, 30, 40, 41, 55, 38, 45, 108, 66, 48, 49, 48, 57, 51, 55, 118, 58, 88, 60, 99, 135, 46, 114, 126, 83, 69, 32, 88, 61, 51, 32, 93, 108, 44, 42, 80, 89, 52, 74, 91, 82, 99, 44, 55, 53, 52, 52, 14, 71, 30, 22, 121, 19, 64, 132, 66, 74, 69, 33, 32, 90, 64, 40, 58, 82, 41, 133, 6, 71, 68, 60, 128, 103, 58, 122, 77, 121, 51, 62, 129, 16, 108, 53, 32, 121, 138, 24, 39, 40, 123, 29, 119, 72, 34, 71, 35, 122, 123, 49, 59, 63, 111, 102, 79, 58, 15, 123, 61, 62, 52, 53, 82, 62, 67, 124, 35, 109, 112, 56, 98, 52, 60, 41, 88, 123, 93, 53, 59, 86, 69, 115, 49, 127, 22, 57, 49, 83, 45, 42, 16, 63, 48, 117, 21, 105, 34, 35, 63, 63, 44, 61, 122, 28, 45, 91, 41, 95, 124, 68, 27, 60, 132, 92, 64, 79, 57, 127, 22, 41, 15, 45, 93, 86, 18, 53, 19, 32, 57, 68, 64, 23, 34, 38, 36, 25, 70, 87, 103, 35, 8, 122, 114, 88, 9, 130, 77, 20, 49, 12, 59, 71, 89, 8, 21, 92, 50, 127, 65, 19, 31, 32, 43, 74, 105, 44, 61, 67, 45, 33, 27, 90, 22, 54, 87, 54, 129, 15, 75, 95, 82, 90, 45, 62, 51, 108, 74, 114, 148, 63, 28, 46, 104, 30, 37, 110, 131, 80, 30, 101, 30, 32, 97, 84, 126, 132, 141, 69, 26, 49, 39, 50, 57, 25, 118, 48, 124, 109, 95, 13, 74, 96, 115, 135, 122, 138, 73, 24, 67, 48, 29, 65, 51, 49, 52, 96, 91, 28, 45, 118, 27, 38, 101, 93, 66, 55, 23, 113, 98, 34, 39, 40, 87, 59, 22, 13, 71, 87, 56, 14, 34, 24, 68, 39, 134, 22, 92, 149, 93, 123, 58, 58, 24, 109, 132, 24, 66, 61, 57, 57, 31, 77, 29, 40, 70, 99, 59, 123, 122, 90, 13, 38, 45, 116, 24, 58, 125, 48, 19, 39, 41, 83, 84, 70, 29, 88, 22, 74, 78, 94, 16, 132, 92, 23, 138, 56, 115, 69, 51, 59, 37, 61, 50, 128, 15, 73, 115, 109, 27, 102, 47, 61, 16, 83, 86, 91, 82, 40, 120, 134, 24, 75, 53, 50, 121, 41, 34, 46, 40, 11, 51, 45, 115, 29, 132, 114, 52, 16, 69, 16, 113, 28, 65, 52, 77, 18, 37, 80, 59, 117, 119, 17, 96, 34, 85, 128, 19, 128, 28, 57, 20, 84, 110, 61, 84, 74, 27, 85, 125, 74, 30, 57, 34, 100, 53, 115, 101, 43, 93, 17, 131, 47, 70, 47, 29, 101, 106, 90, 39, 114, 111, 129, 38, 64, 133, 73, 155, 67, 123, 101, 102, 78]}, {\"name\": \"negative\", \"type\": \"box\", \"y\": [79, 69, 73, 49, 92, 72, 14, 97, 21, 28, 29, 130, 17, 92, 31, 38, 57, 107, 45, 125, 77, 67, 62, 28, 116, 43, 125, 123, 112, 124, 65, 89, 104, 68, 49, 57, 119, 72, 126, 51, 17, 33, 55, 119, 25, 67, 128, 18, 25, 30, 36, 30, 136, 8, 65, 133, 61, 70, 55, 90, 49, 53, 85, 138, 46, 62, 31, 34, 99, 99, 84, 97, 85, 56, 105, 41, 35, 44, 89, 38, 89, 44, 90, 16, 31, 58, 51, 47, 74, 122, 25, 127, 37, 83, 100, 124, 137, 65, 39, 80, 63, 119, 62, 118, 112, 89, 47, 64, 58, 13, 11, 24, 90, 63, 20, 94, 62, 62, 66, 123, 73, 69, 83, 88, 31, 18, 119, 23, 47, 71, 41, 117, 132, 92, 30, 134, 31, 87, 103, 63, 112, 22, 63, 46, 93, 63, 48, 112, 23, 11, 120, 68, 112, 62, 25, 88, 49, 45, 32, 130, 123, 97, 47, 77, 120, 52, 95, 102, 18, 74, 12, 80, 125, 26, 12, 44, 126, 48, 15, 37, 108, 71, 74, 99, 31, 20, 100, 121, 100, 51, 87, 102, 89, 58, 67, 48, 135, 20, 45, 72, 10, 109, 54, 14, 38, 87, 34, 46, 33, 37, 26, 51, 67, 20, 83, 94, 117, 21, 9, 26, 91, 86, 60, 126, 48, 47, 45, 32, 17, 12, 72, 74, 32, 9, 54, 58, 10, 130, 118, 43, 71, 23, 103, 57, 62, 53, 101, 77, 59, 41, 85, 83, 60, 44, 126, 130, 82, 67, 125, 57, 122, 121, 105, 86, 132, 52, 97, 54, 95, 63, 85, 56, 34, 13, 97, 89, 70, 41, 38, 24, 75, 84, 111, 38, 60, 22, 67, 74, 117, 37, 83, 130, 57, 78, 64, 26, 45, 35, 15, 46, 70, 136, 63, 61, 69, 31, 78, 50, 109, 27, 38, 111, 106, 50, 70, 32, 35, 53, 41, 118, 28, 68, 32, 107, 20, 107, 29, 136, 118, 57, 81, 24, 36, 83, 14, 63, 73, 82, 28, 28, 86, 79, 18, 80, 26, 144, 51, 88, 27, 95, 70, 118, 79, 33, 28, 74, 59, 32, 137, 38, 74, 14, 67, 122, 71, 81, 35, 20, 55, 71, 42, 34, 72, 141, 38, 96, 75, 58, 70, 82, 46, 129, 133, 122, 47, 70, 97, 110, 129, 111, 129, 18, 66, 107, 24, 41, 49, 70, 55, 34, 116, 75, 77, 68, 100, 136, 60, 46, 103, 53, 63, 102, 104, 47, 13, 15, 110, 111, 60, 25, 40, 137, 59, 78, 47, 87, 64, 134, 17, 122, 17, 16, 61, 79, 37, 104, 119, 25, 46, 124, 64, 21, 114, 108, 69, 60, 112, 32, 108, 121, 67, 59, 97, 50, 93, 42, 16, 75, 49, 37, 123, 47, 79, 44, 125, 77, 21, 80, 20, 45, 86, 69, 118, 61, 37, 88, 106, 102, 50, 55, 123, 58, 92, 22, 18, 116, 59, 134, 95, 72, 44, 78, 141, 132, 52, 53, 119, 18, 33, 63, 69, 49, 27, 15, 137, 87, 72, 134, 106, 61, 99, 131, 73, 55, 123, 32, 73, 125, 21, 67, 95, 51, 81, 52, 25, 126, 60, 81, 79, 42, 100, 129, 131, 131, 69, 49, 69, 78, 123, 53, 63, 24, 68, 36, 64, 39, 105, 133, 49, 58, 121, 33, 91, 60, 100, 32, 55, 25, 22, 68, 94, 93, 117, 58, 42, 21, 57, 137, 62, 30, 71, 110, 104, 43, 128, 42, 30, 37, 90, 18, 44, 65, 116, 16, 111, 65, 67, 17, 38, 45, 145, 20, 124, 88, 57, 23, 93, 27, 51, 101, 74, 55, 34, 102, 96, 128, 77, 34, 97, 57, 123, 123, 32, 107, 20, 68, 51, 26, 25, 20, 93, 82, 59, 131, 38, 60, 16, 27, 41, 46, 26, 96, 107, 130, 77, 68, 105, 123, 33, 45, 71, 58, 87, 70, 61, 59, 130, 24, 51, 65, 9, 45, 123, 93, 29, 137, 89, 81, 61, 75, 108, 34, 14, 26, 12, 123, 92, 38, 84, 77, 81, 49, 120, 85, 104, 32, 56, 116, 103, 147, 77, 70, 93, 28, 60, 56, 91, 54, 48, 83, 62, 119, 33, 96, 61, 104, 55, 68, 28, 28, 105, 39, 80, 42, 40, 19, 80, 113, 102, 84, 36, 46, 49, 60, 88, 50, 88, 135, 16, 136, 136, 61, 113, 59, 44, 31, 49, 81, 38, 43, 25, 110, 117, 82, 128, 44, 69, 47, 34, 46, 35, 106, 73, 11, 60, 124, 23, 75, 106, 37, 122, 70, 123, 110, 122, 112, 76, 54, 79, 106, 122, 52, 44, 53, 57, 94, 88, 72, 43, 122, 138, 45, 33, 15, 74, 100, 84, 77, 126, 38, 102, 96, 87, 71, 91, 88, 115, 19, 97, 48, 17, 24, 123, 138, 56, 83, 21, 64, 30, 69, 34, 116, 70, 122, 32, 44, 24, 38, 22, 126, 77, 40, 24, 105, 12, 107, 39, 22, 93, 36, 88, 59, 62, 136, 45, 21, 62, 13, 76, 101, 100, 64, 47, 78, 86, 26, 109, 41, 84, 60, 68, 144, 66, 77, 127, 42, 95, 63, 61, 135, 75, 53, 18, 76, 54, 32, 73, 41, 87, 80, 65, 110, 32, 63, 29, 42, 36, 130, 113, 50, 94, 116, 53, 43, 123, 55, 108, 22, 122, 45, 35, 48, 98, 128, 135, 38, 27, 55, 130, 120, 52, 61, 15, 25, 102, 112, 43, 137, 48, 21, 74, 135, 56, 57, 69, 52, 49, 68, 76, 111, 104, 100, 47, 114, 51, 59, 126, 117, 35, 83, 117, 47, 104, 88, 100, 81, 62, 94, 52, 134, 51, 86, 32, 91, 75, 78, 127, 60, 9, 77, 31, 70, 105, 81, 117, 105, 52, 117, 36, 122, 24, 111, 43, 109, 136, 41, 34, 54, 34, 68, 45, 66, 112, 39, 36, 69, 59, 45, 17, 109, 60, 37, 58, 60, 24, 60, 34, 42, 89, 49, 35, 98, 72, 89, 80, 32, 137, 48, 74, 77, 37, 121, 65, 48, 49, 121, 20, 74, 120, 46, 115]}, {\"name\": \"neutral\", \"type\": \"box\", \"y\": [14, 46, 30, 30, 53, 56, 119, 125, 74, 63, 51, 9, 19, 118, 83, 126, 88, 32, 29, 71, 79, 128, 73, 71, 72, 60, 42, 16, 22, 20, 93, 47, 87, 38, 38, 71, 36, 39, 56, 104, 63, 53, 27, 78, 35, 17, 34, 37, 39, 52, 75, 86, 133, 27, 14, 120, 20, 56, 55, 47, 131, 70, 31, 105, 23, 138, 101, 58, 119, 104, 62, 69, 54, 128, 62, 7, 81, 80, 52, 21, 36, 77, 63, 95, 95, 35, 60, 79, 66, 123, 36, 125, 120, 99, 113, 109, 36, 129, 112, 23, 87, 41, 72, 46, 87, 65, 134, 25, 12, 136, 80, 120, 7, 104, 98, 46, 35, 126, 73, 44, 51, 51, 58, 99, 46, 101, 33, 96, 70, 20, 21, 40, 136, 45, 122, 39, 12, 120, 57, 39, 111, 37, 37, 23, 69, 30, 53, 20, 19, 28, 18, 45, 44, 67, 51, 86, 76, 83, 13, 28, 112, 47, 126, 24, 128, 41, 63, 24, 41, 115, 15, 24, 44, 130, 59, 40, 90, 48, 61, 31, 53, 47, 108, 138, 76, 114, 102, 66, 98, 97, 121, 77, 101, 29, 104, 58, 61, 44, 58, 56, 72, 72, 12, 76, 55, 49, 6, 99, 101, 97, 49, 126, 45, 25, 84, 74, 67, 42, 108, 99, 22, 8, 58, 101, 27, 132, 42, 41, 24, 96, 102, 119, 61, 76, 79, 87, 30, 30, 40, 74, 57, 91, 51, 57, 21, 31, 22, 32, 56, 60, 35, 49, 41, 138, 33, 48, 43, 123, 18, 50, 34, 130, 50, 39, 73, 124, 67, 55, 124, 35, 119, 32, 43, 26, 88, 29, 56, 81, 39, 64, 40, 15, 26, 128, 98, 126, 137, 121, 144, 73, 34, 48, 71, 113, 25, 119, 129, 124, 43, 58, 50, 46, 36, 40, 65, 129, 43, 89, 95, 113, 138, 65, 29, 79, 47, 68, 109, 109, 73, 37, 46, 115, 34, 15, 30, 46, 106, 121, 93, 118, 59, 54, 23, 122, 123, 96, 97, 83, 46, 13, 114, 72, 120, 58, 47, 32, 48, 81, 69, 95, 28, 9, 41, 69, 13, 65, 68, 22, 29, 123, 92, 27, 44, 7, 77, 84, 85, 74, 31, 121, 107, 59, 142, 37, 38, 49, 91, 121, 100, 121, 31, 40, 130, 20, 71, 76, 117, 52, 84, 23, 136, 102, 104, 41, 79, 71, 31, 98, 78, 49, 130, 122, 29, 138, 17, 89, 144, 112, 79, 58, 39, 69, 60, 42, 108, 109, 11, 24, 23, 89, 35, 61, 66, 66, 11, 100, 53, 118, 50, 37, 108, 114, 120, 103, 29, 79, 53, 13, 84, 26, 97, 82, 10, 18, 9, 27, 35, 43, 82, 120, 67, 111, 49, 14, 42, 27, 17, 68, 75, 123, 96, 41, 35, 121, 100, 108, 130, 125, 78, 105, 136, 19, 97, 36, 92, 29, 85, 29, 44, 63, 51, 54, 34, 132, 99, 85, 116, 15, 59, 13, 24, 69, 65, 38, 53, 10, 88, 114, 67, 23, 45, 20, 56, 67, 63, 137, 25, 30, 77, 33, 32, 55, 87, 28, 116, 117, 64, 33, 45, 120, 128, 89, 20, 73, 45, 32, 69, 118, 129, 33, 70, 62, 76, 115, 91, 45, 66, 128, 35, 56, 72, 90, 38, 78, 33, 51, 90, 87, 47, 28, 78, 65, 44, 39, 43, 66, 54, 57, 41, 59, 68, 45, 73, 88, 8, 46, 95, 130, 123, 16, 39, 58, 34, 36, 107, 132, 138, 8, 135, 24, 11, 95, 59, 79, 110, 117, 33, 119, 49, 66, 70, 39, 48, 92, 47, 96, 23, 45, 115, 123, 93, 37, 36, 34, 40, 43, 19, 81, 26, 81, 115, 110, 102, 33, 74, 102, 12, 83, 74, 49, 120, 53, 133, 104, 64, 53, 47, 24, 79, 133, 102, 70, 60, 15, 30, 66, 26, 27, 41, 51, 116, 11, 103, 43, 122, 35, 17, 33, 134, 36, 16, 68, 23, 72, 18, 125, 77, 50, 68, 92, 4, 110, 104, 91, 29, 113, 96, 48, 24, 50, 24, 46, 94, 127, 139, 64, 30, 56, 16, 45, 43, 68, 90, 49, 127, 117, 77, 9, 17, 112, 118, 27, 49, 10, 17, 132, 21, 56, 82, 137, 37, 93, 93, 49, 91, 114, 27, 58, 95, 14, 70, 10, 129, 118, 48, 93, 29, 31, 52, 123, 136, 98, 34, 109, 25, 43, 33, 25, 82, 38, 108, 42, 123, 114, 29, 52, 46, 26, 14, 41, 53, 49, 52, 40, 31, 53, 99, 33, 122, 41, 27, 91, 123, 28, 22, 111, 81, 55, 71, 123, 45, 16, 25, 46, 49, 139, 42, 22, 78, 42, 68, 34, 25, 39, 81, 113, 44, 6, 23, 54, 137, 106, 51, 12, 12, 114, 118, 68, 111, 75, 38, 37, 96, 104, 34, 78, 19, 27, 14, 99, 126, 86, 13, 73, 25, 48, 108, 98, 37, 62, 51, 123, 72, 135, 64, 103, 139, 128, 40, 58, 65, 55, 96, 97, 33, 135, 19, 90, 26, 136, 61, 9, 14, 10, 100, 24, 35, 31, 108, 43, 84, 33, 117, 36, 17, 89, 62, 13, 114, 21, 9, 108, 46, 41, 36, 47, 34, 24, 36, 67, 64, 130, 31, 71, 117, 113, 127, 13, 119, 112, 26, 38, 33, 118, 84, 48, 89, 22, 53, 118, 109, 115, 97, 129, 22, 36, 22, 122, 37, 40, 10, 48, 51, 37, 39, 62, 45, 22, 82, 98, 93, 66, 31, 67, 108, 33, 122, 19, 29, 68, 141, 101, 20, 77, 60, 114, 8, 84, 20, 86, 63, 73, 136, 37, 29, 77, 58, 20, 86, 73, 20, 82, 126, 23, 38, 29, 134, 77, 40, 18, 53, 50, 60, 65, 14, 78, 24, 46, 31, 18, 23, 23, 136, 26, 95, 53, 64, 19, 33, 10, 25, 124, 104, 33, 21, 51, 47, 67, 88, 37, 58, 138, 68, 61, 41, 61, 137, 32, 123, 36, 60, 80, 26, 66, 44, 133, 43, 122, 128, 131, 111, 47, 36, 73, 26, 58, 18, 89, 69, 63, 43, 90, 132, 103, 125, 53, 130, 46, 55, 77, 57, 34, 109, 61, 16, 38, 18, 31, 41, 85, 54, 27, 14, 40, 140, 107, 145, 118, 124, 41, 12, 16, 26, 41, 19, 21, 32, 15, 35, 120, 70, 33, 111, 62, 53, 85, 102, 43, 26, 49, 26, 98, 120, 106, 70, 98, 123, 43, 56, 40, 130, 6, 58, 95, 43, 30, 130, 82, 104, 52, 132, 38, 115, 111, 31, 84, 42, 44, 25, 75, 57, 126, 23, 113, 8, 18, 94, 134, 60, 106, 50, 85, 23, 30, 60, 36, 8, 55, 57, 32, 121, 86, 47, 103, 35, 116, 93, 85, 42, 51, 43, 35, 41, 125, 118, 16, 69, 114, 84, 25, 62, 91, 56, 65, 131, 37, 67, 15, 84, 36, 35, 55, 42, 125, 101, 77, 106, 91, 105, 138, 11, 115, 89, 116, 97, 24, 38, 26, 71, 21, 90, 70, 37, 95, 115, 45, 24, 118, 40, 56, 42, 101, 38, 20, 33, 53, 41, 22, 43, 129, 76, 61, 51, 127, 28, 27, 88, 49, 55, 70, 89, 103, 25, 73, 36, 11, 10, 21, 66, 41, 137, 44, 95, 44, 28, 90, 135, 122, 103, 86, 112, 101, 32, 56, 29, 27, 47, 83, 59, 49, 108, 11, 101, 66, 134, 32, 65, 69, 36, 51, 117, 31, 69, 35, 134, 106, 57, 40, 86, 103, 18, 79, 113, 53, 66, 117, 90, 49, 77, 128, 76, 123, 70, 59, 66, 72, 127, 40, 60, 102, 85, 133, 86, 17, 124, 104, 117, 18, 77, 122, 34, 58, 128, 54, 114, 93, 54, 57, 108, 82, 49, 37, 99, 30, 105, 85, 20, 8, 33, 117, 123, 136, 45, 87, 79, 123, 49, 45, 84, 12, 124, 117, 106, 57, 21, 24, 17, 122, 76, 104, 12, 29, 42, 19, 33, 72, 45, 124, 52, 11, 35, 19, 130, 96, 20, 146, 51, 133, 86, 55, 70, 25, 120, 69, 50, 110, 30, 40, 45, 111, 82, 91, 37, 118, 90, 138, 109, 119, 94, 68, 14, 136, 19, 33, 28, 25, 54, 47, 124, 22, 10, 29, 114, 79, 14, 116, 29, 27, 30, 25, 126, 62, 40, 83, 85, 42, 120, 53, 91, 68, 56, 51, 102, 44, 40, 30, 82, 94, 39, 66, 13, 50, 100, 94, 63, 17, 39, 20, 78, 72, 26, 102, 63, 24, 70, 12, 123, 130, 84, 84, 34, 66, 137, 47, 22, 83, 34, 45, 119, 28, 79, 26, 15, 22, 8, 23, 75, 70, 113, 31, 125, 38, 28, 55, 73, 89, 20, 36, 121, 8]}],\n",
       "                        {\"template\": {\"data\": {\"bar\": [{\"error_x\": {\"color\": \"#2a3f5f\"}, \"error_y\": {\"color\": \"#2a3f5f\"}, \"marker\": {\"line\": {\"color\": \"#E5ECF6\", \"width\": 0.5}}, \"type\": \"bar\"}], \"barpolar\": [{\"marker\": {\"line\": {\"color\": \"#E5ECF6\", \"width\": 0.5}}, \"type\": \"barpolar\"}], \"carpet\": [{\"aaxis\": {\"endlinecolor\": \"#2a3f5f\", \"gridcolor\": \"white\", \"linecolor\": \"white\", \"minorgridcolor\": \"white\", \"startlinecolor\": \"#2a3f5f\"}, \"baxis\": {\"endlinecolor\": \"#2a3f5f\", \"gridcolor\": \"white\", \"linecolor\": \"white\", \"minorgridcolor\": \"white\", \"startlinecolor\": \"#2a3f5f\"}, \"type\": \"carpet\"}], \"choropleth\": [{\"colorbar\": {\"outlinewidth\": 0, \"ticks\": \"\"}, \"type\": \"choropleth\"}], \"contour\": [{\"colorbar\": {\"outlinewidth\": 0, \"ticks\": \"\"}, \"colorscale\": [[0.0, \"#0d0887\"], [0.1111111111111111, \"#46039f\"], [0.2222222222222222, \"#7201a8\"], [0.3333333333333333, \"#9c179e\"], [0.4444444444444444, \"#bd3786\"], [0.5555555555555556, \"#d8576b\"], [0.6666666666666666, \"#ed7953\"], [0.7777777777777778, \"#fb9f3a\"], [0.8888888888888888, \"#fdca26\"], [1.0, \"#f0f921\"]], \"type\": \"contour\"}], \"contourcarpet\": [{\"colorbar\": {\"outlinewidth\": 0, \"ticks\": \"\"}, \"type\": \"contourcarpet\"}], \"heatmap\": [{\"colorbar\": {\"outlinewidth\": 0, \"ticks\": \"\"}, \"colorscale\": [[0.0, \"#0d0887\"], [0.1111111111111111, \"#46039f\"], [0.2222222222222222, \"#7201a8\"], [0.3333333333333333, \"#9c179e\"], [0.4444444444444444, \"#bd3786\"], [0.5555555555555556, \"#d8576b\"], [0.6666666666666666, \"#ed7953\"], [0.7777777777777778, \"#fb9f3a\"], [0.8888888888888888, \"#fdca26\"], [1.0, \"#f0f921\"]], \"type\": \"heatmap\"}], \"heatmapgl\": [{\"colorbar\": {\"outlinewidth\": 0, \"ticks\": \"\"}, \"colorscale\": [[0.0, \"#0d0887\"], [0.1111111111111111, \"#46039f\"], [0.2222222222222222, \"#7201a8\"], [0.3333333333333333, \"#9c179e\"], [0.4444444444444444, \"#bd3786\"], [0.5555555555555556, \"#d8576b\"], [0.6666666666666666, \"#ed7953\"], [0.7777777777777778, \"#fb9f3a\"], [0.8888888888888888, \"#fdca26\"], [1.0, \"#f0f921\"]], \"type\": \"heatmapgl\"}], \"histogram\": [{\"marker\": {\"colorbar\": {\"outlinewidth\": 0, \"ticks\": \"\"}}, \"type\": \"histogram\"}], \"histogram2d\": [{\"colorbar\": {\"outlinewidth\": 0, \"ticks\": \"\"}, \"colorscale\": [[0.0, \"#0d0887\"], [0.1111111111111111, \"#46039f\"], [0.2222222222222222, \"#7201a8\"], [0.3333333333333333, \"#9c179e\"], [0.4444444444444444, \"#bd3786\"], [0.5555555555555556, \"#d8576b\"], [0.6666666666666666, \"#ed7953\"], [0.7777777777777778, \"#fb9f3a\"], [0.8888888888888888, \"#fdca26\"], [1.0, \"#f0f921\"]], \"type\": \"histogram2d\"}], \"histogram2dcontour\": [{\"colorbar\": {\"outlinewidth\": 0, \"ticks\": \"\"}, \"colorscale\": [[0.0, \"#0d0887\"], [0.1111111111111111, \"#46039f\"], [0.2222222222222222, \"#7201a8\"], [0.3333333333333333, \"#9c179e\"], [0.4444444444444444, \"#bd3786\"], [0.5555555555555556, \"#d8576b\"], [0.6666666666666666, \"#ed7953\"], [0.7777777777777778, \"#fb9f3a\"], [0.8888888888888888, \"#fdca26\"], [1.0, \"#f0f921\"]], \"type\": \"histogram2dcontour\"}], \"mesh3d\": [{\"colorbar\": {\"outlinewidth\": 0, \"ticks\": \"\"}, \"type\": \"mesh3d\"}], \"parcoords\": [{\"line\": {\"colorbar\": {\"outlinewidth\": 0, \"ticks\": \"\"}}, \"type\": \"parcoords\"}], \"pie\": [{\"automargin\": true, \"type\": \"pie\"}], \"scatter\": [{\"marker\": {\"colorbar\": {\"outlinewidth\": 0, \"ticks\": \"\"}}, \"type\": \"scatter\"}], \"scatter3d\": [{\"line\": {\"colorbar\": {\"outlinewidth\": 0, \"ticks\": \"\"}}, \"marker\": {\"colorbar\": {\"outlinewidth\": 0, \"ticks\": \"\"}}, \"type\": \"scatter3d\"}], \"scattercarpet\": [{\"marker\": {\"colorbar\": {\"outlinewidth\": 0, \"ticks\": \"\"}}, \"type\": \"scattercarpet\"}], \"scattergeo\": [{\"marker\": {\"colorbar\": {\"outlinewidth\": 0, \"ticks\": \"\"}}, \"type\": \"scattergeo\"}], \"scattergl\": [{\"marker\": {\"colorbar\": {\"outlinewidth\": 0, \"ticks\": \"\"}}, \"type\": \"scattergl\"}], \"scattermapbox\": [{\"marker\": {\"colorbar\": {\"outlinewidth\": 0, \"ticks\": \"\"}}, \"type\": \"scattermapbox\"}], \"scatterpolar\": [{\"marker\": {\"colorbar\": {\"outlinewidth\": 0, \"ticks\": \"\"}}, \"type\": \"scatterpolar\"}], \"scatterpolargl\": [{\"marker\": {\"colorbar\": {\"outlinewidth\": 0, \"ticks\": \"\"}}, \"type\": \"scatterpolargl\"}], \"scatterternary\": [{\"marker\": {\"colorbar\": {\"outlinewidth\": 0, \"ticks\": \"\"}}, \"type\": \"scatterternary\"}], \"surface\": [{\"colorbar\": {\"outlinewidth\": 0, \"ticks\": \"\"}, \"colorscale\": [[0.0, \"#0d0887\"], [0.1111111111111111, \"#46039f\"], [0.2222222222222222, \"#7201a8\"], [0.3333333333333333, \"#9c179e\"], [0.4444444444444444, \"#bd3786\"], [0.5555555555555556, \"#d8576b\"], [0.6666666666666666, \"#ed7953\"], [0.7777777777777778, \"#fb9f3a\"], [0.8888888888888888, \"#fdca26\"], [1.0, \"#f0f921\"]], \"type\": \"surface\"}], \"table\": [{\"cells\": {\"fill\": {\"color\": \"#EBF0F8\"}, \"line\": {\"color\": \"white\"}}, \"header\": {\"fill\": {\"color\": \"#C8D4E3\"}, \"line\": {\"color\": \"white\"}}, \"type\": \"table\"}]}, \"layout\": {\"annotationdefaults\": {\"arrowcolor\": \"#2a3f5f\", \"arrowhead\": 0, \"arrowwidth\": 1}, \"coloraxis\": {\"colorbar\": {\"outlinewidth\": 0, \"ticks\": \"\"}}, \"colorscale\": {\"diverging\": [[0, \"#8e0152\"], [0.1, \"#c51b7d\"], [0.2, \"#de77ae\"], [0.3, \"#f1b6da\"], [0.4, \"#fde0ef\"], [0.5, \"#f7f7f7\"], [0.6, \"#e6f5d0\"], [0.7, \"#b8e186\"], [0.8, \"#7fbc41\"], [0.9, \"#4d9221\"], [1, \"#276419\"]], \"sequential\": [[0.0, \"#0d0887\"], [0.1111111111111111, \"#46039f\"], [0.2222222222222222, \"#7201a8\"], [0.3333333333333333, \"#9c179e\"], [0.4444444444444444, \"#bd3786\"], [0.5555555555555556, \"#d8576b\"], [0.6666666666666666, \"#ed7953\"], [0.7777777777777778, \"#fb9f3a\"], [0.8888888888888888, \"#fdca26\"], [1.0, \"#f0f921\"]], \"sequentialminus\": [[0.0, \"#0d0887\"], [0.1111111111111111, \"#46039f\"], [0.2222222222222222, \"#7201a8\"], [0.3333333333333333, \"#9c179e\"], [0.4444444444444444, \"#bd3786\"], [0.5555555555555556, \"#d8576b\"], [0.6666666666666666, \"#ed7953\"], [0.7777777777777778, \"#fb9f3a\"], [0.8888888888888888, \"#fdca26\"], [1.0, \"#f0f921\"]]}, \"colorway\": [\"#636efa\", \"#EF553B\", \"#00cc96\", \"#ab63fa\", \"#FFA15A\", \"#19d3f3\", \"#FF6692\", \"#B6E880\", \"#FF97FF\", \"#FECB52\"], \"font\": {\"color\": \"#2a3f5f\"}, \"geo\": {\"bgcolor\": \"white\", \"lakecolor\": \"white\", \"landcolor\": \"#E5ECF6\", \"showlakes\": true, \"showland\": true, \"subunitcolor\": \"white\"}, \"hoverlabel\": {\"align\": \"left\"}, \"hovermode\": \"closest\", \"mapbox\": {\"style\": \"light\"}, \"paper_bgcolor\": \"white\", \"plot_bgcolor\": \"#E5ECF6\", \"polar\": {\"angularaxis\": {\"gridcolor\": \"white\", \"linecolor\": \"white\", \"ticks\": \"\"}, \"bgcolor\": \"#E5ECF6\", \"radialaxis\": {\"gridcolor\": \"white\", \"linecolor\": \"white\", \"ticks\": \"\"}}, \"scene\": {\"xaxis\": {\"backgroundcolor\": \"#E5ECF6\", \"gridcolor\": \"white\", \"gridwidth\": 2, \"linecolor\": \"white\", \"showbackground\": true, \"ticks\": \"\", \"zerolinecolor\": \"white\"}, \"yaxis\": {\"backgroundcolor\": \"#E5ECF6\", \"gridcolor\": \"white\", \"gridwidth\": 2, \"linecolor\": \"white\", \"showbackground\": true, \"ticks\": \"\", \"zerolinecolor\": \"white\"}, \"zaxis\": {\"backgroundcolor\": \"#E5ECF6\", \"gridcolor\": \"white\", \"gridwidth\": 2, \"linecolor\": \"white\", \"showbackground\": true, \"ticks\": \"\", \"zerolinecolor\": \"white\"}}, \"shapedefaults\": {\"line\": {\"color\": \"#2a3f5f\"}}, \"ternary\": {\"aaxis\": {\"gridcolor\": \"white\", \"linecolor\": \"white\", \"ticks\": \"\"}, \"baxis\": {\"gridcolor\": \"white\", \"linecolor\": \"white\", \"ticks\": \"\"}, \"bgcolor\": \"#E5ECF6\", \"caxis\": {\"gridcolor\": \"white\", \"linecolor\": \"white\", \"ticks\": \"\"}}, \"title\": {\"x\": 0.05}, \"xaxis\": {\"automargin\": true, \"gridcolor\": \"white\", \"linecolor\": \"white\", \"ticks\": \"\", \"title\": {\"standoff\": 15}, \"zerolinecolor\": \"white\", \"zerolinewidth\": 2}, \"yaxis\": {\"automargin\": true, \"gridcolor\": \"white\", \"linecolor\": \"white\", \"ticks\": \"\", \"title\": {\"standoff\": 15}, \"zerolinecolor\": \"white\", \"zerolinewidth\": 2}}}, \"title\": {\"text\": \"Sentiment Vs Comment Lenght (Before pre-processing)\"}},\n",
       "                        {\"responsive\": true}\n",
       "                    ).then(function(){\n",
       "                            \n",
       "var gd = document.getElementById('190cb8d2-8b95-4f6a-ae0a-672752cec9e5');\n",
       "var x = new MutationObserver(function (mutations, observer) {{\n",
       "        var display = window.getComputedStyle(gd).display;\n",
       "        if (!display || display === 'none') {{\n",
       "            console.log([gd, 'removed!']);\n",
       "            Plotly.purge(gd);\n",
       "            observer.disconnect();\n",
       "        }}\n",
       "}});\n",
       "\n",
       "// Listen for the removal of the full notebook cells\n",
       "var notebookContainer = gd.closest('#notebook-container');\n",
       "if (notebookContainer) {{\n",
       "    x.observe(notebookContainer, {childList: true});\n",
       "}}\n",
       "\n",
       "// Listen for the clearing of the current output cell\n",
       "var outputEl = gd.closest('.output');\n",
       "if (outputEl) {{\n",
       "    x.observe(outputEl, {childList: true});\n",
       "}}\n",
       "\n",
       "                        })\n",
       "                };\n",
       "                });\n",
       "            </script>\n",
       "        </div>"
      ]
     },
     "metadata": {},
     "output_type": "display_data"
    }
   ],
   "source": [
    "fig1.show()"
   ]
  },
  {
   "cell_type": "code",
   "execution_count": 9,
   "metadata": {},
   "outputs": [
    {
     "data": {
      "text/html": [
       "<div>\n",
       "        \n",
       "        \n",
       "            <div id=\"a1ba52f5-0db4-40b5-a666-90bfcb41f255\" class=\"plotly-graph-div\" style=\"height:525px; width:100%;\"></div>\n",
       "            <script type=\"text/javascript\">\n",
       "                require([\"plotly\"], function(Plotly) {\n",
       "                    window.PLOTLYENV=window.PLOTLYENV || {};\n",
       "                    \n",
       "                if (document.getElementById(\"a1ba52f5-0db4-40b5-a666-90bfcb41f255\")) {\n",
       "                    Plotly.newPlot(\n",
       "                        'a1ba52f5-0db4-40b5-a666-90bfcb41f255',\n",
       "                        [{\"name\": \"positive\", \"type\": \"box\", \"y\": [38, 37, 29, 70, 74, 85, 24, 60, 82, 22, 29, 102, 31, 49, 64, 121, 101, 29, 45, 69, 11, 55, 63, 93, 118, 39, 118, 28, 50, 31, 38, 86, 120, 54, 35, 31, 41, 70, 97, 31, 114, 47, 15, 63, 124, 46, 59, 71, 70, 80, 49, 110, 58, 18, 113, 90, 30, 76, 67, 10, 22, 67, 71, 89, 36, 77, 26, 34, 30, 52, 85, 54, 21, 19, 86, 24, 13, 122, 78, 25, 28, 9, 57, 30, 50, 100, 81, 66, 33, 80, 42, 101, 95, 112, 74, 55, 56, 42, 28, 38, 61, 71, 38, 41, 24, 33, 126, 76, 10, 105, 15, 49, 115, 42, 129, 48, 89, 66, 109, 31, 73, 35, 52, 37, 118, 60, 61, 21, 42, 61, 45, 46, 126, 18, 70, 70, 31, 101, 26, 113, 97, 106, 84, 121, 101, 36, 102, 41, 121, 45, 71, 129, 72, 39, 45, 29, 63, 49, 76, 34, 53, 54, 57, 32, 26, 67, 22, 67, 16, 28, 46, 84, 128, 106, 72, 116, 98, 114, 31, 40, 121, 74, 82, 76, 29, 104, 25, 120, 31, 26, 26, 100, 67, 42, 66, 55, 57, 88, 8, 80, 35, 53, 120, 33, 38, 52, 68, 27, 56, 23, 86, 64, 36, 49, 74, 31, 32, 96, 46, 42, 77, 62, 88, 108, 34, 111, 10, 90, 54, 27, 18, 14, 72, 43, 76, 47, 119, 68, 43, 75, 19, 20, 62, 49, 131, 44, 51, 24, 52, 62, 11, 114, 102, 62, 91, 20, 74, 126, 101, 67, 68, 85, 117, 47, 31, 23, 73, 39, 78, 114, 13, 34, 13, 58, 53, 30, 105, 107, 76, 48, 105, 37, 61, 91, 45, 107, 59, 35, 106, 29, 20, 107, 45, 55, 37, 56, 49, 26, 46, 38, 55, 38, 121, 54, 75, 83, 25, 73, 119, 34, 66, 53, 58, 93, 77, 104, 47, 47, 24, 33, 14, 39, 28, 19, 95, 60, 22, 36, 21, 52, 88, 82, 142, 52, 115, 114, 87, 148, 66, 15, 49, 76, 27, 29, 17, 54, 72, 26, 47, 67, 34, 8, 47, 98, 126, 55, 39, 128, 76, 17, 37, 16, 86, 119, 24, 111, 54, 103, 136, 18, 121, 100, 62, 111, 50, 20, 30, 33, 30, 70, 67, 109, 130, 129, 18, 115, 105, 78, 89, 84, 37, 58, 43, 65, 60, 77, 9, 107, 69, 98, 35, 68, 25, 9, 64, 31, 124, 46, 23, 122, 85, 26, 28, 75, 14, 57, 111, 85, 90, 27, 65, 42, 51, 58, 22, 40, 122, 18, 121, 42, 7, 51, 90, 68, 135, 97, 54, 91, 24, 68, 97, 119, 52, 126, 107, 70, 108, 83, 61, 81, 84, 73, 34, 23, 78, 45, 84, 28, 104, 124, 129, 75, 52, 83, 107, 92, 116, 92, 41, 47, 54, 72, 50, 35, 45, 128, 30, 84, 30, 133, 57, 32, 90, 116, 91, 77, 72, 29, 90, 76, 23, 87, 54, 59, 37, 74, 75, 76, 75, 114, 49, 27, 45, 48, 78, 11, 49, 36, 57, 78, 68, 12, 86, 80, 105, 97, 51, 46, 53, 52, 46, 78, 46, 104, 43, 90, 36, 67, 26, 48, 44, 47, 97, 18, 140, 114, 70, 16, 77, 31, 113, 106, 53, 100, 62, 11, 127, 125, 13, 60, 15, 42, 100, 117, 109, 58, 69, 80, 24, 83, 55, 37, 52, 84, 45, 13, 107, 50, 83, 41, 34, 33, 77, 21, 65, 117, 64, 96, 46, 108, 39, 29, 93, 19, 85, 137, 17, 102, 13, 106, 112, 21, 54, 40, 30, 51, 62, 80, 78, 76, 27, 119, 59, 71, 96, 127, 112, 57, 46, 91, 56, 54, 34, 53, 75, 34, 113, 96, 49, 99, 55, 51, 37, 51, 17, 72, 91, 106, 99, 57, 72, 11, 63, 39, 23, 33, 34, 47, 40, 41, 97, 64, 45, 45, 36, 54, 49, 48, 91, 22, 91, 57, 70, 96, 47, 105, 110, 72, 71, 30, 31, 64, 51, 30, 87, 101, 35, 38, 51, 84, 44, 70, 65, 73, 83, 55, 49, 35, 49, 56, 15, 73, 25, 22, 123, 12, 61, 103, 59, 73, 54, 28, 29, 78, 41, 41, 46, 71, 39, 133, 7, 41, 61, 55, 126, 110, 55, 109, 65, 111, 42, 61, 95, 11, 96, 54, 37, 101, 124, 25, 36, 37, 125, 26, 86, 64, 34, 69, 33, 113, 120, 49, 52, 65, 108, 97, 70, 51, 13, 121, 64, 60, 55, 47, 83, 69, 63, 112, 33, 68, 104, 52, 88, 49, 60, 47, 85, 120, 82, 27, 53, 79, 65, 118, 47, 126, 21, 57, 43, 75, 46, 49, 14, 80, 45, 118, 12, 91, 32, 33, 63, 59, 46, 62, 95, 29, 46, 50, 41, 83, 102, 56, 30, 60, 139, 93, 65, 77, 57, 106, 21, 41, 17, 37, 89, 71, 18, 46, 20, 28, 27, 52, 66, 23, 34, 34, 36, 23, 74, 78, 89, 37, 8, 109, 99, 74, 9, 116, 70, 18, 24, 11, 58, 71, 77, 8, 18, 89, 52, 116, 53, 16, 30, 36, 48, 72, 97, 38, 58, 61, 42, 33, 27, 74, 23, 47, 80, 52, 126, 14, 72, 93, 79, 80, 36, 53, 46, 84, 62, 102, 124, 56, 36, 40, 111, 27, 36, 100, 136, 79, 28, 93, 26, 33, 94, 77, 128, 132, 132, 61, 25, 31, 32, 55, 50, 25, 111, 50, 81, 95, 82, 12, 71, 65, 105, 127, 111, 131, 59, 23, 59, 35, 26, 61, 52, 49, 53, 88, 72, 24, 42, 122, 28, 41, 88, 89, 64, 55, 24, 98, 76, 33, 11, 44, 79, 52, 23, 5, 64, 80, 51, 15, 36, 20, 63, 37, 138, 24, 85, 153, 61, 115, 61, 54, 22, 95, 118, 25, 67, 66, 46, 56, 29, 69, 29, 36, 70, 68, 52, 117, 120, 86, 12, 39, 43, 116, 19, 50, 110, 46, 19, 35, 34, 85, 79, 74, 28, 76, 18, 72, 73, 76, 17, 123, 97, 23, 130, 52, 109, 47, 48, 60, 37, 54, 44, 121, 9, 41, 106, 100, 29, 92, 47, 56, 16, 76, 81, 80, 86, 37, 110, 106, 21, 69, 47, 46, 120, 30, 30, 50, 42, 11, 52, 42, 86, 27, 133, 118, 50, 16, 66, 18, 103, 24, 61, 53, 79, 18, 34, 62, 57, 107, 104, 17, 96, 33, 75, 121, 21, 121, 29, 53, 23, 71, 90, 64, 83, 74, 27, 85, 91, 69, 27, 53, 34, 91, 50, 108, 98, 20, 90, 15, 113, 49, 61, 41, 26, 92, 108, 91, 42, 116, 111, 128, 33, 54, 125, 64, 164, 42, 119, 78, 81, 68]}, {\"name\": \"negative\", \"type\": \"box\", \"y\": [65, 60, 67, 45, 94, 44, 12, 99, 14, 28, 24, 90, 15, 83, 27, 35, 48, 95, 40, 127, 72, 59, 54, 29, 110, 42, 122, 120, 98, 115, 57, 79, 99, 56, 52, 51, 107, 63, 117, 48, 20, 35, 47, 108, 23, 66, 127, 16, 19, 26, 15, 26, 114, 8, 55, 115, 57, 66, 44, 88, 40, 43, 52, 134, 36, 49, 28, 33, 104, 95, 83, 87, 78, 57, 93, 32, 33, 35, 86, 31, 74, 39, 84, 12, 31, 64, 48, 48, 62, 99, 26, 121, 32, 78, 96, 125, 132, 61, 39, 77, 62, 118, 58, 111, 101, 77, 45, 59, 56, 13, 11, 19, 93, 60, 11, 87, 60, 52, 68, 113, 76, 58, 80, 80, 31, 22, 103, 22, 47, 65, 33, 105, 135, 84, 28, 127, 25, 70, 96, 56, 102, 21, 58, 44, 84, 60, 38, 105, 19, 11, 112, 59, 105, 58, 24, 66, 47, 41, 25, 128, 104, 94, 39, 70, 118, 53, 91, 103, 18, 69, 10, 74, 115, 28, 11, 35, 118, 48, 11, 36, 102, 56, 65, 83, 25, 17, 95, 97, 91, 47, 74, 88, 86, 51, 63, 49, 122, 20, 40, 70, 15, 104, 52, 14, 35, 84, 30, 46, 28, 34, 23, 45, 52, 14, 77, 86, 95, 20, 9, 23, 81, 72, 55, 106, 43, 40, 45, 33, 17, 5, 55, 63, 36, 5, 57, 56, 10, 120, 108, 44, 73, 21, 101, 55, 51, 42, 93, 76, 49, 35, 80, 76, 56, 46, 111, 111, 63, 59, 118, 58, 113, 110, 102, 74, 133, 55, 67, 58, 89, 35, 77, 52, 31, 7, 73, 79, 62, 47, 30, 25, 64, 66, 98, 13, 48, 19, 65, 71, 132, 38, 83, 124, 53, 77, 65, 23, 45, 35, 16, 44, 68, 135, 55, 55, 60, 29, 78, 48, 107, 21, 32, 104, 86, 45, 67, 33, 32, 51, 40, 113, 25, 61, 30, 90, 21, 100, 29, 124, 105, 61, 80, 20, 37, 74, 10, 68, 71, 72, 29, 27, 71, 69, 16, 83, 26, 124, 23, 73, 30, 89, 72, 112, 71, 24, 27, 68, 55, 29, 122, 29, 70, 9, 61, 110, 74, 75, 29, 22, 54, 65, 44, 27, 69, 140, 34, 81, 75, 50, 68, 76, 47, 124, 136, 113, 49, 63, 85, 111, 119, 109, 106, 18, 53, 108, 21, 36, 43, 63, 50, 34, 111, 66, 67, 61, 97, 97, 49, 44, 87, 45, 46, 91, 100, 40, 14, 10, 112, 119, 54, 28, 31, 107, 27, 71, 49, 73, 66, 124, 17, 95, 13, 12, 60, 60, 33, 98, 111, 27, 45, 122, 40, 20, 93, 107, 64, 58, 104, 32, 99, 109, 60, 58, 102, 42, 86, 36, 17, 71, 41, 31, 110, 36, 66, 37, 118, 75, 22, 85, 18, 46, 80, 64, 112, 61, 13, 81, 95, 98, 51, 57, 117, 45, 89, 16, 16, 100, 59, 110, 97, 60, 43, 80, 119, 132, 20, 50, 115, 18, 31, 63, 60, 38, 32, 11, 114, 78, 67, 118, 97, 33, 92, 118, 69, 51, 110, 29, 66, 107, 11, 57, 82, 48, 78, 51, 22, 80, 55, 76, 70, 36, 88, 116, 127, 129, 74, 50, 51, 45, 116, 40, 55, 23, 65, 33, 62, 35, 96, 138, 48, 54, 112, 33, 90, 59, 73, 33, 42, 28, 20, 68, 93, 69, 112, 55, 42, 18, 56, 120, 58, 29, 74, 109, 85, 38, 122, 39, 27, 35, 81, 13, 43, 54, 106, 11, 102, 59, 65, 14, 38, 44, 152, 20, 119, 74, 57, 20, 86, 28, 50, 90, 65, 48, 32, 92, 83, 114, 76, 32, 100, 50, 113, 108, 37, 92, 19, 65, 47, 27, 20, 20, 88, 74, 58, 125, 36, 67, 17, 22, 38, 32, 25, 86, 97, 114, 70, 64, 110, 108, 29, 37, 69, 52, 82, 57, 52, 62, 116, 21, 43, 61, 9, 45, 117, 79, 24, 118, 77, 79, 51, 64, 108, 26, 16, 27, 12, 124, 87, 43, 77, 73, 68, 45, 109, 65, 91, 27, 49, 85, 102, 142, 70, 64, 90, 23, 59, 53, 62, 51, 42, 77, 59, 105, 32, 97, 56, 93, 27, 65, 25, 19, 84, 34, 78, 38, 39, 21, 78, 87, 103, 71, 38, 48, 41, 47, 89, 47, 84, 117, 17, 130, 131, 60, 94, 54, 42, 34, 44, 86, 32, 34, 26, 105, 111, 80, 118, 38, 63, 51, 34, 41, 34, 89, 61, 10, 53, 119, 23, 62, 98, 34, 115, 66, 106, 103, 115, 106, 64, 48, 67, 105, 63, 42, 35, 47, 59, 70, 71, 75, 42, 114, 132, 38, 35, 14, 64, 86, 81, 65, 113, 31, 88, 91, 80, 66, 84, 58, 103, 15, 93, 35, 17, 20, 113, 126, 52, 73, 19, 51, 22, 36, 29, 108, 63, 115, 30, 40, 25, 34, 22, 109, 67, 36, 22, 100, 12, 78, 31, 19, 71, 32, 79, 51, 60, 135, 38, 15, 62, 10, 74, 92, 95, 62, 40, 74, 76, 27, 97, 28, 63, 56, 71, 137, 59, 80, 107, 37, 84, 66, 49, 136, 78, 42, 19, 73, 53, 32, 62, 28, 68, 73, 59, 92, 24, 54, 26, 33, 30, 109, 103, 46, 87, 114, 45, 45, 128, 55, 95, 16, 110, 42, 34, 20, 94, 105, 130, 34, 24, 49, 117, 112, 55, 56, 12, 24, 106, 103, 45, 120, 39, 22, 52, 124, 53, 52, 69, 51, 42, 65, 66, 96, 92, 93, 44, 112, 44, 44, 108, 99, 29, 75, 109, 46, 98, 80, 86, 70, 59, 85, 52, 132, 43, 88, 28, 83, 61, 77, 126, 54, 10, 84, 29, 66, 105, 76, 109, 95, 48, 108, 36, 121, 29, 98, 32, 108, 117, 42, 29, 45, 34, 54, 46, 58, 105, 46, 34, 58, 55, 40, 19, 102, 63, 35, 52, 50, 24, 68, 33, 41, 89, 43, 31, 90, 64, 87, 68, 33, 127, 39, 79, 66, 35, 109, 54, 39, 41, 122, 18, 71, 111, 37, 103]}, {\"name\": \"neutral\", \"type\": \"box\", \"y\": [14, 52, 28, 32, 25, 52, 84, 124, 61, 57, 50, 6, 19, 114, 81, 120, 76, 31, 29, 61, 80, 111, 70, 42, 74, 60, 33, 16, 20, 21, 96, 41, 82, 37, 35, 65, 35, 37, 56, 89, 42, 47, 29, 75, 30, 18, 34, 31, 39, 47, 69, 82, 121, 27, 11, 105, 20, 48, 62, 44, 128, 69, 29, 106, 26, 122, 84, 47, 102, 101, 54, 59, 56, 112, 55, 4, 73, 72, 47, 20, 35, 70, 61, 85, 89, 30, 59, 80, 63, 117, 37, 127, 104, 64, 88, 99, 32, 125, 107, 20, 81, 40, 70, 45, 90, 71, 123, 26, 14, 116, 77, 106, 8, 91, 87, 44, 36, 126, 75, 55, 48, 52, 51, 86, 38, 93, 26, 98, 65, 22, 23, 40, 116, 45, 69, 37, 9, 108, 54, 36, 96, 30, 33, 24, 69, 27, 52, 12, 17, 28, 15, 39, 45, 64, 44, 81, 72, 59, 10, 29, 100, 45, 112, 24, 106, 38, 53, 19, 38, 106, 11, 24, 38, 135, 54, 38, 80, 41, 57, 28, 43, 46, 102, 131, 70, 108, 78, 63, 78, 86, 116, 58, 96, 30, 94, 61, 58, 40, 54, 52, 63, 54, 12, 73, 29, 47, 6, 83, 98, 101, 52, 121, 49, 32, 76, 69, 62, 40, 102, 87, 17, 8, 58, 84, 25, 122, 38, 38, 24, 90, 92, 110, 59, 68, 67, 79, 26, 29, 35, 77, 50, 87, 47, 59, 21, 31, 19, 32, 49, 52, 31, 47, 34, 133, 8, 42, 30, 116, 19, 48, 33, 126, 47, 39, 60, 110, 65, 54, 98, 35, 118, 33, 41, 27, 82, 22, 48, 80, 40, 66, 41, 12, 26, 114, 99, 115, 127, 122, 126, 70, 36, 43, 68, 116, 26, 96, 111, 115, 42, 60, 45, 48, 35, 41, 58, 105, 40, 84, 86, 104, 137, 61, 32, 68, 51, 58, 107, 106, 66, 33, 39, 109, 33, 15, 21, 39, 100, 111, 88, 103, 54, 51, 23, 116, 105, 83, 89, 83, 45, 15, 68, 74, 107, 53, 40, 29, 45, 76, 60, 77, 29, 10, 42, 41, 9, 61, 63, 24, 29, 112, 77, 24, 39, 7, 65, 89, 78, 66, 30, 73, 104, 56, 135, 31, 32, 49, 86, 100, 95, 116, 29, 44, 124, 22, 67, 75, 106, 49, 87, 21, 123, 87, 98, 28, 68, 68, 26, 89, 73, 46, 131, 123, 31, 120, 14, 88, 135, 92, 79, 52, 34, 65, 44, 37, 89, 100, 13, 20, 24, 88, 34, 60, 63, 63, 11, 84, 47, 112, 47, 31, 91, 106, 110, 95, 25, 75, 50, 9, 81, 17, 84, 76, 5, 18, 4, 28, 31, 40, 49, 113, 61, 99, 40, 7, 39, 24, 19, 71, 46, 109, 93, 43, 30, 104, 82, 107, 126, 110, 73, 94, 123, 18, 88, 33, 81, 28, 81, 28, 44, 55, 45, 51, 33, 134, 80, 80, 110, 16, 49, 11, 24, 44, 53, 30, 48, 11, 85, 101, 66, 21, 39, 15, 34, 57, 51, 130, 19, 30, 72, 30, 28, 52, 83, 27, 102, 109, 67, 27, 43, 116, 109, 85, 20, 68, 38, 30, 38, 89, 108, 32, 62, 52, 72, 101, 75, 44, 67, 118, 36, 47, 69, 80, 18, 74, 34, 47, 88, 75, 44, 28, 67, 53, 45, 37, 42, 63, 53, 52, 29, 35, 66, 44, 69, 80, 6, 51, 82, 127, 97, 18, 32, 31, 29, 32, 89, 116, 136, 5, 134, 22, 12, 67, 48, 70, 92, 111, 28, 118, 25, 66, 67, 34, 48, 92, 46, 80, 24, 17, 96, 113, 64, 31, 32, 32, 38, 41, 19, 82, 22, 55, 90, 82, 49, 24, 69, 84, 12, 69, 64, 24, 106, 46, 131, 99, 55, 47, 40, 24, 71, 125, 92, 76, 64, 14, 27, 56, 25, 18, 37, 45, 104, 11, 65, 44, 118, 37, 13, 29, 131, 34, 13, 66, 22, 40, 17, 121, 75, 42, 59, 84, 4, 103, 95, 70, 30, 118, 90, 41, 18, 50, 20, 17, 84, 110, 135, 58, 30, 57, 14, 38, 36, 61, 80, 44, 118, 112, 70, 8, 17, 96, 81, 24, 44, 6, 14, 124, 18, 57, 65, 125, 37, 92, 88, 44, 88, 94, 28, 63, 103, 14, 64, 11, 107, 108, 35, 79, 29, 32, 28, 112, 141, 90, 31, 109, 23, 39, 29, 27, 78, 36, 98, 40, 112, 119, 22, 51, 45, 20, 17, 35, 38, 49, 31, 38, 26, 44, 73, 8, 108, 38, 23, 86, 71, 25, 23, 109, 81, 18, 70, 115, 47, 13, 26, 41, 49, 136, 38, 26, 72, 39, 64, 34, 19, 40, 63, 71, 36, 7, 21, 52, 131, 98, 48, 12, 11, 106, 89, 63, 93, 50, 40, 36, 92, 98, 33, 71, 19, 31, 16, 91, 121, 78, 10, 65, 19, 51, 94, 71, 35, 54, 45, 120, 71, 121, 67, 101, 138, 119, 32, 51, 67, 59, 79, 81, 31, 120, 16, 82, 24, 127, 58, 9, 12, 10, 94, 23, 28, 30, 84, 36, 73, 27, 95, 27, 16, 87, 62, 11, 93, 20, 9, 101, 46, 40, 35, 44, 29, 24, 35, 74, 63, 90, 34, 69, 91, 97, 115, 13, 120, 109, 20, 38, 32, 116, 81, 41, 87, 14, 52, 112, 83, 92, 90, 119, 19, 21, 21, 109, 37, 38, 7, 51, 51, 34, 34, 28, 38, 23, 76, 98, 71, 60, 31, 63, 97, 30, 114, 18, 28, 61, 139, 99, 20, 42, 33, 100, 6, 87, 17, 74, 60, 68, 111, 36, 31, 74, 53, 17, 76, 69, 18, 76, 124, 25, 39, 25, 134, 72, 39, 15, 54, 43, 54, 66, 14, 81, 23, 44, 31, 22, 19, 24, 126, 24, 93, 50, 56, 14, 30, 9, 25, 115, 94, 34, 16, 45, 44, 64, 87, 29, 58, 138, 60, 48, 35, 56, 137, 32, 120, 28, 63, 58, 22, 59, 45, 122, 43, 102, 105, 100, 107, 35, 34, 68, 27, 53, 15, 78, 69, 62, 38, 65, 120, 89, 115, 59, 111, 20, 53, 62, 58, 31, 97, 58, 14, 34, 15, 27, 38, 76, 30, 24, 12, 22, 140, 95, 147, 110, 110, 42, 14, 14, 24, 43, 17, 20, 36, 16, 32, 113, 68, 33, 100, 59, 52, 89, 109, 56, 20, 51, 20, 99, 98, 106, 62, 89, 119, 41, 63, 39, 115, 6, 57, 91, 43, 22, 120, 78, 93, 55, 121, 35, 116, 85, 28, 69, 42, 42, 29, 39, 49, 105, 18, 95, 12, 12, 83, 119, 61, 94, 50, 80, 25, 26, 50, 29, 9, 49, 49, 22, 107, 87, 44, 90, 32, 110, 76, 74, 39, 45, 43, 32, 38, 119, 93, 16, 63, 110, 82, 23, 58, 91, 51, 30, 108, 28, 63, 15, 84, 35, 36, 49, 42, 124, 82, 72, 95, 86, 103, 132, 12, 110, 87, 117, 95, 26, 38, 17, 62, 22, 84, 67, 39, 93, 111, 48, 24, 98, 39, 59, 17, 83, 37, 17, 34, 46, 41, 21, 38, 117, 75, 55, 49, 125, 18, 21, 70, 43, 45, 68, 86, 66, 27, 59, 33, 11, 10, 22, 60, 34, 120, 21, 81, 33, 22, 85, 129, 118, 70, 86, 109, 81, 29, 55, 26, 21, 34, 74, 59, 22, 98, 11, 110, 61, 123, 29, 62, 62, 32, 54, 103, 27, 61, 37, 122, 83, 54, 35, 85, 104, 18, 79, 101, 48, 56, 106, 88, 46, 75, 120, 68, 110, 61, 54, 66, 60, 112, 40, 32, 97, 62, 130, 85, 18, 119, 99, 112, 16, 76, 124, 33, 50, 106, 46, 102, 83, 46, 57, 109, 71, 40, 35, 99, 30, 99, 76, 15, 8, 26, 110, 80, 102, 35, 81, 74, 109, 40, 44, 86, 8, 115, 114, 106, 57, 18, 26, 19, 110, 72, 85, 5, 27, 32, 17, 30, 66, 43, 119, 57, 10, 10, 21, 107, 81, 22, 143, 52, 109, 82, 40, 59, 28, 93, 64, 50, 115, 35, 34, 35, 101, 71, 79, 36, 115, 86, 108, 86, 111, 75, 65, 15, 123, 17, 35, 28, 23, 47, 45, 116, 18, 11, 26, 114, 77, 14, 85, 32, 24, 27, 27, 116, 55, 32, 78, 83, 43, 86, 53, 81, 61, 52, 25, 87, 44, 34, 29, 71, 86, 27, 66, 14, 54, 93, 76, 59, 17, 36, 26, 70, 63, 20, 78, 53, 22, 69, 10, 86, 114, 81, 79, 23, 64, 119, 47, 24, 74, 34, 45, 91, 9, 72, 27, 8, 18, 8, 25, 74, 73, 97, 26, 112, 36, 26, 50, 66, 77, 18, 32, 116, 8]}],\n",
       "                        {\"template\": {\"data\": {\"bar\": [{\"error_x\": {\"color\": \"#2a3f5f\"}, \"error_y\": {\"color\": \"#2a3f5f\"}, \"marker\": {\"line\": {\"color\": \"#E5ECF6\", \"width\": 0.5}}, \"type\": \"bar\"}], \"barpolar\": [{\"marker\": {\"line\": {\"color\": \"#E5ECF6\", \"width\": 0.5}}, \"type\": \"barpolar\"}], \"carpet\": [{\"aaxis\": {\"endlinecolor\": \"#2a3f5f\", \"gridcolor\": \"white\", \"linecolor\": \"white\", \"minorgridcolor\": \"white\", \"startlinecolor\": \"#2a3f5f\"}, \"baxis\": {\"endlinecolor\": \"#2a3f5f\", \"gridcolor\": \"white\", \"linecolor\": \"white\", \"minorgridcolor\": \"white\", \"startlinecolor\": \"#2a3f5f\"}, \"type\": \"carpet\"}], \"choropleth\": [{\"colorbar\": {\"outlinewidth\": 0, \"ticks\": \"\"}, \"type\": \"choropleth\"}], \"contour\": [{\"colorbar\": {\"outlinewidth\": 0, \"ticks\": \"\"}, \"colorscale\": [[0.0, \"#0d0887\"], [0.1111111111111111, \"#46039f\"], [0.2222222222222222, \"#7201a8\"], [0.3333333333333333, \"#9c179e\"], [0.4444444444444444, \"#bd3786\"], [0.5555555555555556, \"#d8576b\"], [0.6666666666666666, \"#ed7953\"], [0.7777777777777778, \"#fb9f3a\"], [0.8888888888888888, \"#fdca26\"], [1.0, \"#f0f921\"]], \"type\": \"contour\"}], \"contourcarpet\": [{\"colorbar\": {\"outlinewidth\": 0, \"ticks\": \"\"}, \"type\": \"contourcarpet\"}], \"heatmap\": [{\"colorbar\": {\"outlinewidth\": 0, \"ticks\": \"\"}, \"colorscale\": [[0.0, \"#0d0887\"], [0.1111111111111111, \"#46039f\"], [0.2222222222222222, \"#7201a8\"], [0.3333333333333333, \"#9c179e\"], [0.4444444444444444, \"#bd3786\"], [0.5555555555555556, \"#d8576b\"], [0.6666666666666666, \"#ed7953\"], [0.7777777777777778, \"#fb9f3a\"], [0.8888888888888888, \"#fdca26\"], [1.0, \"#f0f921\"]], \"type\": \"heatmap\"}], \"heatmapgl\": [{\"colorbar\": {\"outlinewidth\": 0, \"ticks\": \"\"}, \"colorscale\": [[0.0, \"#0d0887\"], [0.1111111111111111, \"#46039f\"], [0.2222222222222222, \"#7201a8\"], [0.3333333333333333, \"#9c179e\"], [0.4444444444444444, \"#bd3786\"], [0.5555555555555556, \"#d8576b\"], [0.6666666666666666, \"#ed7953\"], [0.7777777777777778, \"#fb9f3a\"], [0.8888888888888888, \"#fdca26\"], [1.0, \"#f0f921\"]], \"type\": \"heatmapgl\"}], \"histogram\": [{\"marker\": {\"colorbar\": {\"outlinewidth\": 0, \"ticks\": \"\"}}, \"type\": \"histogram\"}], \"histogram2d\": [{\"colorbar\": {\"outlinewidth\": 0, \"ticks\": \"\"}, \"colorscale\": [[0.0, \"#0d0887\"], [0.1111111111111111, \"#46039f\"], [0.2222222222222222, \"#7201a8\"], [0.3333333333333333, \"#9c179e\"], [0.4444444444444444, \"#bd3786\"], [0.5555555555555556, \"#d8576b\"], [0.6666666666666666, \"#ed7953\"], [0.7777777777777778, \"#fb9f3a\"], [0.8888888888888888, \"#fdca26\"], [1.0, \"#f0f921\"]], \"type\": \"histogram2d\"}], \"histogram2dcontour\": [{\"colorbar\": {\"outlinewidth\": 0, \"ticks\": \"\"}, \"colorscale\": [[0.0, \"#0d0887\"], [0.1111111111111111, \"#46039f\"], [0.2222222222222222, \"#7201a8\"], [0.3333333333333333, \"#9c179e\"], [0.4444444444444444, \"#bd3786\"], [0.5555555555555556, \"#d8576b\"], [0.6666666666666666, \"#ed7953\"], [0.7777777777777778, \"#fb9f3a\"], [0.8888888888888888, \"#fdca26\"], [1.0, \"#f0f921\"]], \"type\": \"histogram2dcontour\"}], \"mesh3d\": [{\"colorbar\": {\"outlinewidth\": 0, \"ticks\": \"\"}, \"type\": \"mesh3d\"}], \"parcoords\": [{\"line\": {\"colorbar\": {\"outlinewidth\": 0, \"ticks\": \"\"}}, \"type\": \"parcoords\"}], \"pie\": [{\"automargin\": true, \"type\": \"pie\"}], \"scatter\": [{\"marker\": {\"colorbar\": {\"outlinewidth\": 0, \"ticks\": \"\"}}, \"type\": \"scatter\"}], \"scatter3d\": [{\"line\": {\"colorbar\": {\"outlinewidth\": 0, \"ticks\": \"\"}}, \"marker\": {\"colorbar\": {\"outlinewidth\": 0, \"ticks\": \"\"}}, \"type\": \"scatter3d\"}], \"scattercarpet\": [{\"marker\": {\"colorbar\": {\"outlinewidth\": 0, \"ticks\": \"\"}}, \"type\": \"scattercarpet\"}], \"scattergeo\": [{\"marker\": {\"colorbar\": {\"outlinewidth\": 0, \"ticks\": \"\"}}, \"type\": \"scattergeo\"}], \"scattergl\": [{\"marker\": {\"colorbar\": {\"outlinewidth\": 0, \"ticks\": \"\"}}, \"type\": \"scattergl\"}], \"scattermapbox\": [{\"marker\": {\"colorbar\": {\"outlinewidth\": 0, \"ticks\": \"\"}}, \"type\": \"scattermapbox\"}], \"scatterpolar\": [{\"marker\": {\"colorbar\": {\"outlinewidth\": 0, \"ticks\": \"\"}}, \"type\": \"scatterpolar\"}], \"scatterpolargl\": [{\"marker\": {\"colorbar\": {\"outlinewidth\": 0, \"ticks\": \"\"}}, \"type\": \"scatterpolargl\"}], \"scatterternary\": [{\"marker\": {\"colorbar\": {\"outlinewidth\": 0, \"ticks\": \"\"}}, \"type\": \"scatterternary\"}], \"surface\": [{\"colorbar\": {\"outlinewidth\": 0, \"ticks\": \"\"}, \"colorscale\": [[0.0, \"#0d0887\"], [0.1111111111111111, \"#46039f\"], [0.2222222222222222, \"#7201a8\"], [0.3333333333333333, \"#9c179e\"], [0.4444444444444444, \"#bd3786\"], [0.5555555555555556, \"#d8576b\"], [0.6666666666666666, \"#ed7953\"], [0.7777777777777778, \"#fb9f3a\"], [0.8888888888888888, \"#fdca26\"], [1.0, \"#f0f921\"]], \"type\": \"surface\"}], \"table\": [{\"cells\": {\"fill\": {\"color\": \"#EBF0F8\"}, \"line\": {\"color\": \"white\"}}, \"header\": {\"fill\": {\"color\": \"#C8D4E3\"}, \"line\": {\"color\": \"white\"}}, \"type\": \"table\"}]}, \"layout\": {\"annotationdefaults\": {\"arrowcolor\": \"#2a3f5f\", \"arrowhead\": 0, \"arrowwidth\": 1}, \"coloraxis\": {\"colorbar\": {\"outlinewidth\": 0, \"ticks\": \"\"}}, \"colorscale\": {\"diverging\": [[0, \"#8e0152\"], [0.1, \"#c51b7d\"], [0.2, \"#de77ae\"], [0.3, \"#f1b6da\"], [0.4, \"#fde0ef\"], [0.5, \"#f7f7f7\"], [0.6, \"#e6f5d0\"], [0.7, \"#b8e186\"], [0.8, \"#7fbc41\"], [0.9, \"#4d9221\"], [1, \"#276419\"]], \"sequential\": [[0.0, \"#0d0887\"], [0.1111111111111111, \"#46039f\"], [0.2222222222222222, \"#7201a8\"], [0.3333333333333333, \"#9c179e\"], [0.4444444444444444, \"#bd3786\"], [0.5555555555555556, \"#d8576b\"], [0.6666666666666666, \"#ed7953\"], [0.7777777777777778, \"#fb9f3a\"], [0.8888888888888888, \"#fdca26\"], [1.0, \"#f0f921\"]], \"sequentialminus\": [[0.0, \"#0d0887\"], [0.1111111111111111, \"#46039f\"], [0.2222222222222222, \"#7201a8\"], [0.3333333333333333, \"#9c179e\"], [0.4444444444444444, \"#bd3786\"], [0.5555555555555556, \"#d8576b\"], [0.6666666666666666, \"#ed7953\"], [0.7777777777777778, \"#fb9f3a\"], [0.8888888888888888, \"#fdca26\"], [1.0, \"#f0f921\"]]}, \"colorway\": [\"#636efa\", \"#EF553B\", \"#00cc96\", \"#ab63fa\", \"#FFA15A\", \"#19d3f3\", \"#FF6692\", \"#B6E880\", \"#FF97FF\", \"#FECB52\"], \"font\": {\"color\": \"#2a3f5f\"}, \"geo\": {\"bgcolor\": \"white\", \"lakecolor\": \"white\", \"landcolor\": \"#E5ECF6\", \"showlakes\": true, \"showland\": true, \"subunitcolor\": \"white\"}, \"hoverlabel\": {\"align\": \"left\"}, \"hovermode\": \"closest\", \"mapbox\": {\"style\": \"light\"}, \"paper_bgcolor\": \"white\", \"plot_bgcolor\": \"#E5ECF6\", \"polar\": {\"angularaxis\": {\"gridcolor\": \"white\", \"linecolor\": \"white\", \"ticks\": \"\"}, \"bgcolor\": \"#E5ECF6\", \"radialaxis\": {\"gridcolor\": \"white\", \"linecolor\": \"white\", \"ticks\": \"\"}}, \"scene\": {\"xaxis\": {\"backgroundcolor\": \"#E5ECF6\", \"gridcolor\": \"white\", \"gridwidth\": 2, \"linecolor\": \"white\", \"showbackground\": true, \"ticks\": \"\", \"zerolinecolor\": \"white\"}, \"yaxis\": {\"backgroundcolor\": \"#E5ECF6\", \"gridcolor\": \"white\", \"gridwidth\": 2, \"linecolor\": \"white\", \"showbackground\": true, \"ticks\": \"\", \"zerolinecolor\": \"white\"}, \"zaxis\": {\"backgroundcolor\": \"#E5ECF6\", \"gridcolor\": \"white\", \"gridwidth\": 2, \"linecolor\": \"white\", \"showbackground\": true, \"ticks\": \"\", \"zerolinecolor\": \"white\"}}, \"shapedefaults\": {\"line\": {\"color\": \"#2a3f5f\"}}, \"ternary\": {\"aaxis\": {\"gridcolor\": \"white\", \"linecolor\": \"white\", \"ticks\": \"\"}, \"baxis\": {\"gridcolor\": \"white\", \"linecolor\": \"white\", \"ticks\": \"\"}, \"bgcolor\": \"#E5ECF6\", \"caxis\": {\"gridcolor\": \"white\", \"linecolor\": \"white\", \"ticks\": \"\"}}, \"title\": {\"x\": 0.05}, \"xaxis\": {\"automargin\": true, \"gridcolor\": \"white\", \"linecolor\": \"white\", \"ticks\": \"\", \"title\": {\"standoff\": 15}, \"zerolinecolor\": \"white\", \"zerolinewidth\": 2}, \"yaxis\": {\"automargin\": true, \"gridcolor\": \"white\", \"linecolor\": \"white\", \"ticks\": \"\", \"title\": {\"standoff\": 15}, \"zerolinecolor\": \"white\", \"zerolinewidth\": 2}}}, \"title\": {\"text\": \"Sentiment Vs Comment Lenght (After pre-processing)\"}},\n",
       "                        {\"responsive\": true}\n",
       "                    ).then(function(){\n",
       "                            \n",
       "var gd = document.getElementById('a1ba52f5-0db4-40b5-a666-90bfcb41f255');\n",
       "var x = new MutationObserver(function (mutations, observer) {{\n",
       "        var display = window.getComputedStyle(gd).display;\n",
       "        if (!display || display === 'none') {{\n",
       "            console.log([gd, 'removed!']);\n",
       "            Plotly.purge(gd);\n",
       "            observer.disconnect();\n",
       "        }}\n",
       "}});\n",
       "\n",
       "// Listen for the removal of the full notebook cells\n",
       "var notebookContainer = gd.closest('#notebook-container');\n",
       "if (notebookContainer) {{\n",
       "    x.observe(notebookContainer, {childList: true});\n",
       "}}\n",
       "\n",
       "// Listen for the clearing of the current output cell\n",
       "var outputEl = gd.closest('.output');\n",
       "if (outputEl) {{\n",
       "    x.observe(outputEl, {childList: true});\n",
       "}}\n",
       "\n",
       "                        })\n",
       "                };\n",
       "                });\n",
       "            </script>\n",
       "        </div>"
      ]
     },
     "metadata": {},
     "output_type": "display_data"
    }
   ],
   "source": [
    "fig2.show()"
   ]
  },
  {
   "cell_type": "markdown",
   "metadata": {},
   "source": [
    "## 2 . Spacy Aspect-Based Opinion Mining is to extract product's aspects and the associated user opinions from the user text review"
   ]
  },
  {
   "cell_type": "code",
   "execution_count": 10,
   "metadata": {},
   "outputs": [],
   "source": [
    "aspect_terms = []\n",
    "for review in nlp.pipe(test.text_clean):\n",
    "    chunks = [(chunk.root.text) for chunk in review.noun_chunks if chunk.root.pos_ == 'NOUN']\n",
    "    aspect_terms.append(' '.join(chunks))\n",
    "    \n",
    "test['Aspect_Terms'] = aspect_terms    "
   ]
  },
  {
   "cell_type": "code",
   "execution_count": 11,
   "metadata": {},
   "outputs": [
    {
     "data": {
      "text/html": [
       "<div>\n",
       "<style scoped>\n",
       "    .dataframe tbody tr th:only-of-type {\n",
       "        vertical-align: middle;\n",
       "    }\n",
       "\n",
       "    .dataframe tbody tr th {\n",
       "        vertical-align: top;\n",
       "    }\n",
       "\n",
       "    .dataframe thead th {\n",
       "        text-align: right;\n",
       "    }\n",
       "</style>\n",
       "<table border=\"1\" class=\"dataframe\">\n",
       "  <thead>\n",
       "    <tr style=\"text-align: right;\">\n",
       "      <th></th>\n",
       "      <th>textID</th>\n",
       "      <th>text</th>\n",
       "      <th>sentiment</th>\n",
       "      <th>text_clean</th>\n",
       "      <th>length</th>\n",
       "      <th>Aspect_Terms</th>\n",
       "    </tr>\n",
       "  </thead>\n",
       "  <tbody>\n",
       "    <tr>\n",
       "      <th>1876</th>\n",
       "      <td>ebae3ed394</td>\n",
       "      <td>OK, time to head into Urban Outfitters to see ...</td>\n",
       "      <td>neutral</td>\n",
       "      <td>ok , time to head into urban outfitters to see...</td>\n",
       "      <td>131</td>\n",
       "      <td>outfitters rain day</td>\n",
       "    </tr>\n",
       "    <tr>\n",
       "      <th>3128</th>\n",
       "      <td>6cd9991cca</td>\n",
       "      <td>oic, where in Cavite? no sorry im not from Am...</td>\n",
       "      <td>neutral</td>\n",
       "      <td>oic , where in cavite ? no sorry be not from ...</td>\n",
       "      <td>114</td>\n",
       "      <td>profile word</td>\n",
       "    </tr>\n",
       "    <tr>\n",
       "      <th>532</th>\n",
       "      <td>62ed3d6141</td>\n",
       "      <td>What's wrong with Dr.Phil? I shamefully loved...</td>\n",
       "      <td>neutral</td>\n",
       "      <td>what be wrong with dr . phil ? shamefully lov...</td>\n",
       "      <td>76</td>\n",
       "      <td>show</td>\n",
       "    </tr>\n",
       "    <tr>\n",
       "      <th>3051</th>\n",
       "      <td>d3a576d221</td>\n",
       "      <td>you asked about my SF schedule, dahling...may...</td>\n",
       "      <td>neutral</td>\n",
       "      <td>ask about sf schedule , dahle ... maybe next ...</td>\n",
       "      <td>50</td>\n",
       "      <td>time</td>\n",
       "    </tr>\n",
       "    <tr>\n",
       "      <th>3168</th>\n",
       "      <td>af087c9deb</td>\n",
       "      <td>youre diabetic?   so is my dad.  &amp;amp; i mig...</td>\n",
       "      <td>negative</td>\n",
       "      <td>be diabetic ?  so be dad .  &amp; amp ; may be to...</td>\n",
       "      <td>110</td>\n",
       "      <td>dad sugar day</td>\n",
       "    </tr>\n",
       "  </tbody>\n",
       "</table>\n",
       "</div>"
      ],
      "text/plain": [
       "          textID                                               text sentiment  \\\n",
       "1876  ebae3ed394  OK, time to head into Urban Outfitters to see ...   neutral   \n",
       "3128  6cd9991cca   oic, where in Cavite? no sorry im not from Am...   neutral   \n",
       "532   62ed3d6141   What's wrong with Dr.Phil? I shamefully loved...   neutral   \n",
       "3051  d3a576d221   you asked about my SF schedule, dahling...may...   neutral   \n",
       "3168  af087c9deb    youre diabetic?   so is my dad.  &amp; i mig...  negative   \n",
       "\n",
       "                                             text_clean  length  \\\n",
       "1876  ok , time to head into urban outfitters to see...     131   \n",
       "3128   oic , where in cavite ? no sorry be not from ...     114   \n",
       "532    what be wrong with dr . phil ? shamefully lov...      76   \n",
       "3051   ask about sf schedule , dahle ... maybe next ...      50   \n",
       "3168   be diabetic ?  so be dad .  & amp ; may be to...     110   \n",
       "\n",
       "             Aspect_Terms  \n",
       "1876  outfitters rain day  \n",
       "3128         profile word  \n",
       "532                  show  \n",
       "3051                 time  \n",
       "3168        dad sugar day  "
      ]
     },
     "execution_count": 11,
     "metadata": {},
     "output_type": "execute_result"
    }
   ],
   "source": [
    "test.sample(5)"
   ]
  },
  {
   "cell_type": "markdown",
   "metadata": {},
   "source": [
    "## 3. Sentiment Word Extract"
   ]
  },
  {
   "cell_type": "code",
   "execution_count": 12,
   "metadata": {},
   "outputs": [],
   "source": [
    "sentiment_terms = []\n",
    "\n",
    "for review in nlp.pipe(test['text_clean']):\n",
    "        if review.is_parsed:\n",
    "            sentiment_terms.append(' '.join([token.lemma_ for token in review if (not token.is_stop and not token.is_punct and (token.pos_ == \"ADJ\" or token.pos_ == \"VERB\"))]))\n",
    "        else:\n",
    "            sentiment_terms.append('')  \n",
    "            \n",
    "test['Sentiment_terms'] = sentiment_terms  "
   ]
  },
  {
   "cell_type": "code",
   "execution_count": 13,
   "metadata": {},
   "outputs": [
    {
     "data": {
      "text/html": [
       "<div>\n",
       "<style scoped>\n",
       "    .dataframe tbody tr th:only-of-type {\n",
       "        vertical-align: middle;\n",
       "    }\n",
       "\n",
       "    .dataframe tbody tr th {\n",
       "        vertical-align: top;\n",
       "    }\n",
       "\n",
       "    .dataframe thead th {\n",
       "        text-align: right;\n",
       "    }\n",
       "</style>\n",
       "<table border=\"1\" class=\"dataframe\">\n",
       "  <thead>\n",
       "    <tr style=\"text-align: right;\">\n",
       "      <th></th>\n",
       "      <th>textID</th>\n",
       "      <th>text</th>\n",
       "      <th>sentiment</th>\n",
       "      <th>text_clean</th>\n",
       "      <th>length</th>\n",
       "      <th>Aspect_Terms</th>\n",
       "      <th>Sentiment_terms</th>\n",
       "    </tr>\n",
       "  </thead>\n",
       "  <tbody>\n",
       "    <tr>\n",
       "      <th>2538</th>\n",
       "      <td>4fed31099f</td>\n",
       "      <td>@_Anix_ I bought cheesecake ice cream last wee...</td>\n",
       "      <td>negative</td>\n",
       "      <td>@_anix _ buy cheesecake ice cream last week , ...</td>\n",
       "      <td>87</td>\n",
       "      <td>cream</td>\n",
       "      <td>buy think good suck</td>\n",
       "    </tr>\n",
       "    <tr>\n",
       "      <th>909</th>\n",
       "      <td>5f72b7df41</td>\n",
       "      <td>Now have windows 7 up and running....very very...</td>\n",
       "      <td>positive</td>\n",
       "      <td>now have window 7 up run .... very very happy ...</td>\n",
       "      <td>76</td>\n",
       "      <td>window run sum feature</td>\n",
       "      <td>happy wicked new</td>\n",
       "    </tr>\n",
       "    <tr>\n",
       "      <th>2339</th>\n",
       "      <td>10022832ae</td>\n",
       "      <td>I'm suffering from restless legs and butt synd...</td>\n",
       "      <td>negative</td>\n",
       "      <td>be suffer from restless leg butt syndrome .</td>\n",
       "      <td>43</td>\n",
       "      <td>syndrome</td>\n",
       "      <td>suffer</td>\n",
       "    </tr>\n",
       "    <tr>\n",
       "      <th>1846</th>\n",
       "      <td>31d260e718</td>\n",
       "      <td>There's no pause button in the game of life.</td>\n",
       "      <td>neutral</td>\n",
       "      <td>there be no pause button in the game of life .</td>\n",
       "      <td>47</td>\n",
       "      <td>button game life</td>\n",
       "      <td></td>\n",
       "    </tr>\n",
       "    <tr>\n",
       "      <th>3214</th>\n",
       "      <td>12cfea907c</td>\n",
       "      <td>Already misses</td>\n",
       "      <td>negative</td>\n",
       "      <td>already miss</td>\n",
       "      <td>12</td>\n",
       "      <td></td>\n",
       "      <td></td>\n",
       "    </tr>\n",
       "  </tbody>\n",
       "</table>\n",
       "</div>"
      ],
      "text/plain": [
       "          textID                                               text sentiment  \\\n",
       "2538  4fed31099f  @_Anix_ I bought cheesecake ice cream last wee...  negative   \n",
       "909   5f72b7df41  Now have windows 7 up and running....very very...  positive   \n",
       "2339  10022832ae  I'm suffering from restless legs and butt synd...  negative   \n",
       "1846  31d260e718       There's no pause button in the game of life.   neutral   \n",
       "3214  12cfea907c                                    Already misses   negative   \n",
       "\n",
       "                                             text_clean  length  \\\n",
       "2538  @_anix _ buy cheesecake ice cream last week , ...      87   \n",
       "909   now have window 7 up run .... very very happy ...      76   \n",
       "2339        be suffer from restless leg butt syndrome .      43   \n",
       "1846     there be no pause button in the game of life .      47   \n",
       "3214                                       already miss      12   \n",
       "\n",
       "                Aspect_Terms      Sentiment_terms  \n",
       "2538                   cream  buy think good suck  \n",
       "909   window run sum feature     happy wicked new  \n",
       "2339                syndrome               suffer  \n",
       "1846        button game life                       \n",
       "3214                                               "
      ]
     },
     "execution_count": 13,
     "metadata": {},
     "output_type": "execute_result"
    }
   ],
   "source": [
    "test.sample(5)"
   ]
  },
  {
   "cell_type": "markdown",
   "metadata": {},
   "source": [
    "## 4. PyTextRank is a Python implementation of TextRank as a spaCy extension\n"
   ]
  },
  {
   "cell_type": "code",
   "execution_count": 14,
   "metadata": {},
   "outputs": [],
   "source": [
    "import spacy\n",
    "import pytextrank\n",
    "nlp = spacy.load('en_core_web_sm')\n",
    "tr = pytextrank.TextRank()\n",
    "nlp.add_pipe(tr.PipelineComponent, name='textrank', last=True)"
   ]
  },
  {
   "cell_type": "code",
   "execution_count": 15,
   "metadata": {},
   "outputs": [],
   "source": [
    "pytext_key = []\n",
    "\n",
    "for text in test['text_clean']:\n",
    "    text = nlp(text)\n",
    "    t = text._.phrases\n",
    "    pytext_key.append(t)\n",
    "    \n",
    "test['Pytextrank_keyword'] = pytext_key  "
   ]
  },
  {
   "cell_type": "code",
   "execution_count": 16,
   "metadata": {},
   "outputs": [],
   "source": [
    "test['Pytextrank_keyword'] = test['Pytextrank_keyword'].agg(lambda x: ','.join(map(str, x)))\n"
   ]
  },
  {
   "cell_type": "code",
   "execution_count": 17,
   "metadata": {},
   "outputs": [
    {
     "data": {
      "text/html": [
       "<div>\n",
       "<style scoped>\n",
       "    .dataframe tbody tr th:only-of-type {\n",
       "        vertical-align: middle;\n",
       "    }\n",
       "\n",
       "    .dataframe tbody tr th {\n",
       "        vertical-align: top;\n",
       "    }\n",
       "\n",
       "    .dataframe thead th {\n",
       "        text-align: right;\n",
       "    }\n",
       "</style>\n",
       "<table border=\"1\" class=\"dataframe\">\n",
       "  <thead>\n",
       "    <tr style=\"text-align: right;\">\n",
       "      <th></th>\n",
       "      <th>textID</th>\n",
       "      <th>text</th>\n",
       "      <th>sentiment</th>\n",
       "      <th>text_clean</th>\n",
       "      <th>length</th>\n",
       "      <th>Aspect_Terms</th>\n",
       "      <th>Sentiment_terms</th>\n",
       "      <th>Pytextrank_keyword</th>\n",
       "    </tr>\n",
       "  </thead>\n",
       "  <tbody>\n",
       "    <tr>\n",
       "      <th>3083</th>\n",
       "      <td>161bfc7c8a</td>\n",
       "      <td>yep - three things: a good haircut, the abili...</td>\n",
       "      <td>positive</td>\n",
       "      <td>yep - three thing : a good haircut , the abil...</td>\n",
       "      <td>95</td>\n",
       "      <td>thing haircut ability value</td>\n",
       "      <td>good listen</td>\n",
       "      <td>a good haircut,the value,the ability, yep - th...</td>\n",
       "    </tr>\n",
       "    <tr>\n",
       "      <th>315</th>\n",
       "      <td>5b70f8bc73</td>\n",
       "      <td>maybe i should take up drinking again, feel as...</td>\n",
       "      <td>negative</td>\n",
       "      <td>maybe should take up drink again , feel as if ...</td>\n",
       "      <td>96</td>\n",
       "      <td></td>\n",
       "      <td>drink feel massive</td>\n",
       "      <td>today</td>\n",
       "    </tr>\n",
       "    <tr>\n",
       "      <th>2661</th>\n",
       "      <td>e7f2b44a1f</td>\n",
       "      <td>I totally forgot my phone at home this morning</td>\n",
       "      <td>negative</td>\n",
       "      <td>totally forget phone at home this morning</td>\n",
       "      <td>41</td>\n",
       "      <td>phone home</td>\n",
       "      <td>forget</td>\n",
       "      <td>home,phone,this morning</td>\n",
       "    </tr>\n",
       "    <tr>\n",
       "      <th>1183</th>\n",
       "      <td>e6f7199479</td>\n",
       "      <td>Rofl u did?  Hahaha! Lemme tell Salman Munir ...</td>\n",
       "      <td>positive</td>\n",
       "      <td>rofl u do ?  hahaha ! lemme tell salman munir...</td>\n",
       "      <td>54</td>\n",
       "      <td>p</td>\n",
       "      <td>tell</td>\n",
       "      <td>salman munir,u,lemme,salman,= p = p, rofl,hahaha</td>\n",
       "    </tr>\n",
       "    <tr>\n",
       "      <th>2306</th>\n",
       "      <td>2b6ec32c28</td>\n",
       "      <td>_WOCKEEZ I'm missin u guys by a day!! Ill b th...</td>\n",
       "      <td>negative</td>\n",
       "      <td>_ wockeez be missin u guy by a day ! ! ill b t...</td>\n",
       "      <td>110</td>\n",
       "      <td>wockeez guy day b butttt 18th blockkkkk</td>\n",
       "      <td></td>\n",
       "      <td>u june 18th,missin u guy,u guy,june 18th,_ woc...</td>\n",
       "    </tr>\n",
       "  </tbody>\n",
       "</table>\n",
       "</div>"
      ],
      "text/plain": [
       "          textID                                               text sentiment  \\\n",
       "3083  161bfc7c8a   yep - three things: a good haircut, the abili...  positive   \n",
       "315   5b70f8bc73  maybe i should take up drinking again, feel as...  negative   \n",
       "2661  e7f2b44a1f     I totally forgot my phone at home this morning  negative   \n",
       "1183  e6f7199479   Rofl u did?  Hahaha! Lemme tell Salman Munir ...  positive   \n",
       "2306  2b6ec32c28  _WOCKEEZ I'm missin u guys by a day!! Ill b th...  negative   \n",
       "\n",
       "                                             text_clean  length  \\\n",
       "3083   yep - three thing : a good haircut , the abil...      95   \n",
       "315   maybe should take up drink again , feel as if ...      96   \n",
       "2661          totally forget phone at home this morning      41   \n",
       "1183   rofl u do ?  hahaha ! lemme tell salman munir...      54   \n",
       "2306  _ wockeez be missin u guy by a day ! ! ill b t...     110   \n",
       "\n",
       "                                 Aspect_Terms     Sentiment_terms  \\\n",
       "3083              thing haircut ability value         good listen   \n",
       "315                                            drink feel massive   \n",
       "2661                               phone home              forget   \n",
       "1183                                        p                tell   \n",
       "2306  wockeez guy day b butttt 18th blockkkkk                       \n",
       "\n",
       "                                     Pytextrank_keyword  \n",
       "3083  a good haircut,the value,the ability, yep - th...  \n",
       "315                                               today  \n",
       "2661                            home,phone,this morning  \n",
       "1183   salman munir,u,lemme,salman,= p = p, rofl,hahaha  \n",
       "2306  u june 18th,missin u guy,u guy,june 18th,_ woc...  "
      ]
     },
     "execution_count": 17,
     "metadata": {},
     "output_type": "execute_result"
    }
   ],
   "source": [
    "test.sample(5)"
   ]
  },
  {
   "cell_type": "code",
   "execution_count": 18,
   "metadata": {},
   "outputs": [],
   "source": [
    "submission['selected_text'] =  test['Aspect_Terms'] + ' ' + test['Sentiment_terms']  + ' ' +test['Pytextrank_keyword']"
   ]
  },
  {
   "cell_type": "code",
   "execution_count": 19,
   "metadata": {},
   "outputs": [
    {
     "data": {
      "text/html": [
       "<div>\n",
       "<style scoped>\n",
       "    .dataframe tbody tr th:only-of-type {\n",
       "        vertical-align: middle;\n",
       "    }\n",
       "\n",
       "    .dataframe tbody tr th {\n",
       "        vertical-align: top;\n",
       "    }\n",
       "\n",
       "    .dataframe thead th {\n",
       "        text-align: right;\n",
       "    }\n",
       "</style>\n",
       "<table border=\"1\" class=\"dataframe\">\n",
       "  <thead>\n",
       "    <tr style=\"text-align: right;\">\n",
       "      <th></th>\n",
       "      <th>textID</th>\n",
       "      <th>selected_text</th>\n",
       "    </tr>\n",
       "  </thead>\n",
       "  <tbody>\n",
       "    <tr>\n",
       "      <th>0</th>\n",
       "      <td>11aa4945ff</td>\n",
       "      <td>wish  malta, - wish</td>\n",
       "    </tr>\n",
       "    <tr>\n",
       "      <th>1</th>\n",
       "      <td>fd1db57dc0</td>\n",
       "      <td>md marathon,done.haha . house md marathon ul...</td>\n",
       "    </tr>\n",
       "    <tr>\n",
       "      <th>2</th>\n",
       "      <td>2524332d66</td>\n",
       "      <td>family concern that family</td>\n",
       "    </tr>\n",
       "    <tr>\n",
       "      <th>3</th>\n",
       "      <td>0fb19285b2</td>\n",
       "      <td>need tho worry tooo tooo many follower tho,no ...</td>\n",
       "    </tr>\n",
       "    <tr>\n",
       "      <th>4</th>\n",
       "      <td>e6c9e5e3ab</td>\n",
       "      <td>26th, 26th february</td>\n",
       "    </tr>\n",
       "  </tbody>\n",
       "</table>\n",
       "</div>"
      ],
      "text/plain": [
       "       textID                                      selected_text\n",
       "0  11aa4945ff                                wish  malta, - wish\n",
       "1  fd1db57dc0    md marathon,done.haha . house md marathon ul...\n",
       "2  2524332d66                         family concern that family\n",
       "3  0fb19285b2  need tho worry tooo tooo many follower tho,no ...\n",
       "4  e6c9e5e3ab                                26th, 26th february"
      ]
     },
     "execution_count": 19,
     "metadata": {},
     "output_type": "execute_result"
    }
   ],
   "source": [
    "submission.head()"
   ]
  },
  {
   "cell_type": "code",
   "execution_count": 20,
   "metadata": {},
   "outputs": [
    {
     "data": {
      "text/plain": [
       "(3535, 2)"
      ]
     },
     "execution_count": 20,
     "metadata": {},
     "output_type": "execute_result"
    }
   ],
   "source": [
    "submission.shape"
   ]
  }
 ],
 "metadata": {
  "kernelspec": {
   "display_name": "Python 3",
   "language": "python",
   "name": "python3"
  },
  "language_info": {
   "codemirror_mode": {
    "name": "ipython",
    "version": 3
   },
   "file_extension": ".py",
   "mimetype": "text/x-python",
   "name": "python",
   "nbconvert_exporter": "python",
   "pygments_lexer": "ipython3",
   "version": "3.6.6"
  }
 },
 "nbformat": 4,
 "nbformat_minor": 4
}
