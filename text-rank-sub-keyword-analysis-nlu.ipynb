{
 "cells": [
  {
   "cell_type": "markdown",
   "metadata": {},
   "source": [
    "In this notebook, we will see how to generate insights from text data using NLP techniques. This kernel will be divided into the following parts.\n",
    "\n",
    "1. Basic Pre-Processing\n",
    "2. Rapid Automatic Keyword Extraction\n",
    "3. Flashtext\n",
    "4. Sentiment Word Extract\n",
    "5. Text Rank\n",
    "\n",
    "** These techniques most useful in the Key topics extraction and contextual sentiment in the product review"
   ]
  },
  {
   "cell_type": "code",
   "execution_count": 1,
   "metadata": {
    "_kg_hide-input": true
   },
   "outputs": [
    {
     "name": "stdout",
     "output_type": "stream",
     "text": [
      "Collecting rake_nltk\r\n",
      "  Downloading rake_nltk-1.0.4.tar.gz (7.6 kB)\r\n",
      "Requirement already satisfied: nltk in /opt/conda/lib/python3.6/site-packages (from rake_nltk) (3.2.4)\r\n",
      "Requirement already satisfied: six in /opt/conda/lib/python3.6/site-packages (from nltk->rake_nltk) (1.14.0)\r\n",
      "Building wheels for collected packages: rake-nltk\r\n",
      "  Building wheel for rake-nltk (setup.py) ... \u001b[?25l-\b \b\\\b \b|\b \bdone\r\n",
      "\u001b[?25h  Created wheel for rake-nltk: filename=rake_nltk-1.0.4-py2.py3-none-any.whl size=7819 sha256=27a6bb07054e1545bf68d3393b86c138986841a228a9a4370337ab1303cf338c\r\n",
      "  Stored in directory: /root/.cache/pip/wheels/ad/4f/6b/a5e7778f5c084d8b7c2c5fe9d37eb806f5ff5fee5e8ee17342\r\n",
      "Successfully built rake-nltk\r\n",
      "Installing collected packages: rake-nltk\r\n",
      "Successfully installed rake-nltk-1.0.4\r\n",
      "Collecting pytextrank\r\n",
      "  Downloading pytextrank-2.0.0-py3-none-any.whl (10 kB)\r\n",
      "Requirement already satisfied: networkx in /opt/conda/lib/python3.6/site-packages (from pytextrank) (2.4)\r\n",
      "Requirement already satisfied: spacy in /opt/conda/lib/python3.6/site-packages (from pytextrank) (2.2.3)\r\n",
      "Requirement already satisfied: graphviz in /opt/conda/lib/python3.6/site-packages (from pytextrank) (0.8.4)\r\n",
      "Requirement already satisfied: decorator>=4.3.0 in /opt/conda/lib/python3.6/site-packages (from networkx->pytextrank) (4.4.1)\r\n",
      "Requirement already satisfied: setuptools in /opt/conda/lib/python3.6/site-packages (from spacy->pytextrank) (45.2.0.post20200210)\r\n",
      "Requirement already satisfied: preshed<3.1.0,>=3.0.2 in /opt/conda/lib/python3.6/site-packages (from spacy->pytextrank) (3.0.2)\r\n",
      "Requirement already satisfied: cymem<2.1.0,>=2.0.2 in /opt/conda/lib/python3.6/site-packages (from spacy->pytextrank) (2.0.3)\r\n",
      "Requirement already satisfied: numpy>=1.15.0 in /opt/conda/lib/python3.6/site-packages (from spacy->pytextrank) (1.18.1)\r\n",
      "Requirement already satisfied: requests<3.0.0,>=2.13.0 in /opt/conda/lib/python3.6/site-packages (from spacy->pytextrank) (2.22.0)\r\n",
      "Requirement already satisfied: thinc<7.4.0,>=7.3.0 in /opt/conda/lib/python3.6/site-packages (from spacy->pytextrank) (7.3.1)\r\n",
      "Requirement already satisfied: blis<0.5.0,>=0.4.0 in /opt/conda/lib/python3.6/site-packages (from spacy->pytextrank) (0.4.1)\r\n",
      "Requirement already satisfied: plac<1.2.0,>=0.9.6 in /opt/conda/lib/python3.6/site-packages (from spacy->pytextrank) (0.9.6)\r\n",
      "Requirement already satisfied: murmurhash<1.1.0,>=0.28.0 in /opt/conda/lib/python3.6/site-packages (from spacy->pytextrank) (1.0.2)\r\n",
      "Requirement already satisfied: wasabi<1.1.0,>=0.4.0 in /opt/conda/lib/python3.6/site-packages (from spacy->pytextrank) (0.6.0)\r\n",
      "Requirement already satisfied: srsly<1.1.0,>=0.1.0 in /opt/conda/lib/python3.6/site-packages (from spacy->pytextrank) (1.0.1)\r\n",
      "Requirement already satisfied: catalogue<1.1.0,>=0.0.7 in /opt/conda/lib/python3.6/site-packages (from spacy->pytextrank) (1.0.0)\r\n",
      "Requirement already satisfied: idna<2.9,>=2.5 in /opt/conda/lib/python3.6/site-packages (from requests<3.0.0,>=2.13.0->spacy->pytextrank) (2.8)\r\n",
      "Requirement already satisfied: urllib3!=1.25.0,!=1.25.1,<1.26,>=1.21.1 in /opt/conda/lib/python3.6/site-packages (from requests<3.0.0,>=2.13.0->spacy->pytextrank) (1.25.8)\r\n",
      "Requirement already satisfied: chardet<3.1.0,>=3.0.2 in /opt/conda/lib/python3.6/site-packages (from requests<3.0.0,>=2.13.0->spacy->pytextrank) (3.0.4)\r\n",
      "Requirement already satisfied: certifi>=2017.4.17 in /opt/conda/lib/python3.6/site-packages (from requests<3.0.0,>=2.13.0->spacy->pytextrank) (2019.11.28)\r\n",
      "Requirement already satisfied: tqdm<5.0.0,>=4.10.0 in /opt/conda/lib/python3.6/site-packages (from thinc<7.4.0,>=7.3.0->spacy->pytextrank) (4.42.1)\r\n",
      "Requirement already satisfied: importlib-metadata>=0.20; python_version < \"3.8\" in /opt/conda/lib/python3.6/site-packages (from catalogue<1.1.0,>=0.0.7->spacy->pytextrank) (1.5.0)\r\n",
      "Requirement already satisfied: zipp>=0.5 in /opt/conda/lib/python3.6/site-packages (from importlib-metadata>=0.20; python_version < \"3.8\"->catalogue<1.1.0,>=0.0.7->spacy->pytextrank) (2.2.0)\r\n",
      "Installing collected packages: pytextrank\r\n",
      "Successfully installed pytextrank-2.0.0\r\n"
     ]
    }
   ],
   "source": [
    "!pip install rake_nltk\n",
    "!pip install pytextrank"
   ]
  },
  {
   "cell_type": "code",
   "execution_count": 2,
   "metadata": {
    "_cell_guid": "b1076dfc-b9ad-4769-8c92-a6c4dae69d19",
    "_uuid": "8f2839f25d086af736a60e9eeb907d3b93b6e0e5"
   },
   "outputs": [
    {
     "name": "stderr",
     "output_type": "stream",
     "text": [
      "0it [00:00, ?it/s]\n",
      "0it [00:00, ?it/s]\n",
      "0it [00:00, ?it/s]"
     ]
    },
    {
     "name": "stdout",
     "output_type": "stream",
     "text": [
      "/kaggle/input/nlp-getting-started/train.csv\n",
      "/kaggle/input/nlp-getting-started/test.csv\n",
      "/kaggle/input/nlp-getting-started/sample_submission.csv\n"
     ]
    },
    {
     "name": "stderr",
     "output_type": "stream",
     "text": [
      "\n"
     ]
    }
   ],
   "source": [
    "# This Python 3 environment comes with many helpful analytics libraries installed\n",
    "# It is defined by the kaggle/python docker image: https://github.com/kaggle/docker-python\n",
    "# For example, here's several helpful packages to load in \n",
    "\n",
    "import numpy as np # linear algebra\n",
    "import pandas as pd # data processing, CSV file I/O (e.g. pd.read_csv)\n",
    "import pandas as pd\n",
    "import re\n",
    "import os\n",
    "import spacy\n",
    "\n",
    "#https://pypi.org/project/rake-nltk/\n",
    "import rake_nltk\n",
    "from rake_nltk import Metric, Rake\n",
    "r = Rake()\n",
    "\n",
    "#https://github.com/vi3k6i5/flashtext\n",
    "from flashtext import KeywordProcessor\n",
    "\n",
    "#TextRank\n",
    "#https://towardsdatascience.com/textrank-for-keyword-extraction-by-python-c0bae21bcec0\n",
    "import pytextrank\n",
    "\n",
    "#Spacy\n",
    "import spacy\n",
    "nlp = spacy.load('en')\n",
    "import spacy\n",
    "nlp = spacy.load('en_core_web_sm')\n",
    "\n",
    "\n",
    "#Bar\n",
    "from tqdm import tqdm, tqdm_pandas\n",
    "tqdm(tqdm())\n",
    "import matplotlib.pyplot as plt\n",
    "\n",
    "# Input data files are available in the \"../input/\" directory.\n",
    "# For example, running this (by clicking run or pressing Shift+Enter) will list all files under the input directory\n",
    "\n",
    "import os\n",
    "for dirname, _, filenames in os.walk('/kaggle/input'):\n",
    "    for filename in filenames:\n",
    "        print(os.path.join(dirname, filename))\n",
    "\n",
    "# Any results you write to the current directory are saved as output."
   ]
  },
  {
   "cell_type": "code",
   "execution_count": 3,
   "metadata": {
    "_cell_guid": "79c7e3d0-c299-4dcb-8224-4455121ee9b0",
    "_uuid": "d629ff2d2480ee46fbb7e2d37f6b5fab8052498a"
   },
   "outputs": [
    {
     "name": "stdout",
     "output_type": "stream",
     "text": [
      "Data shape =  (7613, 5)\n"
     ]
    },
    {
     "data": {
      "text/html": [
       "<div>\n",
       "<style scoped>\n",
       "    .dataframe tbody tr th:only-of-type {\n",
       "        vertical-align: middle;\n",
       "    }\n",
       "\n",
       "    .dataframe tbody tr th {\n",
       "        vertical-align: top;\n",
       "    }\n",
       "\n",
       "    .dataframe thead th {\n",
       "        text-align: right;\n",
       "    }\n",
       "</style>\n",
       "<table border=\"1\" class=\"dataframe\">\n",
       "  <thead>\n",
       "    <tr style=\"text-align: right;\">\n",
       "      <th></th>\n",
       "      <th>id</th>\n",
       "      <th>keyword</th>\n",
       "      <th>location</th>\n",
       "      <th>text</th>\n",
       "      <th>target</th>\n",
       "    </tr>\n",
       "  </thead>\n",
       "  <tbody>\n",
       "    <tr>\n",
       "      <th>0</th>\n",
       "      <td>1</td>\n",
       "      <td>NaN</td>\n",
       "      <td>NaN</td>\n",
       "      <td>Our Deeds are the Reason of this #earthquake M...</td>\n",
       "      <td>1</td>\n",
       "    </tr>\n",
       "    <tr>\n",
       "      <th>1</th>\n",
       "      <td>4</td>\n",
       "      <td>NaN</td>\n",
       "      <td>NaN</td>\n",
       "      <td>Forest fire near La Ronge Sask. Canada</td>\n",
       "      <td>1</td>\n",
       "    </tr>\n",
       "  </tbody>\n",
       "</table>\n",
       "</div>"
      ],
      "text/plain": [
       "   id keyword location                                               text  \\\n",
       "0   1     NaN      NaN  Our Deeds are the Reason of this #earthquake M...   \n",
       "1   4     NaN      NaN             Forest fire near La Ronge Sask. Canada   \n",
       "\n",
       "   target  \n",
       "0       1  \n",
       "1       1  "
      ]
     },
     "execution_count": 3,
     "metadata": {},
     "output_type": "execute_result"
    }
   ],
   "source": [
    "data_train = pd.read_csv(\"/kaggle/input/nlp-getting-started/train.csv\")\n",
    "print(\"Data shape = \",data_train.shape)\n",
    "data_train.head(2)"
   ]
  },
  {
   "cell_type": "code",
   "execution_count": 4,
   "metadata": {},
   "outputs": [
    {
     "name": "stdout",
     "output_type": "stream",
     "text": [
      "Data shape =  (7613, 5)\n"
     ]
    },
    {
     "data": {
      "text/html": [
       "<div>\n",
       "<style scoped>\n",
       "    .dataframe tbody tr th:only-of-type {\n",
       "        vertical-align: middle;\n",
       "    }\n",
       "\n",
       "    .dataframe tbody tr th {\n",
       "        vertical-align: top;\n",
       "    }\n",
       "\n",
       "    .dataframe thead th {\n",
       "        text-align: right;\n",
       "    }\n",
       "</style>\n",
       "<table border=\"1\" class=\"dataframe\">\n",
       "  <thead>\n",
       "    <tr style=\"text-align: right;\">\n",
       "      <th></th>\n",
       "      <th>id</th>\n",
       "      <th>keyword</th>\n",
       "      <th>location</th>\n",
       "      <th>text</th>\n",
       "      <th>target</th>\n",
       "    </tr>\n",
       "  </thead>\n",
       "  <tbody>\n",
       "    <tr>\n",
       "      <th>0</th>\n",
       "      <td>1</td>\n",
       "      <td>NaN</td>\n",
       "      <td>NaN</td>\n",
       "      <td>Our Deeds are the Reason of this #earthquake M...</td>\n",
       "      <td>1</td>\n",
       "    </tr>\n",
       "    <tr>\n",
       "      <th>1</th>\n",
       "      <td>4</td>\n",
       "      <td>NaN</td>\n",
       "      <td>NaN</td>\n",
       "      <td>Forest fire near La Ronge Sask. Canada</td>\n",
       "      <td>1</td>\n",
       "    </tr>\n",
       "  </tbody>\n",
       "</table>\n",
       "</div>"
      ],
      "text/plain": [
       "   id keyword location                                               text  \\\n",
       "0   1     NaN      NaN  Our Deeds are the Reason of this #earthquake M...   \n",
       "1   4     NaN      NaN             Forest fire near La Ronge Sask. Canada   \n",
       "\n",
       "   target  \n",
       "0       1  \n",
       "1       1  "
      ]
     },
     "execution_count": 4,
     "metadata": {},
     "output_type": "execute_result"
    }
   ],
   "source": [
    "data_test = pd.read_csv(\"/kaggle/input/nlp-getting-started/test.csv\")\n",
    "print(\"Data shape = \",data_train.shape)\n",
    "data_train.head(2)"
   ]
  },
  {
   "cell_type": "markdown",
   "metadata": {},
   "source": [
    "# Basic Pre-Processing"
   ]
  },
  {
   "cell_type": "code",
   "execution_count": 5,
   "metadata": {},
   "outputs": [],
   "source": [
    "### Own Stop words\n",
    "own_stop_word = ['i','we','are','and']\n",
    "### Spacy Lemma \n",
    "def spacy_lemma_text(text):\n",
    "    doc = nlp(text)\n",
    "    tokens = [tok.lemma_.lower().strip() for tok in doc if tok.lemma_ != '-PRON-']\n",
    "    tokens = [tok for tok in tokens if tok not in own_stop_word ]\n",
    "    tokens = ' '.join(tokens)\n",
    "    return tokens\n",
    "\n",
    "### Remove URL\n",
    "def remove_URL(text):\n",
    "    url = re.compile(r'https?://\\S+|www\\.\\S+')\n",
    "    return url.sub(r'',text)"
   ]
  },
  {
   "cell_type": "code",
   "execution_count": 6,
   "metadata": {},
   "outputs": [
    {
     "name": "stdout",
     "output_type": "stream",
     "text": [
      "Train Cleaning - Done\n",
      "Test Cleaning - Done\n"
     ]
    }
   ],
   "source": [
    "data_train['text_clean'] = data_train['text'].apply(remove_URL)\n",
    "data_train['text_clean'] = data_train['text'].apply(spacy_lemma_text)\n",
    "print(\"Train Cleaning - Done\")\n",
    "data_test['text_clean'] = data_test['text'].apply(remove_URL)\n",
    "data_test['text_clean'] = data_test['text'].apply(spacy_lemma_text)\n",
    "print(\"Test Cleaning - Done\")"
   ]
  },
  {
   "cell_type": "markdown",
   "metadata": {},
   "source": [
    "# Rapid Automatic Keyword Extraction"
   ]
  },
  {
   "cell_type": "markdown",
   "metadata": {},
   "source": [
    "**RAKE** short for Rapid Automatic Keyword Extraction algorithm, is a domain independent keyword extraction algorithm which tries to determine key phrases in a body of text by analyzing the frequency of word appearance and its co-occurance with other words in the text.\n",
    "* This is used for extracting and ranking the keywords/phrases out of a document without any other context except for the document \n",
    "itself."
   ]
  },
  {
   "cell_type": "code",
   "execution_count": 7,
   "metadata": {},
   "outputs": [],
   "source": [
    "Rake_keywords = []\n",
    "r = Rake()\n",
    "r = Rake(min_length=2, max_length=4)\n",
    "\n",
    "for text in data_train['text_clean']:\n",
    "      r.extract_keywords_from_text(text)\n",
    "      r.get_ranked_phrases()\n",
    "      Rake_keywords.append(r.get_ranked_phrases())  \n",
    "\n",
    "data_train['Rake_Keyword'] = Rake_keywords        "
   ]
  },
  {
   "cell_type": "code",
   "execution_count": 8,
   "metadata": {},
   "outputs": [],
   "source": [
    "Rake_keywords = []\n",
    "r = Rake()\n",
    "r = Rake(min_length=2, max_length=4)\n",
    "\n",
    "for text in data_test['text_clean']:\n",
    "      r.extract_keywords_from_text(text)\n",
    "      r.get_ranked_phrases()\n",
    "      Rake_keywords.append(r.get_ranked_phrases())  \n",
    "\n",
    "data_test['Rake_Keyword'] = Rake_keywords     "
   ]
  },
  {
   "cell_type": "markdown",
   "metadata": {},
   "source": [
    "> # Flashtext "
   ]
  },
  {
   "cell_type": "markdown",
   "metadata": {},
   "source": [
    " This is used to replace keywords in sentences or extract keywords from sentences.Below are the Usage\n",
    "*  Extract keywords\n",
    "*  Replace keywords\n",
    "*  Case Sensitive \n",
    "*  Span of keywords extracted\n",
    "*  Get Extra information with keywords extracted\n",
    "*  No clean name for Keywords\n",
    "*  Add Multiple Keywords simultaneously\n",
    "*  To Remove keywords\n",
    "*  To check Number of terms in KeywordProcessor\n",
    "*  To check if term is present in KeywordProcessor\n",
    "*  Get all keywords in dictionary\n",
    " "
   ]
  },
  {
   "cell_type": "code",
   "execution_count": 9,
   "metadata": {
    "_kg_hide-output": true
   },
   "outputs": [],
   "source": [
    "from flashtext import KeywordProcessor\n",
    "keyword_processor = KeywordProcessor(case_sensitive=False)"
   ]
  },
  {
   "cell_type": "code",
   "execution_count": 10,
   "metadata": {},
   "outputs": [],
   "source": [
    "keyword_dict = {\n",
    "    \"excaltor\": [\"exclators\", \"excaltors\"]}\n",
    "keyword_processor.add_keywords_from_dict(keyword_dict)\n",
    "\n",
    "## You can add the important key word i.e prouduct name , features , payments"
   ]
  },
  {
   "cell_type": "code",
   "execution_count": 11,
   "metadata": {},
   "outputs": [],
   "source": [
    "Flash_keywords = []\n",
    "for i in data_train['text_clean']:\n",
    "    keyword_processor.extract_keywords(i)\n",
    "    Flash_keywords.append(keyword_processor.extract_keywords(i))\n",
    "    \n",
    "data_train['Flash_Keyword'] = Flash_keywords    "
   ]
  },
  {
   "cell_type": "code",
   "execution_count": 12,
   "metadata": {},
   "outputs": [],
   "source": [
    "Flash_keywords = []\n",
    "for i in data_test['text_clean']:\n",
    "    keyword_processor.extract_keywords(i)\n",
    "    Flash_keywords.append(keyword_processor.extract_keywords(i))\n",
    "    \n",
    "data_test['Flash_Keyword'] = Flash_keywords        "
   ]
  },
  {
   "cell_type": "markdown",
   "metadata": {},
   "source": [
    "# Aspect-Based Opinion Mining"
   ]
  },
  {
   "cell_type": "markdown",
   "metadata": {},
   "source": [
    "Aspect-Based Opinion Mining is to extract product's aspects and the associated user opinions from the user text review"
   ]
  },
  {
   "cell_type": "code",
   "execution_count": 13,
   "metadata": {},
   "outputs": [],
   "source": [
    "aspect_terms = []\n",
    "for review in nlp.pipe(data_train.text_clean):\n",
    "    chunks = [(chunk.root.text) for chunk in review.noun_chunks if chunk.root.pos_ == 'NOUN']\n",
    "    aspect_terms.append(' '.join(chunks))\n",
    "    \n",
    "data_train['Aspect_Terms'] = aspect_terms    "
   ]
  },
  {
   "cell_type": "code",
   "execution_count": 14,
   "metadata": {},
   "outputs": [],
   "source": [
    "aspect_terms = []\n",
    "for review in nlp.pipe(data_test.text_clean):\n",
    "    chunks = [(chunk.root.text) for chunk in review.noun_chunks if chunk.root.pos_ == 'NOUN']\n",
    "    aspect_terms.append(' '.join(chunks))\n",
    "    \n",
    "data_test['Aspect_Terms'] = aspect_terms    "
   ]
  },
  {
   "cell_type": "markdown",
   "metadata": {},
   "source": [
    "# Sentiment Word Extract"
   ]
  },
  {
   "cell_type": "markdown",
   "metadata": {},
   "source": [
    "Key topics extraction and contextual sentiment of users’ reviews/contents"
   ]
  },
  {
   "cell_type": "code",
   "execution_count": 15,
   "metadata": {},
   "outputs": [],
   "source": [
    "sentiment_terms = []\n",
    "\n",
    "for review in nlp.pipe(data_train['text_clean']):\n",
    "        if review.is_parsed:\n",
    "            sentiment_terms.append(' '.join([token.lemma_ for token in review if (not token.is_stop and not token.is_punct and (token.pos_ == \"ADJ\" or token.pos_ == \"VERB\"))]))\n",
    "        else:\n",
    "            sentiment_terms.append('')  \n",
    "            \n",
    "data_train['Sentiment_terms'] = sentiment_terms            "
   ]
  },
  {
   "cell_type": "code",
   "execution_count": 16,
   "metadata": {},
   "outputs": [],
   "source": [
    "sentiment_terms = []\n",
    "\n",
    "for review in nlp.pipe(data_test['text_clean']):\n",
    "        if review.is_parsed:\n",
    "            sentiment_terms.append(' '.join([token.lemma_ for token in review if (not token.is_stop and not token.is_punct and (token.pos_ == \"ADJ\" or token.pos_ == \"VERB\"))]))\n",
    "        else:\n",
    "            sentiment_terms.append('')  \n",
    "            \n",
    "data_test['Sentiment_terms'] = sentiment_terms            "
   ]
  },
  {
   "cell_type": "markdown",
   "metadata": {},
   "source": [
    "# Text Rank"
   ]
  },
  {
   "cell_type": "markdown",
   "metadata": {},
   "source": [
    "PyTextRank is a Python implementation of TextRank as a spaCy extension, used to:\n",
    "\n",
    "*     Extract the top-ranked phrases from text documents\n",
    "*     Infer links from unstructured text into structured data\n",
    "*     Run extractive summarization of text documents\n"
   ]
  },
  {
   "cell_type": "code",
   "execution_count": 17,
   "metadata": {
    "_kg_hide-output": true
   },
   "outputs": [],
   "source": [
    "import spacy\n",
    "import pytextrank\n",
    "nlp = spacy.load('en_core_web_sm')\n",
    "tr = pytextrank.TextRank()\n",
    "nlp.add_pipe(tr.PipelineComponent, name='textrank', last=True)"
   ]
  },
  {
   "cell_type": "code",
   "execution_count": 18,
   "metadata": {},
   "outputs": [],
   "source": [
    "pytext_key = []\n",
    "\n",
    "for text in data_train['text_clean']:\n",
    "    text = nlp(text)\n",
    "    t = text._.phrases\n",
    "    pytext_key.append(t)\n",
    "    \n",
    "data_train['Pytextrank_keyword'] = pytext_key    "
   ]
  },
  {
   "cell_type": "code",
   "execution_count": 19,
   "metadata": {},
   "outputs": [],
   "source": [
    "pytext_key = []\n",
    "\n",
    "for text in data_test['text_clean']:\n",
    "    text = nlp(text)\n",
    "    t = text._.phrases\n",
    "    pytext_key.append(t)\n",
    "    \n",
    "data_test['Pytextrank_keyword'] = pytext_key    "
   ]
  },
  {
   "cell_type": "markdown",
   "metadata": {},
   "source": [
    "# Here is the Output "
   ]
  },
  {
   "cell_type": "code",
   "execution_count": 20,
   "metadata": {},
   "outputs": [
    {
     "data": {
      "text/html": [
       "<div>\n",
       "<style scoped>\n",
       "    .dataframe tbody tr th:only-of-type {\n",
       "        vertical-align: middle;\n",
       "    }\n",
       "\n",
       "    .dataframe tbody tr th {\n",
       "        vertical-align: top;\n",
       "    }\n",
       "\n",
       "    .dataframe thead th {\n",
       "        text-align: right;\n",
       "    }\n",
       "</style>\n",
       "<table border=\"1\" class=\"dataframe\">\n",
       "  <thead>\n",
       "    <tr style=\"text-align: right;\">\n",
       "      <th></th>\n",
       "      <th>id</th>\n",
       "      <th>keyword</th>\n",
       "      <th>location</th>\n",
       "      <th>text</th>\n",
       "      <th>target</th>\n",
       "      <th>text_clean</th>\n",
       "      <th>Rake_Keyword</th>\n",
       "      <th>Flash_Keyword</th>\n",
       "      <th>Aspect_Terms</th>\n",
       "      <th>Sentiment_terms</th>\n",
       "      <th>Pytextrank_keyword</th>\n",
       "    </tr>\n",
       "  </thead>\n",
       "  <tbody>\n",
       "    <tr>\n",
       "      <th>0</th>\n",
       "      <td>1</td>\n",
       "      <td>NaN</td>\n",
       "      <td>NaN</td>\n",
       "      <td>Our Deeds are the Reason of this #earthquake M...</td>\n",
       "      <td>1</td>\n",
       "      <td>deed be the reason of this # earthquake may al...</td>\n",
       "      <td>[earthquake may allah forgive]</td>\n",
       "      <td>[]</td>\n",
       "      <td>reason earthquake</td>\n",
       "      <td>forgive</td>\n",
       "      <td>[allah, deed, this # earthquake, the reason]</td>\n",
       "    </tr>\n",
       "    <tr>\n",
       "      <th>1</th>\n",
       "      <td>4</td>\n",
       "      <td>NaN</td>\n",
       "      <td>NaN</td>\n",
       "      <td>Forest fire near La Ronge Sask. Canada</td>\n",
       "      <td>1</td>\n",
       "      <td>forest fire near la ronge sask . canada</td>\n",
       "      <td>[]</td>\n",
       "      <td>[]</td>\n",
       "      <td>fire sask</td>\n",
       "      <td></td>\n",
       "      <td>[la ronge sask, forest fire, canada]</td>\n",
       "    </tr>\n",
       "    <tr>\n",
       "      <th>2</th>\n",
       "      <td>5</td>\n",
       "      <td>NaN</td>\n",
       "      <td>NaN</td>\n",
       "      <td>All residents asked to 'shelter in place' are ...</td>\n",
       "      <td>1</td>\n",
       "      <td>all resident ask to ' shelter in place ' be be...</td>\n",
       "      <td>[resident ask, place order]</td>\n",
       "      <td>[]</td>\n",
       "      <td>resident shelter place officer evacuation shel...</td>\n",
       "      <td>ask notify expect</td>\n",
       "      <td>[shelter, place order, place, officer, no othe...</td>\n",
       "    </tr>\n",
       "    <tr>\n",
       "      <th>3</th>\n",
       "      <td>6</td>\n",
       "      <td>NaN</td>\n",
       "      <td>NaN</td>\n",
       "      <td>13,000 people receive #wildfires evacuation or...</td>\n",
       "      <td>1</td>\n",
       "      <td>13,000 people receive # wildfire evacuation or...</td>\n",
       "      <td>[wildfire evacuation order, 000 people receive]</td>\n",
       "      <td>[]</td>\n",
       "      <td>people order</td>\n",
       "      <td>receive</td>\n",
       "      <td>[# wildfire evacuation order, california, 13,0...</td>\n",
       "    </tr>\n",
       "    <tr>\n",
       "      <th>4</th>\n",
       "      <td>7</td>\n",
       "      <td>NaN</td>\n",
       "      <td>NaN</td>\n",
       "      <td>Just got sent this photo from Ruby #Alaska as ...</td>\n",
       "      <td>1</td>\n",
       "      <td>just get send this photo from ruby # alaska as...</td>\n",
       "      <td>[wildfire pour, get send]</td>\n",
       "      <td>[]</td>\n",
       "      <td>photo smoke school</td>\n",
       "      <td>send pour</td>\n",
       "      <td>[smoke, ruby # alaska, this photo, a school]</td>\n",
       "    </tr>\n",
       "  </tbody>\n",
       "</table>\n",
       "</div>"
      ],
      "text/plain": [
       "   id keyword location                                               text  \\\n",
       "0   1     NaN      NaN  Our Deeds are the Reason of this #earthquake M...   \n",
       "1   4     NaN      NaN             Forest fire near La Ronge Sask. Canada   \n",
       "2   5     NaN      NaN  All residents asked to 'shelter in place' are ...   \n",
       "3   6     NaN      NaN  13,000 people receive #wildfires evacuation or...   \n",
       "4   7     NaN      NaN  Just got sent this photo from Ruby #Alaska as ...   \n",
       "\n",
       "   target                                         text_clean  \\\n",
       "0       1  deed be the reason of this # earthquake may al...   \n",
       "1       1            forest fire near la ronge sask . canada   \n",
       "2       1  all resident ask to ' shelter in place ' be be...   \n",
       "3       1  13,000 people receive # wildfire evacuation or...   \n",
       "4       1  just get send this photo from ruby # alaska as...   \n",
       "\n",
       "                                      Rake_Keyword Flash_Keyword  \\\n",
       "0                   [earthquake may allah forgive]            []   \n",
       "1                                               []            []   \n",
       "2                      [resident ask, place order]            []   \n",
       "3  [wildfire evacuation order, 000 people receive]            []   \n",
       "4                        [wildfire pour, get send]            []   \n",
       "\n",
       "                                        Aspect_Terms    Sentiment_terms  \\\n",
       "0                                  reason earthquake            forgive   \n",
       "1                                          fire sask                      \n",
       "2  resident shelter place officer evacuation shel...  ask notify expect   \n",
       "3                                       people order            receive   \n",
       "4                                 photo smoke school          send pour   \n",
       "\n",
       "                                  Pytextrank_keyword  \n",
       "0       [allah, deed, this # earthquake, the reason]  \n",
       "1               [la ronge sask, forest fire, canada]  \n",
       "2  [shelter, place order, place, officer, no othe...  \n",
       "3  [# wildfire evacuation order, california, 13,0...  \n",
       "4       [smoke, ruby # alaska, this photo, a school]  "
      ]
     },
     "execution_count": 20,
     "metadata": {},
     "output_type": "execute_result"
    }
   ],
   "source": [
    "data_train.head()"
   ]
  },
  {
   "cell_type": "code",
   "execution_count": 21,
   "metadata": {},
   "outputs": [
    {
     "data": {
      "text/html": [
       "<div>\n",
       "<style scoped>\n",
       "    .dataframe tbody tr th:only-of-type {\n",
       "        vertical-align: middle;\n",
       "    }\n",
       "\n",
       "    .dataframe tbody tr th {\n",
       "        vertical-align: top;\n",
       "    }\n",
       "\n",
       "    .dataframe thead th {\n",
       "        text-align: right;\n",
       "    }\n",
       "</style>\n",
       "<table border=\"1\" class=\"dataframe\">\n",
       "  <thead>\n",
       "    <tr style=\"text-align: right;\">\n",
       "      <th></th>\n",
       "      <th>id</th>\n",
       "      <th>keyword</th>\n",
       "      <th>location</th>\n",
       "      <th>text</th>\n",
       "      <th>text_clean</th>\n",
       "      <th>Rake_Keyword</th>\n",
       "      <th>Flash_Keyword</th>\n",
       "      <th>Aspect_Terms</th>\n",
       "      <th>Sentiment_terms</th>\n",
       "      <th>Pytextrank_keyword</th>\n",
       "    </tr>\n",
       "  </thead>\n",
       "  <tbody>\n",
       "    <tr>\n",
       "      <th>0</th>\n",
       "      <td>0</td>\n",
       "      <td>NaN</td>\n",
       "      <td>NaN</td>\n",
       "      <td>Just happened a terrible car crash</td>\n",
       "      <td>just happen a terrible car crash</td>\n",
       "      <td>[terrible car crash]</td>\n",
       "      <td>[]</td>\n",
       "      <td>crash</td>\n",
       "      <td>happen terrible</td>\n",
       "      <td>[a terrible car crash]</td>\n",
       "    </tr>\n",
       "    <tr>\n",
       "      <th>1</th>\n",
       "      <td>2</td>\n",
       "      <td>NaN</td>\n",
       "      <td>NaN</td>\n",
       "      <td>Heard about #earthquake is different cities, s...</td>\n",
       "      <td>hear about # earthquake be different city , st...</td>\n",
       "      <td>[stay safe everyone, different city]</td>\n",
       "      <td>[]</td>\n",
       "      <td>earthquake city</td>\n",
       "      <td>hear different stay safe</td>\n",
       "      <td>[different city, safe everyone, about # earthq...</td>\n",
       "    </tr>\n",
       "    <tr>\n",
       "      <th>2</th>\n",
       "      <td>3</td>\n",
       "      <td>NaN</td>\n",
       "      <td>NaN</td>\n",
       "      <td>there is a forest fire at spot pond, geese are...</td>\n",
       "      <td>there be a forest fire at spot pond , geese be...</td>\n",
       "      <td>[spot pond, forest fire, flee across]</td>\n",
       "      <td>[]</td>\n",
       "      <td>fire street</td>\n",
       "      <td>flee save</td>\n",
       "      <td>[spot pond, geese, a forest fire, the street]</td>\n",
       "    </tr>\n",
       "    <tr>\n",
       "      <th>3</th>\n",
       "      <td>9</td>\n",
       "      <td>NaN</td>\n",
       "      <td>NaN</td>\n",
       "      <td>Apocalypse lighting. #Spokane #wildfires</td>\n",
       "      <td>apocalypse lighting . # spokane # wildfire</td>\n",
       "      <td>[apocalypse lighting]</td>\n",
       "      <td>[]</td>\n",
       "      <td>lighting spokane</td>\n",
       "      <td></td>\n",
       "      <td>[# spokane #, apocalypse lighting]</td>\n",
       "    </tr>\n",
       "    <tr>\n",
       "      <th>4</th>\n",
       "      <td>11</td>\n",
       "      <td>NaN</td>\n",
       "      <td>NaN</td>\n",
       "      <td>Typhoon Soudelor kills 28 in China and Taiwan</td>\n",
       "      <td>typhoon soudelor kill 28 in china taiwan</td>\n",
       "      <td>[typhoon soudelor kill 28, china taiwan]</td>\n",
       "      <td>[]</td>\n",
       "      <td>soudelor</td>\n",
       "      <td>kill</td>\n",
       "      <td>[typhoon soudelor, china, taiwan, 28]</td>\n",
       "    </tr>\n",
       "  </tbody>\n",
       "</table>\n",
       "</div>"
      ],
      "text/plain": [
       "   id keyword location                                               text  \\\n",
       "0   0     NaN      NaN                 Just happened a terrible car crash   \n",
       "1   2     NaN      NaN  Heard about #earthquake is different cities, s...   \n",
       "2   3     NaN      NaN  there is a forest fire at spot pond, geese are...   \n",
       "3   9     NaN      NaN           Apocalypse lighting. #Spokane #wildfires   \n",
       "4  11     NaN      NaN      Typhoon Soudelor kills 28 in China and Taiwan   \n",
       "\n",
       "                                          text_clean  \\\n",
       "0                   just happen a terrible car crash   \n",
       "1  hear about # earthquake be different city , st...   \n",
       "2  there be a forest fire at spot pond , geese be...   \n",
       "3         apocalypse lighting . # spokane # wildfire   \n",
       "4           typhoon soudelor kill 28 in china taiwan   \n",
       "\n",
       "                               Rake_Keyword Flash_Keyword      Aspect_Terms  \\\n",
       "0                      [terrible car crash]            []             crash   \n",
       "1      [stay safe everyone, different city]            []   earthquake city   \n",
       "2     [spot pond, forest fire, flee across]            []       fire street   \n",
       "3                     [apocalypse lighting]            []  lighting spokane   \n",
       "4  [typhoon soudelor kill 28, china taiwan]            []          soudelor   \n",
       "\n",
       "            Sentiment_terms                                 Pytextrank_keyword  \n",
       "0           happen terrible                             [a terrible car crash]  \n",
       "1  hear different stay safe  [different city, safe everyone, about # earthq...  \n",
       "2                 flee save      [spot pond, geese, a forest fire, the street]  \n",
       "3                                           [# spokane #, apocalypse lighting]  \n",
       "4                      kill              [typhoon soudelor, china, taiwan, 28]  "
      ]
     },
     "execution_count": 21,
     "metadata": {},
     "output_type": "execute_result"
    }
   ],
   "source": [
    "data_test.head()"
   ]
  },
  {
   "cell_type": "markdown",
   "metadata": {},
   "source": [
    "# Sentence Lenght Analysis"
   ]
  },
  {
   "cell_type": "code",
   "execution_count": 22,
   "metadata": {
    "_kg_hide-output": true
   },
   "outputs": [],
   "source": [
    "from IPython.core.display import display, HTML\n",
    "import plotly.graph_objects as go\n",
    "df = data_train.copy()\n",
    "df['length'] = df['text_clean'].apply(len)"
   ]
  },
  {
   "cell_type": "code",
   "execution_count": 23,
   "metadata": {},
   "outputs": [
    {
     "data": {
      "text/html": [
       "        <script type=\"text/javascript\">\n",
       "        window.PlotlyConfig = {MathJaxConfig: 'local'};\n",
       "        if (window.MathJax) {MathJax.Hub.Config({SVG: {font: \"STIX-Web\"}});}\n",
       "        if (typeof require !== 'undefined') {\n",
       "        require.undef(\"plotly\");\n",
       "        requirejs.config({\n",
       "            paths: {\n",
       "                'plotly': ['https://cdn.plot.ly/plotly-latest.min']\n",
       "            }\n",
       "        });\n",
       "        require(['plotly'], function(Plotly) {\n",
       "            window._Plotly = Plotly;\n",
       "        });\n",
       "        }\n",
       "        </script>\n",
       "        "
      ]
     },
     "metadata": {},
     "output_type": "display_data"
    },
    {
     "data": {
      "text/html": [
       "<div>\n",
       "        \n",
       "        \n",
       "            <div id=\"9673393a-31a4-4d3b-86e4-a5429e939fed\" class=\"plotly-graph-div\" style=\"height:525px; width:100%;\"></div>\n",
       "            <script type=\"text/javascript\">\n",
       "                require([\"plotly\"], function(Plotly) {\n",
       "                    window.PLOTLYENV=window.PLOTLYENV || {};\n",
       "                    \n",
       "                if (document.getElementById(\"9673393a-31a4-4d3b-86e4-a5429e939fed\")) {\n",
       "                    Plotly.newPlot(\n",
       "                        '9673393a-31a4-4d3b-86e4-a5429e939fed',\n",
       "                        [{\"name\": \"Real\", \"type\": \"box\", \"y\": [61, 39, 122, 63, 87, 112, 95, 52, 77, 46, 42, 118, 77, 37, 56, 55, 84, 55, 142, 93, 73, 71, 96, 129, 101, 137, 126, 74, 98, 124, 135, 35, 89, 71, 95, 91, 94, 131, 81, 133, 73, 132, 124, 51, 61, 93, 77, 49, 138, 138, 96, 116, 134, 138, 133, 93, 111, 74, 88, 132, 105, 136, 131, 98, 134, 137, 90, 87, 72, 144, 80, 135, 133, 125, 127, 74, 122, 131, 26, 85, 62, 133, 107, 106, 134, 103, 135, 83, 115, 106, 106, 72, 106, 84, 63, 93, 106, 106, 106, 95, 95, 106, 43, 131, 131, 95, 119, 131, 41, 124, 116, 131, 107, 116, 39, 92, 141, 141, 91, 146, 88, 122, 140, 90, 143, 105, 42, 125, 109, 112, 25, 130, 102, 34, 98, 89, 134, 135, 81, 101, 105, 113, 127, 118, 95, 135, 95, 95, 81, 72, 79, 79, 136, 44, 113, 127, 136, 95, 95, 83, 97, 105, 101, 81, 45, 62, 67, 81, 139, 79, 91, 86, 108, 102, 51, 106, 110, 81, 92, 113, 78, 126, 101, 108, 105, 88, 116, 145, 110, 104, 143, 142, 105, 102, 120, 74, 120, 129, 82, 118, 118, 118, 114, 66, 118, 118, 118, 101, 118, 118, 118, 118, 118, 119, 118, 113, 118, 118, 66, 112, 73, 139, 126, 126, 93, 96, 106, 103, 110, 88, 113, 142, 127, 132, 134, 105, 128, 130, 96, 142, 140, 87, 145, 110, 78, 96, 98, 145, 110, 27, 130, 124, 146, 111, 98, 131, 137, 135, 134, 135, 56, 131, 140, 27, 132, 141, 141, 122, 61, 128, 76, 57, 100, 83, 118, 97, 57, 40, 43, 39, 71, 125, 76, 67, 136, 126, 91, 107, 31, 93, 116, 22, 51, 68, 131, 44, 118, 144, 110, 130, 115, 108, 132, 89, 21, 100, 132, 44, 97, 116, 74, 138, 83, 76, 83, 56, 131, 86, 120, 47, 135, 66, 102, 138, 127, 127, 134, 72, 127, 130, 93, 133, 125, 64, 118, 107, 108, 114, 76, 131, 84, 72, 127, 90, 92, 89, 142, 125, 137, 136, 98, 121, 139, 59, 89, 73, 79, 79, 79, 79, 147, 98, 103, 78, 95, 141, 79, 142, 136, 92, 133, 107, 137, 138, 75, 136, 113, 91, 123, 78, 123, 139, 78, 93, 106, 123, 78, 78, 110, 104, 141, 78, 78, 112, 97, 123, 78, 128, 109, 75, 74, 103, 118, 75, 104, 128, 100, 124, 69, 34, 117, 137, 93, 103, 100, 54, 71, 114, 55, 71, 133, 124, 143, 122, 136, 90, 78, 90, 64, 135, 134, 91, 121, 61, 102, 104, 124, 138, 132, 61, 128, 103, 129, 142, 64, 81, 130, 128, 123, 136, 115, 101, 119, 71, 68, 129, 102, 132, 75, 103, 111, 61, 137, 43, 12, 62, 75, 134, 125, 113, 93, 104, 126, 143, 118, 65, 55, 115, 93, 104, 75, 118, 86, 117, 101, 124, 123, 79, 129, 66, 114, 121, 87, 80, 138, 81, 128, 50, 53, 124, 53, 138, 127, 138, 98, 116, 31, 128, 136, 82, 99, 89, 138, 108, 132, 132, 79, 30, 85, 116, 124, 116, 101, 132, 120, 98, 114, 131, 108, 133, 97, 115, 135, 84, 93, 81, 140, 100, 139, 134, 109, 82, 121, 118, 131, 107, 99, 128, 142, 60, 88, 125, 129, 94, 131, 129, 144, 71, 132, 105, 105, 105, 132, 86, 105, 112, 105, 120, 88, 86, 105, 94, 105, 88, 73, 137, 88, 111, 130, 148, 146, 95, 89, 128, 138, 133, 133, 104, 88, 112, 98, 94, 116, 49, 128, 48, 119, 139, 136, 108, 70, 120, 124, 94, 128, 137, 104, 55, 55, 67, 107, 139, 50, 78, 41, 118, 104, 118, 63, 96, 136, 101, 93, 123, 59, 69, 105, 116, 55, 143, 141, 135, 83, 101, 132, 127, 73, 68, 120, 140, 97, 123, 117, 126, 83, 119, 130, 133, 123, 84, 112, 109, 137, 57, 129, 77, 91, 118, 105, 91, 111, 129, 83, 129, 141, 83, 96, 85, 126, 85, 96, 137, 131, 104, 135, 100, 131, 86, 94, 92, 84, 106, 89, 83, 96, 53, 97, 32, 141, 38, 42, 61, 70, 80, 135, 83, 131, 128, 130, 128, 86, 130, 136, 62, 121, 39, 65, 110, 113, 129, 137, 133, 100, 127, 119, 82, 54, 24, 80, 47, 52, 130, 25, 117, 131, 130, 86, 115, 103, 113, 82, 76, 94, 118, 149, 89, 62, 97, 140, 137, 94, 85, 142, 119, 124, 127, 138, 134, 104, 61, 60, 44, 130, 120, 80, 110, 90, 91, 142, 123, 23, 81, 107, 138, 114, 39, 111, 124, 124, 51, 113, 118, 40, 119, 126, 136, 122, 133, 125, 63, 69, 28, 39, 54, 43, 110, 57, 36, 107, 141, 107, 127, 94, 132, 73, 129, 141, 140, 135, 133, 95, 30, 120, 123, 100, 108, 50, 134, 131, 102, 132, 134, 67, 102, 116, 115, 140, 139, 119, 129, 93, 33, 129, 100, 133, 98, 104, 104, 133, 133, 104, 131, 86, 141, 96, 116, 131, 83, 84, 62, 113, 74, 82, 99, 137, 102, 135, 134, 110, 113, 54, 136, 134, 90, 125, 62, 129, 140, 131, 123, 94, 100, 63, 142, 117, 58, 115, 134, 104, 143, 134, 108, 119, 109, 136, 130, 104, 71, 113, 78, 121, 102, 82, 111, 84, 103, 97, 101, 82, 96, 123, 138, 118, 96, 95, 62, 42, 96, 111, 96, 118, 67, 89, 91, 95, 90, 136, 117, 131, 100, 122, 52, 138, 79, 44, 110, 144, 131, 117, 97, 128, 82, 108, 129, 139, 73, 124, 71, 135, 138, 41, 62, 99, 62, 141, 109, 143, 93, 100, 113, 128, 62, 134, 107, 134, 102, 62, 107, 134, 103, 84, 134, 100, 132, 132, 80, 134, 119, 134, 103, 99, 106, 99, 126, 123, 129, 82, 128, 133, 62, 125, 97, 126, 57, 131, 50, 117, 80, 142, 136, 135, 66, 135, 125, 32, 75, 143, 104, 134, 138, 131, 117, 132, 91, 126, 98, 132, 144, 126, 126, 84, 112, 133, 84, 106, 84, 65, 126, 58, 65, 127, 128, 91, 123, 72, 136, 134, 104, 109, 122, 104, 115, 133, 138, 94, 101, 113, 130, 121, 157, 144, 138, 88, 137, 130, 137, 130, 138, 137, 137, 56, 87, 79, 137, 65, 106, 133, 125, 132, 141, 132, 132, 82, 135, 132, 135, 132, 98, 135, 132, 147, 133, 105, 132, 132, 137, 131, 132, 137, 115, 137, 78, 133, 134, 137, 51, 110, 128, 109, 106, 127, 86, 103, 139, 116, 91, 140, 125, 139, 133, 144, 136, 133, 92, 94, 136, 116, 139, 139, 139, 114, 131, 143, 107, 140, 79, 109, 134, 129, 114, 117, 128, 143, 55, 54, 106, 141, 80, 77, 137, 61, 135, 71, 140, 115, 129, 107, 139, 85, 31, 136, 119, 130, 102, 137, 50, 47, 112, 77, 140, 113, 36, 130, 33, 75, 117, 110, 110, 97, 82, 80, 118, 86, 93, 68, 105, 75, 121, 120, 46, 52, 97, 66, 47, 126, 102, 120, 117, 101, 102, 127, 122, 139, 101, 50, 74, 98, 96, 105, 78, 28, 117, 135, 61, 109, 87, 140, 138, 110, 70, 122, 148, 110, 119, 141, 118, 149, 92, 144, 148, 111, 136, 148, 139, 148, 87, 112, 100, 102, 148, 147, 133, 79, 20, 133, 20, 111, 74, 124, 144, 81, 122, 133, 92, 99, 84, 124, 147, 119, 98, 129, 134, 140, 127, 68, 140, 92, 139, 98, 130, 144, 127, 132, 50, 131, 152, 139, 117, 115, 130, 141, 109, 139, 134, 74, 132, 106, 82, 94, 134, 131, 116, 121, 135, 134, 141, 102, 107, 93, 94, 127, 81, 96, 144, 130, 137, 131, 131, 60, 133, 130, 54, 121, 121, 136, 121, 111, 140, 113, 111, 121, 54, 134, 66, 79, 121, 121, 121, 110, 103, 134, 124, 125, 140, 105, 102, 113, 62, 80, 136, 83, 90, 92, 96, 121, 97, 87, 114, 116, 121, 84, 84, 125, 107, 94, 37, 79, 131, 126, 130, 142, 31, 97, 130, 125, 128, 139, 132, 87, 92, 137, 127, 92, 113, 92, 133, 83, 74, 136, 85, 33, 87, 119, 78, 109, 139, 132, 83, 135, 120, 82, 141, 71, 107, 120, 129, 134, 143, 134, 135, 128, 79, 134, 119, 142, 136, 127, 103, 138, 125, 91, 136, 142, 72, 97, 95, 98, 94, 44, 78, 121, 38, 78, 149, 131, 128, 94, 135, 100, 132, 82, 132, 92, 98, 101, 123, 62, 116, 134, 120, 55, 123, 59, 93, 26, 80, 131, 78, 112, 132, 118, 132, 138, 136, 102, 75, 95, 132, 131, 136, 138, 88, 141, 92, 135, 136, 88, 124, 62, 92, 117, 133, 127, 96, 139, 107, 129, 117, 130, 137, 73, 96, 91, 128, 128, 105, 140, 132, 96, 78, 103, 84, 140, 140, 91, 140, 97, 99, 140, 97, 140, 78, 140, 140, 86, 139, 140, 78, 70, 140, 140, 78, 101, 132, 113, 122, 125, 125, 80, 133, 65, 110, 92, 80, 117, 100, 112, 106, 110, 79, 116, 120, 128, 131, 117, 139, 130, 94, 19, 76, 62, 81, 95, 102, 32, 104, 82, 133, 65, 132, 125, 42, 68, 109, 37, 75, 70, 48, 109, 109, 29, 97, 78, 76, 118, 62, 136, 115, 68, 115, 101, 134, 57, 134, 76, 115, 55, 129, 115, 138, 52, 50, 61, 138, 120, 111, 119, 100, 131, 104, 96, 86, 95, 98, 132, 126, 117, 140, 138, 61, 96, 130, 130, 20, 82, 132, 130, 114, 115, 131, 130, 119, 135, 123, 20, 114, 87, 140, 86, 100, 70, 141, 142, 115, 94, 89, 124, 81, 116, 112, 134, 142, 79, 79, 137, 134, 39, 118, 108, 79, 137, 79, 108, 94, 116, 142, 111, 47, 136, 116, 139, 98, 133, 89, 139, 131, 115, 118, 129, 136, 139, 117, 55, 85, 51, 134, 138, 109, 81, 127, 81, 84, 136, 144, 103, 132, 78, 95, 86, 106, 20, 118, 139, 96, 97, 92, 48, 70, 129, 71, 41, 123, 70, 70, 143, 128, 130, 61, 137, 135, 133, 69, 139, 86, 131, 106, 98, 126, 84, 140, 112, 136, 79, 120, 100, 130, 85, 99, 142, 98, 106, 124, 110, 137, 130, 95, 133, 138, 129, 82, 138, 122, 134, 109, 28, 36, 92, 134, 147, 70, 129, 140, 106, 137, 134, 85, 102, 91, 70, 46, 81, 96, 142, 149, 95, 127, 151, 125, 90, 28, 121, 132, 101, 127, 130, 114, 127, 110, 120, 109, 74, 129, 99, 68, 92, 110, 92, 131, 135, 66, 72, 118, 73, 123, 132, 72, 72, 48, 95, 66, 74, 118, 143, 66, 129, 73, 132, 72, 73, 113, 133, 75, 78, 134, 88, 97, 33, 139, 136, 124, 68, 105, 134, 126, 112, 91, 115, 96, 110, 118, 133, 35, 110, 122, 100, 85, 111, 135, 73, 100, 104, 87, 132, 142, 111, 117, 80, 108, 134, 106, 126, 122, 101, 77, 108, 87, 101, 105, 132, 104, 108, 68, 127, 68, 104, 68, 76, 79, 114, 84, 68, 102, 88, 95, 75, 101, 73, 121, 121, 73, 151, 121, 87, 121, 90, 121, 121, 73, 105, 73, 121, 118, 111, 89, 82, 87, 100, 119, 82, 107, 82, 138, 88, 67, 123, 69, 135, 122, 122, 144, 120, 134, 105, 122, 122, 124, 151, 81, 129, 87, 138, 47, 122, 148, 151, 141, 140, 151, 105, 122, 122, 137, 136, 33, 134, 134, 52, 85, 69, 27, 20, 105, 66, 23, 84, 140, 145, 135, 128, 134, 132, 24, 68, 133, 140, 70, 108, 130, 72, 134, 112, 98, 62, 88, 121, 130, 154, 105, 135, 119, 114, 116, 136, 130, 90, 119, 130, 112, 98, 133, 112, 84, 82, 121, 125, 125, 94, 80, 94, 79, 94, 127, 96, 50, 48, 84, 84, 119, 135, 143, 109, 133, 58, 110, 141, 33, 154, 89, 132, 128, 127, 79, 146, 112, 95, 113, 129, 92, 73, 44, 105, 55, 74, 76, 85, 45, 103, 131, 93, 96, 141, 81, 94, 72, 96, 120, 142, 123, 74, 97, 102, 122, 129, 117, 127, 69, 132, 136, 109, 99, 46, 139, 119, 135, 36, 138, 81, 63, 137, 117, 127, 78, 129, 71, 134, 138, 129, 103, 43, 82, 104, 118, 111, 118, 130, 102, 129, 118, 79, 115, 145, 112, 128, 80, 133, 49, 125, 49, 130, 54, 85, 73, 88, 64, 90, 129, 135, 86, 82, 131, 139, 154, 116, 112, 118, 60, 139, 18, 102, 148, 76, 83, 124, 139, 72, 146, 136, 128, 134, 113, 85, 72, 65, 39, 56, 111, 79, 120, 128, 139, 51, 138, 137, 138, 139, 138, 57, 118, 106, 63, 114, 35, 36, 109, 26, 46, 76, 119, 122, 73, 92, 106, 42, 144, 135, 114, 78, 97, 107, 102, 123, 110, 49, 103, 130, 131, 132, 117, 150, 137, 139, 128, 81, 65, 134, 87, 140, 87, 83, 121, 141, 140, 122, 87, 121, 117, 96, 131, 141, 89, 134, 85, 87, 127, 153, 148, 132, 94, 139, 140, 111, 141, 144, 80, 135, 129, 114, 96, 115, 121, 127, 130, 95, 105, 120, 121, 80, 148, 92, 148, 81, 38, 103, 134, 94, 129, 89, 102, 78, 78, 78, 78, 78, 96, 138, 86, 129, 136, 131, 98, 78, 91, 136, 111, 139, 129, 134, 85, 82, 78, 78, 85, 85, 104, 84, 133, 78, 89, 73, 102, 131, 130, 131, 84, 115, 133, 115, 131, 140, 110, 131, 131, 130, 131, 131, 131, 132, 132, 122, 131, 131, 81, 131, 131, 132, 131, 131, 83, 137, 131, 97, 134, 134, 131, 131, 134, 131, 132, 127, 114, 88, 66, 67, 88, 74, 86, 142, 104, 79, 103, 81, 54, 101, 131, 138, 132, 103, 137, 135, 128, 110, 121, 140, 106, 128, 118, 95, 106, 109, 130, 113, 81, 136, 140, 115, 90, 68, 67, 82, 76, 131, 133, 75, 134, 95, 137, 116, 112, 88, 133, 100, 94, 98, 82, 132, 138, 123, 122, 114, 140, 121, 135, 86, 107, 136, 97, 116, 135, 137, 45, 140, 115, 63, 65, 106, 91, 100, 130, 105, 91, 91, 128, 123, 91, 91, 105, 105, 105, 105, 105, 91, 40, 91, 91, 105, 103, 83, 96, 91, 91, 91, 117, 106, 87, 105, 91, 141, 79, 118, 99, 57, 87, 91, 60, 127, 79, 119, 67, 101, 91, 87, 139, 131, 116, 77, 91, 119, 141, 86, 79, 79, 127, 93, 117, 106, 81, 58, 120, 58, 59, 63, 124, 114, 53, 66, 102, 118, 58, 139, 58, 127, 126, 126, 126, 129, 130, 130, 129, 126, 85, 126, 126, 126, 127, 126, 131, 126, 121, 138, 131, 134, 126, 126, 97, 128, 126, 94, 129, 73, 100, 129, 128, 25, 44, 93, 127, 90, 134, 132, 83, 85, 73, 103, 123, 75, 68, 115, 141, 137, 136, 56, 136, 71, 132, 117, 117, 83, 68, 127, 134, 134, 138, 100, 101, 98, 128, 95, 127, 90, 105, 98, 78, 89, 89, 89, 89, 89, 89, 89, 89, 135, 27, 89, 89, 89, 89, 139, 89, 89, 89, 89, 89, 89, 89, 89, 89, 89, 105, 89, 89, 104, 133, 94, 49, 45, 35, 49, 119, 118, 98, 107, 42, 88, 77, 128, 125, 105, 119, 125, 103, 101, 70, 130, 82, 128, 117, 72, 72, 86, 65, 152, 77, 92, 80, 140, 131, 81, 135, 80, 77, 94, 36, 97, 144, 138, 65, 69, 73, 141, 35, 110, 77, 106, 89, 72, 104, 106, 91, 106, 102, 102, 118, 67, 79, 116, 82, 80, 107, 100, 132, 106, 122, 103, 26, 64, 117, 140, 101, 65, 114, 130, 117, 54, 119, 133, 130, 135, 125, 52, 88, 133, 59, 70, 137, 71, 102, 135, 95, 20, 136, 146, 90, 111, 81, 126, 140, 134, 50, 140, 82, 98, 136, 134, 134, 114, 115, 114, 135, 138, 134, 91, 134, 131, 135, 135, 141, 91, 135, 113, 134, 135, 142, 128, 128, 142, 73, 128, 105, 126, 129, 142, 128, 139, 121, 142, 142, 121, 112, 123, 98, 98, 98, 129, 115, 105, 100, 115, 98, 124, 142, 143, 121, 116, 85, 87, 128, 100, 75, 77, 136, 133, 135, 88, 93, 136, 136, 58, 89, 138, 85, 114, 137, 108, 117, 132, 62, 86, 136, 125, 139, 132, 68, 114, 124, 131, 86, 140, 137, 96, 45, 81, 99, 98, 80, 116, 133, 130, 49, 99, 120, 80, 80, 134, 131, 130, 81, 141, 65, 126, 132, 80, 125, 132, 119, 79, 136, 106, 76, 140, 123, 128, 140, 51, 129, 61, 28, 81, 137, 94, 80, 94, 124, 118, 108, 131, 133, 127, 129, 131, 94, 87, 122, 132, 138, 67, 146, 55, 84, 135, 68, 98, 84, 114, 91, 133, 137, 126, 139, 55, 70, 93, 135, 141, 56, 103, 91, 145, 83, 141, 49, 116, 87, 142, 107, 87, 100, 54, 141, 134, 142, 125, 87, 141, 104, 81, 133, 100, 136, 112, 74, 74, 139, 111, 52, 93, 130, 133, 140, 136, 90, 99, 135, 51, 134, 130, 135, 100, 53, 85, 142, 67, 124, 45, 65, 24, 76, 61, 80, 144, 81, 72, 103, 69, 139, 118, 101, 138, 119, 80, 143, 136, 105, 140, 122, 142, 91, 137, 77, 101, 116, 78, 125, 136, 128, 67, 77, 138, 140, 132, 65, 132, 83, 79, 88, 54, 137, 90, 116, 140, 140, 86, 55, 42, 104, 73, 126, 126, 126, 106, 126, 85, 126, 133, 133, 49, 126, 126, 119, 129, 118, 126, 126, 126, 147, 49, 151, 131, 124, 140, 82, 73, 43, 128, 128, 131, 134, 109, 126, 134, 84, 26, 88, 141, 137, 132, 139, 58, 81, 80, 48, 110, 116, 89, 148, 87, 119, 95, 121, 111, 62, 133, 67, 93, 50, 115, 126, 128, 92, 139, 135, 128, 129, 137, 138, 137, 137, 135, 137, 98, 138, 133, 63, 120, 92, 126, 144, 137, 137, 53, 137, 74, 133, 139, 81, 59, 71, 120, 135, 71, 92, 42, 41, 138, 137, 63, 140, 65, 136, 81, 70, 79, 131, 57, 73, 131, 131, 137, 127, 118, 139, 105, 119, 132, 89, 102, 77, 105, 132, 61, 62, 122, 136, 104, 136, 77, 133, 127, 111, 133, 118, 147, 107, 129, 128, 112, 148, 148, 83, 68, 104, 135, 30, 75, 91, 148, 86, 52, 133, 119, 26, 96, 46, 121, 131, 136, 140, 90, 101, 48, 146, 61, 59, 64, 108, 131, 78, 111, 126, 128, 133, 124, 122, 114, 104, 125, 44, 141, 98, 41, 141, 99, 117, 108, 39, 90, 51, 70, 95, 113, 85, 99, 81, 96, 67, 107, 61, 142, 105, 84, 122, 135, 133, 134, 151, 72, 120, 65, 135, 70, 139, 135, 43, 72, 113, 115, 35, 80, 126, 110, 53, 115, 41, 65, 139, 132, 74, 87, 142, 146, 73, 128, 39, 117, 146, 86, 72, 107, 121, 98, 136, 117, 89, 87, 138, 110, 143, 129, 117, 134, 71, 141, 97, 106, 95, 106, 86, 41, 82, 115, 88, 137, 101, 88, 114, 147, 95, 75, 92, 139, 127, 76, 134, 128, 88, 65, 138, 110, 124, 60, 127, 88, 140, 78, 97, 90, 140, 127, 128, 53, 125, 139, 143, 103, 88, 127, 139, 145, 140, 121, 116, 140, 94, 39, 132, 106, 30, 62, 122, 50, 86, 45, 54, 130, 100, 130, 106, 130, 143, 130, 130, 138, 135, 90, 130, 130, 131, 130, 130, 61, 132, 103, 130, 138, 130, 135, 130, 130, 89, 94, 135, 61, 130, 110, 130, 61, 130, 130, 130, 130, 80, 130, 60, 64, 43, 128, 71, 101, 131, 14, 151, 76, 131, 78, 109, 138, 130, 113, 132, 91, 94, 57, 132, 136, 103, 120, 131, 78, 126, 68, 135, 91]}, {\"name\": \"Not\", \"type\": \"box\", \"y\": [16, 10, 16, 14, 34, 23, 17, 11, 22, 8, 32, 21, 15, 9, 15, 9, 67, 29, 75, 113, 18, 116, 50, 110, 47, 84, 79, 59, 116, 129, 135, 130, 109, 99, 84, 129, 102, 85, 74, 128, 132, 142, 81, 63, 141, 73, 45, 121, 39, 130, 46, 104, 149, 75, 149, 55, 112, 70, 76, 58, 108, 34, 149, 149, 149, 41, 149, 149, 133, 111, 128, 71, 124, 109, 114, 106, 121, 57, 20, 34, 109, 91, 79, 135, 72, 65, 116, 61, 94, 80, 103, 84, 69, 31, 81, 103, 103, 112, 103, 103, 126, 44, 105, 92, 67, 117, 64, 94, 103, 44, 99, 127, 105, 76, 86, 20, 89, 76, 131, 107, 82, 84, 136, 116, 72, 128, 136, 129, 137, 48, 95, 62, 140, 122, 141, 113, 137, 81, 84, 141, 125, 149, 142, 150, 124, 141, 97, 92, 141, 44, 49, 132, 17, 93, 120, 34, 65, 22, 151, 135, 131, 148, 66, 83, 94, 74, 140, 134, 120, 69, 129, 136, 95, 98, 132, 37, 63, 65, 119, 73, 148, 79, 123, 115, 121, 148, 100, 102, 126, 27, 134, 139, 135, 104, 96, 145, 141, 81, 44, 123, 41, 143, 138, 63, 94, 138, 122, 136, 82, 87, 101, 95, 87, 87, 101, 94, 116, 109, 73, 140, 101, 165, 100, 87, 101, 82, 95, 129, 137, 87, 86, 87, 86, 141, 137, 137, 101, 95, 117, 32, 18, 109, 61, 126, 103, 23, 129, 109, 81, 94, 58, 21, 99, 33, 55, 137, 132, 42, 117, 39, 57, 132, 22, 99, 21, 60, 69, 104, 44, 60, 33, 44, 135, 115, 95, 61, 86, 95, 73, 133, 44, 127, 79, 59, 18, 30, 111, 24, 43, 112, 127, 66, 40, 106, 121, 68, 129, 69, 47, 110, 93, 33, 133, 105, 57, 120, 129, 118, 127, 101, 112, 93, 126, 125, 120, 118, 142, 102, 129, 70, 49, 72, 84, 122, 52, 98, 116, 132, 121, 89, 133, 135, 44, 80, 42, 85, 90, 79, 31, 133, 54, 44, 126, 95, 141, 118, 83, 138, 102, 94, 142, 110, 135, 105, 106, 98, 82, 139, 85, 96, 135, 139, 137, 118, 27, 136, 139, 122, 27, 138, 21, 42, 87, 112, 35, 17, 114, 140, 41, 38, 76, 18, 90, 123, 139, 31, 76, 112, 70, 30, 55, 115, 118, 55, 94, 96, 86, 68, 109, 115, 29, 34, 145, 78, 92, 131, 141, 141, 59, 115, 85, 124, 39, 67, 105, 71, 128, 82, 45, 123, 104, 122, 43, 19, 83, 28, 126, 93, 101, 32, 94, 139, 135, 136, 70, 83, 78, 53, 46, 123, 52, 89, 111, 70, 53, 93, 43, 29, 54, 100, 37, 50, 40, 49, 77, 121, 65, 52, 56, 55, 112, 83, 25, 25, 42, 74, 46, 49, 60, 51, 87, 89, 121, 97, 119, 116, 59, 45, 67, 119, 26, 34, 120, 132, 59, 105, 21, 80, 37, 31, 77, 81, 132, 46, 27, 21, 119, 86, 136, 131, 20, 13, 128, 88, 84, 90, 105, 97, 142, 47, 141, 115, 110, 59, 33, 63, 59, 118, 103, 52, 127, 117, 111, 122, 139, 64, 30, 120, 50, 111, 38, 118, 133, 65, 27, 116, 20, 82, 37, 51, 62, 72, 121, 149, 56, 40, 58, 34, 68, 25, 64, 34, 29, 40, 89, 66, 67, 67, 120, 25, 15, 59, 82, 106, 135, 107, 74, 20, 57, 111, 117, 74, 51, 61, 73, 117, 37, 33, 49, 94, 59, 71, 23, 96, 113, 25, 79, 103, 34, 115, 71, 46, 33, 120, 81, 68, 88, 78, 143, 50, 96, 81, 98, 137, 15, 36, 136, 124, 89, 99, 50, 119, 53, 59, 127, 42, 64, 84, 75, 123, 119, 83, 111, 106, 130, 45, 20, 26, 123, 66, 39, 125, 130, 134, 103, 98, 145, 107, 136, 101, 74, 120, 100, 125, 129, 35, 58, 25, 90, 129, 140, 140, 120, 93, 139, 133, 133, 108, 115, 136, 140, 98, 143, 115, 140, 142, 116, 132, 97, 143, 133, 140, 48, 143, 134, 147, 140, 133, 132, 47, 140, 100, 82, 56, 33, 110, 120, 72, 83, 52, 51, 105, 78, 82, 105, 71, 74, 102, 80, 85, 127, 116, 127, 123, 56, 87, 142, 36, 40, 66, 131, 86, 120, 99, 36, 84, 97, 121, 35, 88, 134, 99, 122, 126, 121, 35, 82, 145, 98, 17, 111, 150, 120, 122, 40, 59, 122, 131, 56, 52, 31, 119, 139, 127, 124, 35, 134, 108, 139, 125, 118, 141, 70, 36, 33, 64, 60, 87, 42, 103, 50, 32, 48, 57, 44, 35, 79, 134, 47, 133, 35, 82, 53, 41, 125, 114, 39, 87, 78, 135, 133, 118, 59, 89, 80, 69, 26, 29, 57, 41, 106, 127, 125, 138, 144, 105, 83, 51, 122, 77, 66, 107, 74, 79, 91, 105, 48, 118, 93, 123, 138, 131, 105, 73, 110, 134, 16, 37, 181, 126, 117, 116, 64, 112, 41, 62, 56, 43, 133, 76, 66, 45, 103, 86, 107, 47, 96, 41, 35, 78, 93, 142, 99, 135, 56, 71, 129, 91, 59, 118, 122, 94, 81, 72, 44, 97, 39, 100, 84, 129, 99, 130, 74, 77, 121, 84, 97, 135, 121, 123, 96, 114, 98, 97, 125, 94, 84, 108, 136, 136, 123, 106, 109, 133, 136, 102, 119, 127, 93, 107, 57, 56, 132, 119, 113, 133, 38, 135, 89, 98, 121, 32, 116, 54, 31, 94, 33, 114, 45, 86, 130, 134, 118, 106, 135, 50, 133, 129, 121, 101, 21, 91, 99, 134, 101, 84, 140, 130, 68, 75, 93, 104, 121, 122, 64, 128, 83, 69, 105, 144, 124, 131, 56, 127, 132, 124, 124, 112, 107, 133, 116, 140, 133, 140, 132, 142, 88, 141, 113, 106, 131, 101, 138, 141, 127, 148, 128, 99, 128, 69, 65, 140, 128, 32, 53, 40, 93, 70, 27, 104, 23, 135, 106, 55, 21, 58, 93, 56, 70, 124, 78, 84, 100, 132, 128, 141, 71, 100, 88, 115, 97, 88, 120, 92, 90, 84, 96, 70, 115, 127, 134, 79, 80, 136, 137, 116, 136, 138, 141, 74, 126, 75, 44, 108, 37, 116, 128, 116, 113, 45, 101, 134, 86, 53, 43, 69, 17, 132, 103, 43, 73, 100, 42, 119, 138, 125, 42, 40, 100, 57, 67, 128, 54, 123, 119, 125, 46, 83, 110, 93, 107, 136, 113, 99, 110, 91, 53, 68, 118, 135, 114, 90, 120, 135, 129, 120, 71, 125, 128, 21, 58, 118, 130, 118, 131, 96, 63, 140, 97, 85, 94, 65, 76, 65, 123, 137, 49, 107, 121, 67, 109, 55, 109, 52, 27, 96, 74, 120, 136, 105, 115, 81, 113, 39, 64, 112, 60, 87, 55, 82, 32, 115, 110, 35, 87, 86, 79, 126, 74, 85, 70, 57, 91, 42, 105, 59, 49, 26, 44, 71, 45, 52, 46, 101, 44, 63, 131, 54, 75, 65, 36, 64, 81, 68, 106, 53, 98, 80, 102, 67, 51, 27, 5, 34, 23, 44, 31, 114, 116, 19, 49, 38, 79, 91, 105, 69, 51, 103, 31, 36, 91, 67, 104, 48, 128, 144, 50, 70, 139, 91, 33, 27, 137, 99, 77, 39, 42, 64, 153, 66, 38, 97, 42, 31, 67, 43, 125, 83, 44, 95, 151, 121, 153, 127, 45, 26, 80, 48, 108, 72, 64, 63, 148, 132, 137, 108, 51, 117, 58, 142, 75, 67, 120, 130, 89, 36, 124, 99, 53, 128, 54, 54, 60, 78, 126, 74, 107, 119, 117, 27, 82, 148, 125, 132, 34, 54, 144, 126, 43, 138, 141, 118, 123, 99, 116, 127, 70, 134, 44, 98, 58, 141, 136, 115, 110, 93, 102, 82, 98, 96, 41, 88, 135, 126, 53, 126, 57, 134, 68, 96, 72, 34, 78, 137, 115, 41, 47, 114, 116, 96, 58, 41, 135, 74, 21, 92, 95, 125, 109, 29, 46, 110, 78, 135, 15, 84, 89, 99, 86, 71, 21, 98, 70, 44, 131, 46, 104, 102, 82, 40, 110, 77, 42, 29, 108, 135, 116, 139, 64, 127, 30, 135, 127, 134, 85, 125, 81, 63, 92, 131, 44, 134, 103, 84, 132, 117, 65, 104, 140, 101, 111, 130, 54, 95, 104, 133, 84, 77, 140, 106, 73, 37, 132, 140, 140, 133, 131, 119, 88, 144, 124, 138, 74, 79, 119, 118, 128, 119, 118, 122, 125, 100, 101, 118, 118, 120, 134, 99, 118, 125, 95, 130, 104, 137, 133, 100, 137, 126, 43, 82, 104, 84, 111, 54, 57, 33, 104, 129, 131, 49, 84, 55, 82, 138, 135, 110, 129, 123, 105, 138, 79, 92, 36, 53, 138, 63, 127, 39, 43, 133, 52, 78, 28, 133, 63, 137, 85, 133, 75, 46, 61, 116, 66, 138, 57, 90, 122, 55, 107, 98, 66, 135, 44, 35, 127, 77, 135, 127, 124, 76, 95, 64, 122, 100, 134, 103, 84, 108, 136, 133, 137, 121, 102, 137, 104, 138, 136, 124, 138, 60, 82, 129, 136, 132, 114, 114, 135, 82, 84, 127, 126, 127, 35, 111, 96, 70, 118, 101, 115, 133, 81, 129, 86, 114, 87, 75, 115, 119, 141, 93, 108, 13, 64, 95, 130, 129, 72, 111, 84, 102, 137, 142, 96, 86, 106, 150, 126, 64, 114, 63, 97, 104, 125, 99, 109, 124, 135, 92, 119, 133, 107, 129, 72, 79, 115, 35, 138, 114, 40, 101, 134, 65, 61, 114, 128, 136, 95, 90, 69, 117, 126, 43, 101, 119, 107, 90, 69, 58, 17, 41, 140, 97, 83, 26, 133, 113, 123, 76, 91, 95, 117, 121, 22, 39, 83, 95, 95, 127, 95, 85, 23, 92, 78, 99, 95, 126, 114, 94, 137, 112, 95, 115, 134, 68, 130, 135, 92, 141, 66, 100, 85, 43, 116, 57, 96, 134, 61, 66, 62, 134, 60, 104, 125, 40, 55, 125, 115, 37, 45, 84, 62, 82, 86, 50, 86, 62, 80, 91, 60, 90, 33, 65, 84, 104, 65, 74, 56, 89, 108, 120, 86, 93, 83, 84, 120, 129, 122, 105, 104, 92, 129, 90, 112, 122, 76, 96, 106, 138, 115, 122, 87, 123, 131, 138, 120, 138, 132, 105, 105, 36, 132, 71, 76, 124, 104, 36, 59, 34, 23, 70, 132, 129, 100, 138, 133, 84, 117, 121, 99, 101, 49, 41, 97, 56, 42, 60, 116, 39, 47, 22, 134, 61, 115, 94, 145, 108, 93, 123, 106, 82, 124, 131, 115, 139, 76, 94, 66, 131, 98, 93, 91, 52, 48, 81, 77, 120, 69, 118, 97, 37, 96, 91, 85, 23, 73, 55, 46, 55, 37, 42, 68, 36, 139, 31, 38, 42, 120, 47, 44, 122, 102, 84, 108, 96, 40, 125, 91, 112, 36, 133, 56, 97, 141, 129, 117, 71, 133, 36, 78, 51, 56, 101, 115, 130, 68, 31, 127, 127, 88, 26, 135, 135, 135, 96, 104, 135, 64, 24, 57, 88, 94, 45, 137, 30, 135, 121, 34, 127, 100, 24, 116, 81, 38, 53, 130, 87, 109, 66, 94, 121, 127, 92, 128, 121, 94, 117, 101, 78, 144, 54, 102, 81, 148, 148, 28, 32, 64, 124, 43, 91, 88, 127, 69, 11, 23, 56, 32, 83, 66, 54, 104, 39, 97, 95, 88, 57, 18, 116, 31, 107, 109, 124, 109, 38, 113, 65, 80, 91, 46, 109, 48, 132, 71, 103, 67, 91, 88, 122, 117, 82, 47, 99, 82, 30, 94, 84, 77, 127, 75, 140, 17, 140, 85, 93, 106, 119, 125, 136, 140, 64, 83, 141, 130, 138, 112, 95, 105, 109, 87, 139, 59, 108, 122, 96, 138, 95, 82, 88, 109, 72, 86, 132, 129, 122, 138, 136, 97, 131, 137, 85, 115, 120, 141, 110, 129, 135, 147, 133, 133, 125, 151, 105, 121, 121, 114, 144, 111, 99, 53, 102, 111, 32, 97, 45, 92, 102, 114, 111, 118, 96, 97, 111, 102, 99, 106, 118, 62, 71, 119, 67, 50, 133, 74, 125, 149, 61, 89, 104, 44, 67, 63, 84, 75, 129, 43, 95, 20, 103, 126, 131, 106, 103, 67, 84, 116, 109, 92, 99, 102, 131, 114, 49, 134, 72, 111, 83, 122, 90, 129, 65, 89, 97, 59, 38, 33, 117, 134, 132, 107, 27, 134, 23, 71, 118, 78, 70, 132, 134, 61, 32, 134, 66, 21, 44, 53, 104, 131, 129, 158, 118, 78, 90, 77, 122, 134, 98, 78, 77, 34, 49, 97, 71, 134, 18, 124, 134, 64, 75, 125, 130, 140, 73, 71, 91, 124, 91, 140, 143, 95, 140, 140, 127, 117, 124, 122, 140, 122, 137, 129, 123, 30, 82, 116, 139, 133, 127, 126, 107, 137, 111, 111, 111, 62, 135, 142, 111, 110, 129, 123, 46, 90, 129, 40, 76, 134, 125, 129, 110, 67, 82, 86, 79, 81, 64, 56, 81, 76, 71, 73, 106, 55, 97, 61, 16, 112, 85, 98, 107, 132, 47, 102, 130, 50, 42, 107, 76, 74, 131, 53, 130, 79, 127, 79, 138, 55, 116, 132, 67, 10, 8, 116, 33, 49, 109, 37, 37, 25, 43, 147, 37, 47, 69, 25, 95, 66, 132, 122, 131, 16, 78, 36, 79, 133, 73, 105, 48, 69, 121, 133, 66, 123, 122, 106, 37, 137, 105, 34, 62, 101, 86, 28, 35, 128, 95, 76, 50, 131, 113, 33, 110, 132, 102, 138, 17, 137, 118, 93, 139, 39, 24, 79, 44, 62, 45, 8, 36, 141, 125, 127, 51, 35, 27, 48, 143, 50, 99, 71, 76, 93, 18, 49, 68, 94, 124, 42, 107, 142, 124, 102, 40, 51, 119, 98, 86, 62, 149, 128, 143, 130, 119, 86, 118, 78, 124, 102, 114, 111, 117, 92, 103, 145, 145, 107, 43, 83, 133, 37, 98, 39, 45, 44, 62, 145, 128, 124, 42, 126, 89, 64, 39, 69, 106, 84, 103, 102, 81, 76, 83, 111, 46, 39, 47, 33, 69, 124, 119, 112, 79, 31, 136, 85, 59, 35, 104, 128, 112, 118, 127, 31, 33, 135, 127, 141, 110, 141, 75, 140, 142, 100, 130, 140, 19, 141, 63, 148, 126, 139, 141, 141, 139, 140, 140, 119, 140, 141, 99, 134, 66, 126, 76, 72, 94, 68, 45, 42, 64, 34, 138, 122, 118, 122, 138, 96, 81, 99, 118, 124, 118, 93, 130, 71, 90, 138, 80, 83, 92, 53, 41, 54, 74, 96, 48, 73, 91, 116, 127, 115, 29, 28, 42, 105, 122, 68, 30, 105, 49, 92, 94, 80, 36, 112, 94, 132, 71, 52, 98, 52, 108, 103, 81, 53, 127, 139, 105, 79, 138, 119, 119, 30, 133, 48, 87, 91, 60, 108, 87, 73, 48, 84, 128, 98, 113, 132, 55, 56, 87, 123, 134, 134, 78, 110, 102, 60, 19, 125, 89, 68, 127, 122, 49, 85, 72, 106, 74, 133, 137, 129, 129, 122, 94, 70, 73, 111, 132, 95, 118, 106, 66, 116, 73, 132, 73, 138, 131, 132, 118, 48, 56, 118, 121, 112, 76, 36, 122, 94, 109, 113, 131, 49, 84, 100, 85, 100, 99, 112, 72, 135, 112, 96, 93, 118, 34, 54, 78, 135, 115, 73, 108, 112, 100, 104, 133, 93, 100, 96, 85, 50, 51, 115, 118, 123, 93, 116, 91, 113, 84, 99, 133, 116, 73, 43, 114, 38, 132, 123, 130, 124, 128, 105, 104, 104, 100, 120, 104, 104, 132, 102, 95, 109, 100, 115, 104, 85, 96, 121, 121, 121, 121, 121, 121, 121, 80, 121, 121, 125, 121, 121, 121, 124, 114, 134, 58, 108, 22, 91, 113, 41, 128, 57, 53, 108, 93, 59, 127, 38, 139, 118, 52, 130, 83, 92, 120, 121, 122, 120, 117, 55, 90, 39, 40, 47, 140, 88, 43, 77, 123, 30, 67, 94, 140, 57, 140, 21, 125, 55, 65, 136, 61, 43, 102, 73, 104, 27, 136, 42, 45, 138, 107, 124, 98, 115, 115, 46, 124, 94, 121, 129, 103, 85, 103, 88, 128, 75, 89, 130, 87, 78, 39, 61, 123, 121, 114, 87, 128, 92, 124, 137, 149, 117, 99, 100, 125, 88, 77, 94, 123, 89, 65, 121, 123, 92, 82, 123, 92, 137, 73, 127, 49, 109, 120, 118, 128, 100, 71, 121, 74, 120, 127, 137, 109, 54, 132, 101, 93, 128, 108, 134, 36, 127, 121, 137, 134, 126, 130, 121, 111, 129, 76, 121, 64, 76, 39, 56, 123, 52, 92, 52, 136, 137, 130, 67, 73, 106, 137, 138, 97, 63, 69, 137, 144, 75, 140, 69, 133, 55, 85, 124, 95, 124, 111, 52, 64, 113, 18, 39, 83, 129, 49, 141, 86, 14, 101, 10, 122, 55, 122, 130, 136, 34, 72, 109, 138, 94, 150, 92, 96, 27, 123, 107, 103, 65, 53, 66, 28, 101, 125, 89, 131, 132, 81, 60, 129, 131, 131, 135, 122, 103, 135, 58, 134, 120, 89, 133, 134, 129, 147, 131, 126, 52, 124, 132, 62, 130, 80, 98, 84, 128, 140, 131, 40, 123, 102, 129, 42, 133, 93, 74, 111, 74, 78, 102, 52, 118, 137, 115, 7, 23, 121, 59, 98, 114, 96, 61, 122, 61, 114, 43, 128, 55, 128, 115, 19, 34, 129, 131, 30, 75, 78, 206, 128, 63, 128, 115, 136, 117, 79, 128, 89, 85, 131, 124, 102, 62, 80, 146, 132, 67, 31, 121, 75, 126, 127, 129, 115, 44, 100, 87, 80, 26, 112, 110, 86, 44, 56, 141, 8, 91, 76, 138, 79, 131, 141, 109, 114, 92, 133, 124, 109, 80, 105, 114, 130, 129, 105, 117, 136, 105, 106, 91, 117, 137, 133, 132, 106, 60, 48, 101, 47, 70, 98, 98, 38, 44, 90, 57, 125, 49, 81, 84, 114, 88, 60, 41, 24, 44, 73, 99, 29, 51, 58, 106, 112, 64, 131, 76, 129, 67, 114, 66, 107, 140, 102, 107, 64, 127, 110, 129, 119, 7, 144, 88, 86, 113, 141, 54, 91, 64, 129, 83, 68, 101, 46, 52, 93, 113, 139, 82, 113, 98, 57, 131, 137, 149, 136, 59, 129, 73, 132, 49, 77, 60, 90, 29, 113, 40, 70, 69, 94, 121, 71, 116, 105, 106, 92, 124, 105, 130, 52, 51, 11, 87, 61, 25, 90, 147, 100, 79, 81, 123, 112, 117, 115, 28, 79, 34, 69, 49, 57, 81, 79, 92, 126, 54, 33, 117, 77, 95, 129, 135, 128, 126, 76, 76, 76, 92, 49, 79, 76, 140, 128, 139, 132, 80, 97, 129, 78, 95, 129, 141, 36, 106, 34, 105, 120, 134, 108, 94, 111, 86, 44, 86, 71, 118, 99, 71, 88, 151, 89, 135, 57, 92, 95, 88, 59, 109, 102, 60, 106, 136, 135, 15, 43, 67, 130, 117, 63, 78, 120, 46, 47, 128, 117, 81, 54, 101, 91, 122, 78, 91, 92, 131, 114, 131, 22, 138, 59, 138, 130, 74, 102, 119, 85, 31, 25, 132, 57, 41, 76, 57, 44, 17, 86, 117, 76, 52, 61, 69, 107, 83, 78, 54, 102, 92, 42, 84, 86, 78, 60, 21, 105, 102, 61, 59, 62, 85, 67, 138, 107, 74, 135, 84, 137, 106, 130, 63, 84, 136, 85, 125, 122, 120, 67, 111, 109, 124, 113, 83, 136, 110, 82, 67, 126, 135, 135, 86, 79, 106, 139, 60, 118, 135, 139, 135, 67, 67, 91, 109, 85, 67, 92, 119, 107, 131, 119, 133, 133, 108, 66, 131, 61, 73, 119, 131, 119, 131, 126, 133, 131, 137, 119, 130, 119, 133, 81, 134, 136, 108, 128, 51, 91, 116, 116, 97, 98, 89, 114, 27, 61, 119, 24, 128, 106, 61, 79, 130, 106, 104, 120, 149, 123, 121, 136, 137, 92, 122, 134, 117, 132, 57, 119, 131, 70, 114, 142, 127, 114, 114, 52, 59, 107, 107, 102, 84, 96, 62, 81, 56, 114, 125, 99, 119, 96, 47, 131, 72, 87, 108, 127, 87, 104, 65, 77, 104, 136, 120, 121, 70, 128, 135, 138, 63, 136, 123, 126, 94, 85, 88, 137, 73, 133, 143, 91, 136, 113, 95, 77, 109, 101, 144, 131, 135, 107, 121, 138, 63, 139, 61, 139, 35, 54, 146, 93, 89, 76, 26, 73, 67, 135, 123, 96, 142, 103, 138, 124, 131, 98, 145, 133, 82, 101, 142, 28, 131, 97, 140, 81, 98, 112, 75, 23, 38, 114, 43, 68, 70, 23, 88, 99, 105, 35, 66, 52, 59, 66, 75, 90, 37, 85, 69, 34, 32, 106, 35, 101, 55, 100, 76, 53, 136, 58, 105, 27, 30, 78, 134, 63, 57, 89, 50, 46, 61, 88, 45, 70, 120, 59, 74, 92, 98, 44, 64, 74, 121, 76, 62, 103, 70, 123, 113, 115, 104, 110, 66, 85, 49, 50, 138, 82, 78, 35, 50, 113, 41, 75, 59, 118, 32, 24, 41, 93, 56, 55, 56, 60, 120, 57, 25, 19, 61, 106, 114, 117, 65, 66, 53, 47, 74, 78, 113, 37, 55, 40, 55, 66, 121, 47, 54, 27, 116, 35, 21, 33, 108, 138, 66, 64, 50, 44, 23, 30, 66, 24, 69, 67, 49, 74, 95, 45, 70, 56, 114, 62, 65, 78, 10, 47, 130, 125, 125, 127, 139, 80, 131, 103, 87, 113, 129, 60, 122, 102, 142, 84, 132, 134, 81, 104, 131, 92, 129, 56, 133, 85, 115, 69, 104, 99, 120, 109, 97, 73, 127, 106, 93, 108, 52, 97, 29, 107, 106, 89, 65, 139, 92, 139, 70, 58, 111, 108, 114, 106, 83, 120, 99, 66, 32, 32, 99, 76, 103, 142, 21, 47, 100, 43, 144, 128, 129, 86, 82, 122, 48, 135, 86, 56, 56, 96, 118, 146, 124, 72, 136, 48, 45, 46, 49, 42, 132, 110, 41, 68, 89, 51, 120, 106, 92, 23, 65, 13, 31, 125, 41, 119, 37, 130, 26, 53, 85, 122, 87, 90, 77, 31, 71, 124, 61, 45, 39, 18, 45, 119, 72, 85, 54, 97, 17, 75, 24, 87, 80, 36, 28, 124, 69, 84, 40, 32, 91, 32, 111, 57, 15, 55, 128, 86, 41, 85, 123, 131, 139, 41, 72, 139, 117, 107, 83, 67, 116, 133, 144, 145, 134, 15, 138, 33, 125, 110, 90, 67, 108, 66, 141, 18, 40, 133, 63, 46, 62, 94, 98, 92, 133, 62, 122, 140, 105, 94, 53, 134, 58, 109, 62, 50, 96, 65, 63, 63, 63, 112, 58, 54, 63, 91, 57, 72, 126, 93, 71, 63, 96, 124, 93, 120, 103, 127, 125, 133, 126, 52, 120, 128, 120, 112, 17, 119, 78, 70, 78, 70, 117, 60, 49, 84, 72, 98, 140, 58, 59, 132, 99, 86, 133, 52, 69, 100, 33, 58, 119, 130, 112, 114, 46, 46, 125, 130, 60, 110, 133, 84, 68, 89, 90, 142, 104, 32, 53, 117, 78, 107, 48, 117, 124, 64, 133, 100, 15, 117, 117, 50, 99, 28, 102, 128, 104, 129, 105, 111, 44, 66, 129, 71, 65, 78, 99, 73, 60, 123, 40, 64, 68, 142, 120, 124, 135, 65, 59, 40, 24, 112, 119, 119, 116, 99, 138, 92, 141, 142, 116, 69, 86, 100, 112, 132, 141, 106, 55, 25, 100, 29, 76, 64, 141, 128, 130, 86, 128, 73, 62, 128, 136, 55, 104, 60, 26, 70, 25, 75, 103, 37, 113, 22, 66, 39, 103, 49, 45, 119, 142, 130, 37, 40, 16, 33, 104, 142, 34, 13, 54, 50, 81, 90, 142, 103, 109, 28, 55, 34, 73, 96, 37, 85, 87, 106, 112, 36, 96, 98, 110, 27, 84, 37, 91, 93, 95, 70, 73, 73, 140, 131, 81, 66, 97, 119, 133, 132, 46, 116, 59, 34, 79, 85, 128, 48, 111, 72, 110, 131, 49, 116, 138, 73, 127, 21, 90, 128, 100, 88, 132, 128, 72, 72, 102, 114, 130, 121, 81, 51, 66, 108, 134, 93, 144, 66, 118, 43, 86, 114, 120, 103, 110, 98, 103, 112, 73, 19, 66, 82, 72, 118, 31, 28, 106, 85, 70, 24, 103, 44, 26, 85, 132, 94, 135, 109, 102, 73, 128, 69, 134, 52, 81, 68, 71, 64, 75, 77, 78, 129, 111, 120, 12, 43, 49, 87, 79, 123, 84, 141, 71, 43, 72, 71, 127, 80, 99, 65, 64, 125, 124, 61, 117, 68, 70, 16, 148, 72, 23, 66, 138, 36, 100, 138, 24, 108, 77, 39, 37, 30, 135, 68, 115, 96, 26, 138, 18, 25, 105, 138, 60, 81, 128, 78, 38, 54, 108, 47, 140, 78, 140, 128, 114, 97, 57, 51, 37, 112, 102, 66, 131, 41, 96, 117, 55, 33, 115, 32, 126, 125, 79, 117, 132, 82, 137, 79, 133, 41, 81, 96, 135, 128, 130, 78, 124, 103, 124, 79, 85, 68, 91, 94, 84, 80, 80, 114, 125, 136, 121, 132, 120, 77, 87, 114, 125, 125, 103, 143, 120, 67, 139, 132, 123, 145, 135, 134, 136, 146, 116, 67, 40, 106, 110, 86, 85, 31, 59, 80, 103, 57, 108, 44, 82, 41, 118, 68, 34, 99, 68, 116, 107, 93, 29, 103, 19, 85, 120, 69, 80, 108, 47, 56, 50, 105, 33, 113, 130, 54, 103, 125, 113, 43, 20, 47, 115, 124, 110, 98, 94, 127, 134, 64, 29, 126, 96, 144, 97, 132, 130, 132, 127, 116, 131, 121, 84, 127, 106, 119, 36, 102, 135, 73, 98, 142, 128, 114, 41, 118, 98, 150, 135, 113, 135, 18, 126, 138, 110, 67, 100, 52, 135, 109, 137, 63, 128, 137, 142, 67, 59, 132, 134, 93, 47, 128, 53, 91, 101, 100, 80, 81, 81, 73, 114, 92, 144, 73, 70, 95, 139, 95, 122, 134, 104, 54, 125, 143, 118, 95, 67, 51, 98, 72, 139, 131, 64, 76, 78, 95, 146, 80, 114, 128, 38, 17, 109, 134, 64, 64, 69, 115, 112, 105, 49, 99, 81, 120, 118, 73, 10, 98, 81, 62, 86, 87, 101, 128, 78, 127, 132, 124, 35, 114, 33, 61, 61, 136, 108, 107, 110, 139, 78, 82, 123, 136, 47, 101, 37, 104, 119, 87, 91, 114, 84, 81, 39, 97, 118, 112, 44, 55, 39, 38, 28, 17, 18, 102, 48, 96, 17, 128, 84, 89, 70, 77, 61, 47, 40, 90, 36, 92, 96, 104, 80, 125, 18, 53]}],\n",
       "                        {\"template\": {\"data\": {\"bar\": [{\"error_x\": {\"color\": \"#2a3f5f\"}, \"error_y\": {\"color\": \"#2a3f5f\"}, \"marker\": {\"line\": {\"color\": \"#E5ECF6\", \"width\": 0.5}}, \"type\": \"bar\"}], \"barpolar\": [{\"marker\": {\"line\": {\"color\": \"#E5ECF6\", \"width\": 0.5}}, \"type\": \"barpolar\"}], \"carpet\": [{\"aaxis\": {\"endlinecolor\": \"#2a3f5f\", \"gridcolor\": \"white\", \"linecolor\": \"white\", \"minorgridcolor\": \"white\", \"startlinecolor\": \"#2a3f5f\"}, \"baxis\": {\"endlinecolor\": \"#2a3f5f\", \"gridcolor\": \"white\", \"linecolor\": \"white\", \"minorgridcolor\": \"white\", \"startlinecolor\": \"#2a3f5f\"}, \"type\": \"carpet\"}], \"choropleth\": [{\"colorbar\": {\"outlinewidth\": 0, \"ticks\": \"\"}, \"type\": \"choropleth\"}], \"contour\": [{\"colorbar\": {\"outlinewidth\": 0, \"ticks\": \"\"}, \"colorscale\": [[0.0, \"#0d0887\"], [0.1111111111111111, \"#46039f\"], [0.2222222222222222, \"#7201a8\"], [0.3333333333333333, \"#9c179e\"], [0.4444444444444444, \"#bd3786\"], [0.5555555555555556, \"#d8576b\"], [0.6666666666666666, \"#ed7953\"], [0.7777777777777778, \"#fb9f3a\"], [0.8888888888888888, \"#fdca26\"], [1.0, \"#f0f921\"]], \"type\": \"contour\"}], \"contourcarpet\": [{\"colorbar\": {\"outlinewidth\": 0, \"ticks\": \"\"}, \"type\": \"contourcarpet\"}], \"heatmap\": [{\"colorbar\": {\"outlinewidth\": 0, \"ticks\": \"\"}, \"colorscale\": [[0.0, \"#0d0887\"], [0.1111111111111111, \"#46039f\"], [0.2222222222222222, \"#7201a8\"], [0.3333333333333333, \"#9c179e\"], [0.4444444444444444, \"#bd3786\"], [0.5555555555555556, \"#d8576b\"], [0.6666666666666666, \"#ed7953\"], [0.7777777777777778, \"#fb9f3a\"], [0.8888888888888888, \"#fdca26\"], [1.0, \"#f0f921\"]], \"type\": \"heatmap\"}], \"heatmapgl\": [{\"colorbar\": {\"outlinewidth\": 0, \"ticks\": \"\"}, \"colorscale\": [[0.0, \"#0d0887\"], [0.1111111111111111, \"#46039f\"], [0.2222222222222222, \"#7201a8\"], [0.3333333333333333, \"#9c179e\"], [0.4444444444444444, \"#bd3786\"], [0.5555555555555556, \"#d8576b\"], [0.6666666666666666, \"#ed7953\"], [0.7777777777777778, \"#fb9f3a\"], [0.8888888888888888, \"#fdca26\"], [1.0, \"#f0f921\"]], \"type\": \"heatmapgl\"}], \"histogram\": [{\"marker\": {\"colorbar\": {\"outlinewidth\": 0, \"ticks\": \"\"}}, \"type\": \"histogram\"}], \"histogram2d\": [{\"colorbar\": {\"outlinewidth\": 0, \"ticks\": \"\"}, \"colorscale\": [[0.0, \"#0d0887\"], [0.1111111111111111, \"#46039f\"], [0.2222222222222222, \"#7201a8\"], [0.3333333333333333, \"#9c179e\"], [0.4444444444444444, \"#bd3786\"], [0.5555555555555556, \"#d8576b\"], [0.6666666666666666, \"#ed7953\"], [0.7777777777777778, \"#fb9f3a\"], [0.8888888888888888, \"#fdca26\"], [1.0, \"#f0f921\"]], \"type\": \"histogram2d\"}], \"histogram2dcontour\": [{\"colorbar\": {\"outlinewidth\": 0, \"ticks\": \"\"}, \"colorscale\": [[0.0, \"#0d0887\"], [0.1111111111111111, \"#46039f\"], [0.2222222222222222, \"#7201a8\"], [0.3333333333333333, \"#9c179e\"], [0.4444444444444444, \"#bd3786\"], [0.5555555555555556, \"#d8576b\"], [0.6666666666666666, \"#ed7953\"], [0.7777777777777778, \"#fb9f3a\"], [0.8888888888888888, \"#fdca26\"], [1.0, \"#f0f921\"]], \"type\": \"histogram2dcontour\"}], \"mesh3d\": [{\"colorbar\": {\"outlinewidth\": 0, \"ticks\": \"\"}, \"type\": \"mesh3d\"}], \"parcoords\": [{\"line\": {\"colorbar\": {\"outlinewidth\": 0, \"ticks\": \"\"}}, \"type\": \"parcoords\"}], \"pie\": [{\"automargin\": true, \"type\": \"pie\"}], \"scatter\": [{\"marker\": {\"colorbar\": {\"outlinewidth\": 0, \"ticks\": \"\"}}, \"type\": \"scatter\"}], \"scatter3d\": [{\"line\": {\"colorbar\": {\"outlinewidth\": 0, \"ticks\": \"\"}}, \"marker\": {\"colorbar\": {\"outlinewidth\": 0, \"ticks\": \"\"}}, \"type\": \"scatter3d\"}], \"scattercarpet\": [{\"marker\": {\"colorbar\": {\"outlinewidth\": 0, \"ticks\": \"\"}}, \"type\": \"scattercarpet\"}], \"scattergeo\": [{\"marker\": {\"colorbar\": {\"outlinewidth\": 0, \"ticks\": \"\"}}, \"type\": \"scattergeo\"}], \"scattergl\": [{\"marker\": {\"colorbar\": {\"outlinewidth\": 0, \"ticks\": \"\"}}, \"type\": \"scattergl\"}], \"scattermapbox\": [{\"marker\": {\"colorbar\": {\"outlinewidth\": 0, \"ticks\": \"\"}}, \"type\": \"scattermapbox\"}], \"scatterpolar\": [{\"marker\": {\"colorbar\": {\"outlinewidth\": 0, \"ticks\": \"\"}}, \"type\": \"scatterpolar\"}], \"scatterpolargl\": [{\"marker\": {\"colorbar\": {\"outlinewidth\": 0, \"ticks\": \"\"}}, \"type\": \"scatterpolargl\"}], \"scatterternary\": [{\"marker\": {\"colorbar\": {\"outlinewidth\": 0, \"ticks\": \"\"}}, \"type\": \"scatterternary\"}], \"surface\": [{\"colorbar\": {\"outlinewidth\": 0, \"ticks\": \"\"}, \"colorscale\": [[0.0, \"#0d0887\"], [0.1111111111111111, \"#46039f\"], [0.2222222222222222, \"#7201a8\"], [0.3333333333333333, \"#9c179e\"], [0.4444444444444444, \"#bd3786\"], [0.5555555555555556, \"#d8576b\"], [0.6666666666666666, \"#ed7953\"], [0.7777777777777778, \"#fb9f3a\"], [0.8888888888888888, \"#fdca26\"], [1.0, \"#f0f921\"]], \"type\": \"surface\"}], \"table\": [{\"cells\": {\"fill\": {\"color\": \"#EBF0F8\"}, \"line\": {\"color\": \"white\"}}, \"header\": {\"fill\": {\"color\": \"#C8D4E3\"}, \"line\": {\"color\": \"white\"}}, \"type\": \"table\"}]}, \"layout\": {\"annotationdefaults\": {\"arrowcolor\": \"#2a3f5f\", \"arrowhead\": 0, \"arrowwidth\": 1}, \"coloraxis\": {\"colorbar\": {\"outlinewidth\": 0, \"ticks\": \"\"}}, \"colorscale\": {\"diverging\": [[0, \"#8e0152\"], [0.1, \"#c51b7d\"], [0.2, \"#de77ae\"], [0.3, \"#f1b6da\"], [0.4, \"#fde0ef\"], [0.5, \"#f7f7f7\"], [0.6, \"#e6f5d0\"], [0.7, \"#b8e186\"], [0.8, \"#7fbc41\"], [0.9, \"#4d9221\"], [1, \"#276419\"]], \"sequential\": [[0.0, \"#0d0887\"], [0.1111111111111111, \"#46039f\"], [0.2222222222222222, \"#7201a8\"], [0.3333333333333333, \"#9c179e\"], [0.4444444444444444, \"#bd3786\"], [0.5555555555555556, \"#d8576b\"], [0.6666666666666666, \"#ed7953\"], [0.7777777777777778, \"#fb9f3a\"], [0.8888888888888888, \"#fdca26\"], [1.0, \"#f0f921\"]], \"sequentialminus\": [[0.0, \"#0d0887\"], [0.1111111111111111, \"#46039f\"], [0.2222222222222222, \"#7201a8\"], [0.3333333333333333, \"#9c179e\"], [0.4444444444444444, \"#bd3786\"], [0.5555555555555556, \"#d8576b\"], [0.6666666666666666, \"#ed7953\"], [0.7777777777777778, \"#fb9f3a\"], [0.8888888888888888, \"#fdca26\"], [1.0, \"#f0f921\"]]}, \"colorway\": [\"#636efa\", \"#EF553B\", \"#00cc96\", \"#ab63fa\", \"#FFA15A\", \"#19d3f3\", \"#FF6692\", \"#B6E880\", \"#FF97FF\", \"#FECB52\"], \"font\": {\"color\": \"#2a3f5f\"}, \"geo\": {\"bgcolor\": \"white\", \"lakecolor\": \"white\", \"landcolor\": \"#E5ECF6\", \"showlakes\": true, \"showland\": true, \"subunitcolor\": \"white\"}, \"hoverlabel\": {\"align\": \"left\"}, \"hovermode\": \"closest\", \"mapbox\": {\"style\": \"light\"}, \"paper_bgcolor\": \"white\", \"plot_bgcolor\": \"#E5ECF6\", \"polar\": {\"angularaxis\": {\"gridcolor\": \"white\", \"linecolor\": \"white\", \"ticks\": \"\"}, \"bgcolor\": \"#E5ECF6\", \"radialaxis\": {\"gridcolor\": \"white\", \"linecolor\": \"white\", \"ticks\": \"\"}}, \"scene\": {\"xaxis\": {\"backgroundcolor\": \"#E5ECF6\", \"gridcolor\": \"white\", \"gridwidth\": 2, \"linecolor\": \"white\", \"showbackground\": true, \"ticks\": \"\", \"zerolinecolor\": \"white\"}, \"yaxis\": {\"backgroundcolor\": \"#E5ECF6\", \"gridcolor\": \"white\", \"gridwidth\": 2, \"linecolor\": \"white\", \"showbackground\": true, \"ticks\": \"\", \"zerolinecolor\": \"white\"}, \"zaxis\": {\"backgroundcolor\": \"#E5ECF6\", \"gridcolor\": \"white\", \"gridwidth\": 2, \"linecolor\": \"white\", \"showbackground\": true, \"ticks\": \"\", \"zerolinecolor\": \"white\"}}, \"shapedefaults\": {\"line\": {\"color\": \"#2a3f5f\"}}, \"ternary\": {\"aaxis\": {\"gridcolor\": \"white\", \"linecolor\": \"white\", \"ticks\": \"\"}, \"baxis\": {\"gridcolor\": \"white\", \"linecolor\": \"white\", \"ticks\": \"\"}, \"bgcolor\": \"#E5ECF6\", \"caxis\": {\"gridcolor\": \"white\", \"linecolor\": \"white\", \"ticks\": \"\"}}, \"title\": {\"x\": 0.05}, \"xaxis\": {\"automargin\": true, \"gridcolor\": \"white\", \"linecolor\": \"white\", \"ticks\": \"\", \"title\": {\"standoff\": 15}, \"zerolinecolor\": \"white\", \"zerolinewidth\": 2}, \"yaxis\": {\"automargin\": true, \"gridcolor\": \"white\", \"linecolor\": \"white\", \"ticks\": \"\", \"title\": {\"standoff\": 15}, \"zerolinecolor\": \"white\", \"zerolinewidth\": 2}}}, \"title\": {\"text\": \"Target Class Vs Comment Lenght (After Cleaning)\"}},\n",
       "                        {\"responsive\": true}\n",
       "                    ).then(function(){\n",
       "                            \n",
       "var gd = document.getElementById('9673393a-31a4-4d3b-86e4-a5429e939fed');\n",
       "var x = new MutationObserver(function (mutations, observer) {{\n",
       "        var display = window.getComputedStyle(gd).display;\n",
       "        if (!display || display === 'none') {{\n",
       "            console.log([gd, 'removed!']);\n",
       "            Plotly.purge(gd);\n",
       "            observer.disconnect();\n",
       "        }}\n",
       "}});\n",
       "\n",
       "// Listen for the removal of the full notebook cells\n",
       "var notebookContainer = gd.closest('#notebook-container');\n",
       "if (notebookContainer) {{\n",
       "    x.observe(notebookContainer, {childList: true});\n",
       "}}\n",
       "\n",
       "// Listen for the clearing of the current output cell\n",
       "var outputEl = gd.closest('.output');\n",
       "if (outputEl) {{\n",
       "    x.observe(outputEl, {childList: true});\n",
       "}}\n",
       "\n",
       "                        })\n",
       "                };\n",
       "                });\n",
       "            </script>\n",
       "        </div>"
      ]
     },
     "metadata": {},
     "output_type": "display_data"
    }
   ],
   "source": [
    "data = [\n",
    "    go.Box(\n",
    "        y=df[df['target']==1]['length'],\n",
    "        name='Real'\n",
    "    ),\n",
    "    go.Box(\n",
    "        y=df[df['target']==0]['length'],\n",
    "        name='Not'\n",
    "    ),\n",
    "\n",
    "]\n",
    "layout = go.Layout(\n",
    "    title = 'Target Class Vs Comment Lenght (After Cleaning)'\n",
    ")\n",
    "fig = go.Figure(data=data, layout=layout)\n",
    "fig.show()"
   ]
  },
  {
   "cell_type": "markdown",
   "metadata": {},
   "source": [
    "# PCA Analysis "
   ]
  },
  {
   "cell_type": "code",
   "execution_count": 24,
   "metadata": {
    "_kg_hide-input": true,
    "_kg_hide-output": true
   },
   "outputs": [],
   "source": [
    "from sklearn.feature_extraction.text import CountVectorizer\n",
    "from sklearn.feature_extraction.text import TfidfTransformer\n",
    "from sklearn.decomposition import TruncatedSVD\n",
    "\n",
    "import seaborn as sns\n",
    "\n",
    "def get_tf_idf(df, text_field ='text', sent_field=\"airline_sentiment\"):\n",
    "    # creating bag of words freq counts post tokenizing\n",
    "    count_vect = CountVectorizer()\n",
    "    X_bog = count_vect.fit_transform(df[text_field])\n",
    "\n",
    "    # creating the tf-idf vectors. \n",
    "    tf_transformer = TfidfTransformer(norm='l2')\n",
    "    X = tf_transformer.fit_transform(X_bog)\n",
    "    y = df[sent_field]\n",
    "    return X, y"
   ]
  },
  {
   "cell_type": "markdown",
   "metadata": {},
   "source": [
    "## PCA Analysis - Pre Processed Text"
   ]
  },
  {
   "cell_type": "code",
   "execution_count": 25,
   "metadata": {
    "_kg_hide-input": true,
    "_kg_hide-output": false
   },
   "outputs": [
    {
     "data": {
      "text/plain": [
       "Text(0.5, 1.0, 'Text Vs Target')"
      ]
     },
     "execution_count": 25,
     "metadata": {},
     "output_type": "execute_result"
    },
    {
     "data": {
      "image/png": "[encoded data removed]",
      "text/plain": [
       "<Figure size 432x288 with 1 Axes>"
      ]
     },
     "metadata": {
      "needs_background": "light"
     },
     "output_type": "display_data"
    }
   ],
   "source": [
    "X, y = get_tf_idf(df, \"text_clean\", \"target\")\n",
    "pca = TruncatedSVD(n_components=2, n_iter=7, random_state=4)\n",
    "pca.fit_transform(X.T)\n",
    "ax1 = sns.scatterplot(x=pca.components_[0], y=pca.components_[1], hue=y)\n",
    "plt.title(\"Text Vs Target\")"
   ]
  },
  {
   "cell_type": "markdown",
   "metadata": {},
   "source": [
    "## PCA Analysis - Aspect Terms"
   ]
  },
  {
   "cell_type": "code",
   "execution_count": 26,
   "metadata": {
    "_kg_hide-input": true,
    "_kg_hide-output": false
   },
   "outputs": [
    {
     "data": {
      "text/plain": [
       "Text(0.5, 1.0, 'Aspect Terms Vs Target')"
      ]
     },
     "execution_count": 26,
     "metadata": {},
     "output_type": "execute_result"
    },
    {
     "data": {
      "image/png": "[encoded data removed]",
      "text/plain": [
       "<Figure size 432x288 with 1 Axes>"
      ]
     },
     "metadata": {
      "needs_background": "light"
     },
     "output_type": "display_data"
    }
   ],
   "source": [
    "X, y = get_tf_idf(df, \"Aspect_Terms\", \"target\")\n",
    "pca = TruncatedSVD(n_components=2, n_iter=7, random_state=4)\n",
    "pca.fit_transform(X.T)\n",
    "ax2 = sns.scatterplot(x=pca.components_[0], y=pca.components_[1], hue=y)\n",
    "plt.title(\"Aspect Terms Vs Target\")"
   ]
  },
  {
   "cell_type": "markdown",
   "metadata": {},
   "source": [
    "## PCA Analysis - Sentiment Terms"
   ]
  },
  {
   "cell_type": "code",
   "execution_count": 27,
   "metadata": {
    "_kg_hide-input": true,
    "_kg_hide-output": false
   },
   "outputs": [
    {
     "data": {
      "text/plain": [
       "Text(0.5, 1.0, 'Sentiment Terms Vs Target')"
      ]
     },
     "execution_count": 27,
     "metadata": {},
     "output_type": "execute_result"
    },
    {
     "data": {
      "image/png": "[encoded data removed]",
      "text/plain": [
       "<Figure size 432x288 with 1 Axes>"
      ]
     },
     "metadata": {
      "needs_background": "light"
     },
     "output_type": "display_data"
    }
   ],
   "source": [
    "X, y = get_tf_idf(df, \"Sentiment_terms\", \"target\")\n",
    "pca = TruncatedSVD(n_components=2, n_iter=7, random_state=4)\n",
    "pca.fit_transform(X.T)\n",
    "ax3 = sns.scatterplot(x=pca.components_[0], y=pca.components_[1], hue=y)\n",
    "plt.title(\"Sentiment Terms Vs Target\")"
   ]
  },
  {
   "cell_type": "code",
   "execution_count": 28,
   "metadata": {},
   "outputs": [
    {
     "name": "stdout",
     "output_type": "stream",
     "text": [
      "Working on the Aspect Based Extraction....:) \n"
     ]
    }
   ],
   "source": [
    "print (\"Working on the Aspect Based Extraction....:) \")"
   ]
  },
  {
   "cell_type": "code",
   "execution_count": null,
   "metadata": {},
   "outputs": [],
   "source": []
  }
 ],
 "metadata": {
  "kernelspec": {
   "display_name": "Python 3",
   "language": "python",
   "name": "python3"
  },
  "language_info": {
   "codemirror_mode": {
    "name": "ipython",
    "version": 3
   },
   "file_extension": ".py",
   "mimetype": "text/x-python",
   "name": "python",
   "nbconvert_exporter": "python",
   "pygments_lexer": "ipython3",
   "version": "3.6.6"
  }
 },
 "nbformat": 4,
 "nbformat_minor": 1
}
